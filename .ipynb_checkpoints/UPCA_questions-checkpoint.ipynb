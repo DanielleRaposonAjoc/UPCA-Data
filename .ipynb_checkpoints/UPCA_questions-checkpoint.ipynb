{
 "cells": [
  {
   "cell_type": "code",
   "execution_count": null,
   "id": "d302cafa-eb03-49c8-a52f-87af84d07298",
   "metadata": {},
   "outputs": [],
   "source": []
  },
  {
   "cell_type": "markdown",
   "id": "08406e55-722f-4638-9499-d102c2a69cb3",
   "metadata": {},
   "source": [
    "## Questions to Ask\n",
    "Passers  \n",
    "1)What UP campuses have the most number of passers?  \n",
    "2)What percent of pisay applicants in UP campuses, got in their first choice?  \n",
    "3)What courses have the most number of passers?  \n",
    "4)Did the passers get in their first campus choice?  \n",
    "4)What course choice did the passers get in?  \n",
    "4)Did those who pass UP, pursue UP?  \n",
    "5)Did those who get their first course choice in UP, pursue UP?  \n",
    "6)What course of the passers pursued UP?  "
   ]
  }
 ],
 "metadata": {
  "kernelspec": {
   "display_name": "Python 3 (ipykernel)",
   "language": "python",
   "name": "python3"
  },
  "language_info": {
   "codemirror_mode": {
    "name": "ipython",
    "version": 3
   },
   "file_extension": ".py",
   "mimetype": "text/x-python",
   "name": "python",
   "nbconvert_exporter": "python",
   "pygments_lexer": "ipython3",
   "version": "3.7.7"
  }
 },
 "nbformat": 4,
 "nbformat_minor": 5
}
