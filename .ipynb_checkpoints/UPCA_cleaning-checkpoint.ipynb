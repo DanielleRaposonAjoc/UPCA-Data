{
 "cells": [
  {
   "cell_type": "code",
   "execution_count": 1,
   "id": "4d65ffcb-aa56-472a-af15-82035e284adf",
   "metadata": {},
   "outputs": [],
   "source": [
    "import pandas as pd\n",
    "import numpy as np"
   ]
  },
  {
   "cell_type": "code",
   "execution_count": 2,
   "id": "4d10b171-8474-4ce5-a5dd-676fa09c800f",
   "metadata": {},
   "outputs": [],
   "source": [
    "## Download the Data"
   ]
  },
  {
   "cell_type": "code",
   "execution_count": 3,
   "id": "797aa575-7f05-423e-833d-fcc2ba7a9b2a",
   "metadata": {},
   "outputs": [],
   "source": [
    "df_crc=pd.read_csv(\"./CRC.csv\")\n",
    "df_crc[\"campus\"]=\"crc\"\n",
    "df_carc=pd.read_csv(\"./CARC.csv\")\n",
    "df_carc[\"campus\"]=\"carc\"\n",
    "df_cbzrc=pd.read_csv(\"./CBZRC.csv\")\n",
    "df_cbzrc[\"campus\"]=\"cbzrc\"\n",
    "df_clc=pd.read_csv(\"./CLC.csv\")\n",
    "df_clc[\"campus\"]=\"clc\"\n",
    "df_cvc=pd.read_csv(\"./CVC.csv\")\n",
    "df_cvc[\"campus\"]=\"cvc\"\n",
    "df_evc=pd.read_csv(\"./EVC.csv\")\n",
    "df_evc[\"campus\"]=\"evc\"\n",
    "df_irc=pd.read_csv(\"./IRC.csv\")\n",
    "df_irc[\"campus\"]=\"irc\"\n",
    "df_smc=pd.read_csv(\"./SMC.csv\")\n",
    "df_smc[\"campus\"]=\"smc\"\n",
    "df_src=pd.read_csv(\"./SRC.csv\")\n",
    "df_src[\"campus\"]=\"src\"\n",
    "df_wvc=pd.read_csv(\"./WVC.csv\")\n",
    "df_wvc[\"campus\"]=\"wvc\"\n",
    "df_main=pd.read_csv(\"./MAIN.csv\")\n",
    "df_main[\"campus\"]=\"main\""
   ]
  },
  {
   "cell_type": "markdown",
   "id": "62aa6de4-d6e1-4ae0-a767-a1f279c626de",
   "metadata": {},
   "source": [
    "## raw data"
   ]
  },
  {
   "cell_type": "code",
   "execution_count": 4,
   "id": "ace39032-9d36-4fb3-b845-7ad4d4ed71c3",
   "metadata": {},
   "outputs": [
    {
     "name": "stdout",
     "output_type": "stream",
     "text": [
      "<class 'pandas.core.frame.DataFrame'>\n",
      "RangeIndex: 58 entries, 0 to 57\n",
      "Data columns (total 14 columns):\n",
      " #   Column                                                                                                              Non-Null Count  Dtype \n",
      "---  ------                                                                                                              --------------  ----- \n",
      " 0   Timestamp                                                                                                           58 non-null     object\n",
      " 1   LAST NAME (ALL CAPS) - OPTIONAL                                                                                     17 non-null     object\n",
      " 2   FIRST NAME (ALL CAPS)  - OPTIONAL                                                                                   12 non-null     object\n",
      " 3   Did you pass the UPCA?                                                                                              58 non-null     object\n",
      " 4   In which course did you pass? (kindy fill-in the exact name of the course as seen in the letter in ALL CAPS)        6 non-null      object\n",
      " 5   My above course is my ___ choice.                                                                                   6 non-null      object\n",
      " 6   In which campus?                                                                                                    6 non-null      object\n",
      " 7   Is it your first campus choice?                                                                                     6 non-null      object\n",
      " 8   Will you pursue UP?                                                                                                 6 non-null      object\n",
      " 9   If not, then at what University do you plan to study?                                                               3 non-null      object\n",
      " 10  In which course are you waitlisted? (kindy fill-in the exact name of the course as seen in the letter in ALL CAPS)  2 non-null      object\n",
      " 11  In what campus?                                                                                                     2 non-null      object\n",
      " 12  In what campus?.1                                                                                                   8 non-null      object\n",
      " 13  campus                                                                                                              58 non-null     object\n",
      "dtypes: object(14)\n",
      "memory usage: 6.5+ KB\n"
     ]
    }
   ],
   "source": [
    "df_crc.info()"
   ]
  },
  {
   "cell_type": "code",
   "execution_count": 5,
   "id": "6a3f7f63-802a-4d48-9371-14561b7e7b8e",
   "metadata": {},
   "outputs": [
    {
     "data": {
      "text/html": [
       "<div>\n",
       "<style scoped>\n",
       "    .dataframe tbody tr th:only-of-type {\n",
       "        vertical-align: middle;\n",
       "    }\n",
       "\n",
       "    .dataframe tbody tr th {\n",
       "        vertical-align: top;\n",
       "    }\n",
       "\n",
       "    .dataframe thead th {\n",
       "        text-align: right;\n",
       "    }\n",
       "</style>\n",
       "<table border=\"1\" class=\"dataframe\">\n",
       "  <thead>\n",
       "    <tr style=\"text-align: right;\">\n",
       "      <th></th>\n",
       "      <th>Timestamp</th>\n",
       "      <th>Email Address</th>\n",
       "      <th>UP College Admission Status (CAMPUS)</th>\n",
       "      <th>UP College Admission Status (COURSE)</th>\n",
       "      <th>Accepted Campus (e.g. UPD, UPM, UPLB)</th>\n",
       "      <th>Accepted Course (e.g. BS Computer Science, BS Public Health, BS Psychology)</th>\n",
       "      <th>Concerns/Questions?</th>\n",
       "      <th>How many course choices did you indicate in your FORM 1 for your FIRST CHOICE campus?</th>\n",
       "      <th>How many course choices did you indicate in your FORM 1 for your SECOND CHOICE campus?</th>\n",
       "      <th>campus</th>\n",
       "    </tr>\n",
       "  </thead>\n",
       "  <tbody>\n",
       "    <tr>\n",
       "      <th>0</th>\n",
       "      <td>7/15/2021 12:16:21</td>\n",
       "      <td>b21.jeremy.bansil@pshs.edu.ph</td>\n",
       "      <td>Accepted - First Choice</td>\n",
       "      <td>Accepted - First Choice</td>\n",
       "      <td>UPD</td>\n",
       "      <td>BS Food Technology</td>\n",
       "      <td>NaN</td>\n",
       "      <td>NaN</td>\n",
       "      <td>NaN</td>\n",
       "      <td>main</td>\n",
       "    </tr>\n",
       "    <tr>\n",
       "      <th>1</th>\n",
       "      <td>7/15/2021 12:16:22</td>\n",
       "      <td>b21.bethena.balanon@pshs.edu.ph</td>\n",
       "      <td>Accepted - First Choice</td>\n",
       "      <td>Accepted - First Choice</td>\n",
       "      <td>UPD</td>\n",
       "      <td>BS Chemical Engineering</td>\n",
       "      <td>None. God bless our batch 🥺</td>\n",
       "      <td>NaN</td>\n",
       "      <td>NaN</td>\n",
       "      <td>main</td>\n",
       "    </tr>\n",
       "    <tr>\n",
       "      <th>2</th>\n",
       "      <td>7/15/2021 12:16:32</td>\n",
       "      <td>b21.alex.gagalac@pshs.edu.ph</td>\n",
       "      <td>Accepted - First Choice</td>\n",
       "      <td>Accepted - First Choice</td>\n",
       "      <td>UPD</td>\n",
       "      <td>BS Molecular Biology and Biotechnology</td>\n",
       "      <td>NaN</td>\n",
       "      <td>NaN</td>\n",
       "      <td>NaN</td>\n",
       "      <td>main</td>\n",
       "    </tr>\n",
       "    <tr>\n",
       "      <th>3</th>\n",
       "      <td>7/15/2021 12:16:37</td>\n",
       "      <td>b21.harvey.tan@pshs.edu.ph</td>\n",
       "      <td>Accepted - First Choice</td>\n",
       "      <td>Accepted - Third Choice</td>\n",
       "      <td>UPD</td>\n",
       "      <td>BS Materials Engineering</td>\n",
       "      <td>NaN</td>\n",
       "      <td>NaN</td>\n",
       "      <td>NaN</td>\n",
       "      <td>main</td>\n",
       "    </tr>\n",
       "    <tr>\n",
       "      <th>4</th>\n",
       "      <td>7/15/2021 12:16:38</td>\n",
       "      <td>b21.eliana.regala@pshs.edu.ph</td>\n",
       "      <td>Accepted - First Choice</td>\n",
       "      <td>Accepted - First Choice</td>\n",
       "      <td>UPD</td>\n",
       "      <td>BS Psychology</td>\n",
       "      <td>Hugs to those who didn't pass &lt;333</td>\n",
       "      <td>NaN</td>\n",
       "      <td>NaN</td>\n",
       "      <td>main</td>\n",
       "    </tr>\n",
       "    <tr>\n",
       "      <th>...</th>\n",
       "      <td>...</td>\n",
       "      <td>...</td>\n",
       "      <td>...</td>\n",
       "      <td>...</td>\n",
       "      <td>...</td>\n",
       "      <td>...</td>\n",
       "      <td>...</td>\n",
       "      <td>...</td>\n",
       "      <td>...</td>\n",
       "      <td>...</td>\n",
       "    </tr>\n",
       "    <tr>\n",
       "      <th>186</th>\n",
       "      <td>7/16/2021 9:41:06</td>\n",
       "      <td>b21.michelle.sanmateo@pshs.edu.ph</td>\n",
       "      <td>Not Accepted</td>\n",
       "      <td>NaN</td>\n",
       "      <td>NaN</td>\n",
       "      <td>NaN</td>\n",
       "      <td>NaN</td>\n",
       "      <td>4.0</td>\n",
       "      <td>4.0</td>\n",
       "      <td>main</td>\n",
       "    </tr>\n",
       "    <tr>\n",
       "      <th>187</th>\n",
       "      <td>7/16/2021 11:39:29</td>\n",
       "      <td>b21.kevin.tejada@pshs.edu.ph</td>\n",
       "      <td>Accepted - First Choice</td>\n",
       "      <td>Accepted - First Choice</td>\n",
       "      <td>UPM</td>\n",
       "      <td>BS Public Health</td>\n",
       "      <td>NaN</td>\n",
       "      <td>4.0</td>\n",
       "      <td>4.0</td>\n",
       "      <td>main</td>\n",
       "    </tr>\n",
       "    <tr>\n",
       "      <th>188</th>\n",
       "      <td>7/16/2021 18:29:34</td>\n",
       "      <td>b21.zairah.taloma@pshs.edu.ph</td>\n",
       "      <td>Accepted - First Choice</td>\n",
       "      <td>Accepted - Third Choice</td>\n",
       "      <td>UPD</td>\n",
       "      <td>BS Materials Engineering</td>\n",
       "      <td>NaN</td>\n",
       "      <td>4.0</td>\n",
       "      <td>4.0</td>\n",
       "      <td>main</td>\n",
       "    </tr>\n",
       "    <tr>\n",
       "      <th>189</th>\n",
       "      <td>7/16/2021 18:36:58</td>\n",
       "      <td>b21.bemas.cabida@pshs.edu.ph</td>\n",
       "      <td>Accepted - First Choice</td>\n",
       "      <td>Accepted - Second Choice</td>\n",
       "      <td>UPD</td>\n",
       "      <td>Electronics Engineering</td>\n",
       "      <td>NaN</td>\n",
       "      <td>4.0</td>\n",
       "      <td>3.0</td>\n",
       "      <td>main</td>\n",
       "    </tr>\n",
       "    <tr>\n",
       "      <th>190</th>\n",
       "      <td>7/16/2021 19:09:41</td>\n",
       "      <td>b21.ernestina.tagle@pshs.edu.ph</td>\n",
       "      <td>Not Accepted</td>\n",
       "      <td>NaN</td>\n",
       "      <td>NaN</td>\n",
       "      <td>NaN</td>\n",
       "      <td>NaN</td>\n",
       "      <td>4.0</td>\n",
       "      <td>4.0</td>\n",
       "      <td>main</td>\n",
       "    </tr>\n",
       "  </tbody>\n",
       "</table>\n",
       "<p>191 rows × 10 columns</p>\n",
       "</div>"
      ],
      "text/plain": [
       "              Timestamp                      Email Address  \\\n",
       "0    7/15/2021 12:16:21      b21.jeremy.bansil@pshs.edu.ph   \n",
       "1    7/15/2021 12:16:22    b21.bethena.balanon@pshs.edu.ph   \n",
       "2    7/15/2021 12:16:32       b21.alex.gagalac@pshs.edu.ph   \n",
       "3    7/15/2021 12:16:37         b21.harvey.tan@pshs.edu.ph   \n",
       "4    7/15/2021 12:16:38      b21.eliana.regala@pshs.edu.ph   \n",
       "..                  ...                                ...   \n",
       "186   7/16/2021 9:41:06  b21.michelle.sanmateo@pshs.edu.ph   \n",
       "187  7/16/2021 11:39:29       b21.kevin.tejada@pshs.edu.ph   \n",
       "188  7/16/2021 18:29:34      b21.zairah.taloma@pshs.edu.ph   \n",
       "189  7/16/2021 18:36:58       b21.bemas.cabida@pshs.edu.ph   \n",
       "190  7/16/2021 19:09:41    b21.ernestina.tagle@pshs.edu.ph   \n",
       "\n",
       "    UP College Admission Status (CAMPUS) UP College Admission Status (COURSE)  \\\n",
       "0                Accepted - First Choice              Accepted - First Choice   \n",
       "1                Accepted - First Choice              Accepted - First Choice   \n",
       "2                Accepted - First Choice              Accepted - First Choice   \n",
       "3                Accepted - First Choice              Accepted - Third Choice   \n",
       "4                Accepted - First Choice              Accepted - First Choice   \n",
       "..                                   ...                                  ...   \n",
       "186                         Not Accepted                                  NaN   \n",
       "187              Accepted - First Choice              Accepted - First Choice   \n",
       "188              Accepted - First Choice              Accepted - Third Choice   \n",
       "189              Accepted - First Choice             Accepted - Second Choice   \n",
       "190                         Not Accepted                                  NaN   \n",
       "\n",
       "    Accepted Campus (e.g. UPD, UPM, UPLB)  \\\n",
       "0                                     UPD   \n",
       "1                                     UPD   \n",
       "2                                     UPD   \n",
       "3                                     UPD   \n",
       "4                                     UPD   \n",
       "..                                    ...   \n",
       "186                                   NaN   \n",
       "187                                   UPM   \n",
       "188                                   UPD   \n",
       "189                                   UPD   \n",
       "190                                   NaN   \n",
       "\n",
       "    Accepted Course (e.g. BS Computer Science, BS Public Health, BS Psychology)  \\\n",
       "0                                   BS Food Technology                            \n",
       "1                              BS Chemical Engineering                            \n",
       "2              BS Molecular Biology and Biotechnology                             \n",
       "3                             BS Materials Engineering                            \n",
       "4                                        BS Psychology                            \n",
       "..                                                 ...                            \n",
       "186                                                NaN                            \n",
       "187                                   BS Public Health                            \n",
       "188                           BS Materials Engineering                            \n",
       "189                            Electronics Engineering                            \n",
       "190                                                NaN                            \n",
       "\n",
       "                    Concerns/Questions?  \\\n",
       "0                                   NaN   \n",
       "1           None. God bless our batch 🥺   \n",
       "2                                   NaN   \n",
       "3                                   NaN   \n",
       "4    Hugs to those who didn't pass <333   \n",
       "..                                  ...   \n",
       "186                                 NaN   \n",
       "187                                 NaN   \n",
       "188                                 NaN   \n",
       "189                                 NaN   \n",
       "190                                 NaN   \n",
       "\n",
       "     How many course choices did you indicate in your FORM 1 for your FIRST CHOICE campus?  \\\n",
       "0                                                  NaN                                       \n",
       "1                                                  NaN                                       \n",
       "2                                                  NaN                                       \n",
       "3                                                  NaN                                       \n",
       "4                                                  NaN                                       \n",
       "..                                                 ...                                       \n",
       "186                                                4.0                                       \n",
       "187                                                4.0                                       \n",
       "188                                                4.0                                       \n",
       "189                                                4.0                                       \n",
       "190                                                4.0                                       \n",
       "\n",
       "     How many course choices did you indicate in your FORM 1 for your SECOND CHOICE campus?  \\\n",
       "0                                                  NaN                                        \n",
       "1                                                  NaN                                        \n",
       "2                                                  NaN                                        \n",
       "3                                                  NaN                                        \n",
       "4                                                  NaN                                        \n",
       "..                                                 ...                                        \n",
       "186                                                4.0                                        \n",
       "187                                                4.0                                        \n",
       "188                                                4.0                                        \n",
       "189                                                3.0                                        \n",
       "190                                                4.0                                        \n",
       "\n",
       "    campus  \n",
       "0     main  \n",
       "1     main  \n",
       "2     main  \n",
       "3     main  \n",
       "4     main  \n",
       "..     ...  \n",
       "186   main  \n",
       "187   main  \n",
       "188   main  \n",
       "189   main  \n",
       "190   main  \n",
       "\n",
       "[191 rows x 10 columns]"
      ]
     },
     "execution_count": 5,
     "metadata": {},
     "output_type": "execute_result"
    }
   ],
   "source": [
    "#cleaning main separately because they used a different format\n",
    "df_main"
   ]
  },
  {
   "cell_type": "code",
   "execution_count": 6,
   "id": "be360420-564d-44b7-a628-6d613ec58795",
   "metadata": {},
   "outputs": [
    {
     "data": {
      "text/plain": [
       "0       Accepted - First Choice\n",
       "1       Accepted - First Choice\n",
       "2       Accepted - First Choice\n",
       "3       Accepted - Third Choice\n",
       "4       Accepted - First Choice\n",
       "                 ...           \n",
       "186                         NaN\n",
       "187     Accepted - First Choice\n",
       "188     Accepted - Third Choice\n",
       "189    Accepted - Second Choice\n",
       "190                         NaN\n",
       "Name: UP College Admission Status (COURSE), Length: 191, dtype: object"
      ]
     },
     "execution_count": 6,
     "metadata": {},
     "output_type": "execute_result"
    }
   ],
   "source": [
    "df_main[\"UP College Admission Status (COURSE)\"]"
   ]
  },
  {
   "cell_type": "code",
   "execution_count": 7,
   "id": "fd66815b-1834-4af1-a36e-ed0a35f80e1e",
   "metadata": {},
   "outputs": [],
   "source": [
    "def getCampusStatus(df):\n",
    "    combined=df[\"UP College Admission Status (CAMPUS)\"]\n",
    "    return combined.split(\" - \")[0]\n"
   ]
  },
  {
   "cell_type": "code",
   "execution_count": 8,
   "id": "55f978b3-cc84-4acc-8754-3cd38dd6a626",
   "metadata": {},
   "outputs": [],
   "source": [
    "def getCampusChoice(df):\n",
    "    combined=df[\"UP College Admission Status (CAMPUS)\"]\n",
    "    split=combined.split(\" - \")\n",
    "    if(len(split)>1):\n",
    "        return combined.split(\" - \")[1]\n",
    "    return np.nan\n",
    "    \n"
   ]
  },
  {
   "cell_type": "code",
   "execution_count": 9,
   "id": "dcfd5de0-28e7-4699-befa-40cbcb794af6",
   "metadata": {},
   "outputs": [],
   "source": [
    "def getCourseChoice(df):\n",
    "    if(df[\"UP College Admission Status (COURSE)\"] is np.nan):\n",
    "        return np.nan\n",
    "    combined=df[\"UP College Admission Status (COURSE)\"]\n",
    "    return combined.split(\" - \")[1]"
   ]
  },
  {
   "cell_type": "code",
   "execution_count": 10,
   "id": "194d80f4-bc3f-46f4-b48d-ed99c54140ae",
   "metadata": {},
   "outputs": [
    {
     "data": {
      "text/html": [
       "<div>\n",
       "<style scoped>\n",
       "    .dataframe tbody tr th:only-of-type {\n",
       "        vertical-align: middle;\n",
       "    }\n",
       "\n",
       "    .dataframe tbody tr th {\n",
       "        vertical-align: top;\n",
       "    }\n",
       "\n",
       "    .dataframe thead th {\n",
       "        text-align: right;\n",
       "    }\n",
       "</style>\n",
       "<table border=\"1\" class=\"dataframe\">\n",
       "  <thead>\n",
       "    <tr style=\"text-align: right;\">\n",
       "      <th></th>\n",
       "      <th>Timestamp</th>\n",
       "      <th>Email Address</th>\n",
       "      <th>UP College Admission Status (CAMPUS)</th>\n",
       "      <th>UP College Admission Status (COURSE)</th>\n",
       "      <th>Accepted Campus (e.g. UPD, UPM, UPLB)</th>\n",
       "      <th>Accepted Course (e.g. BS Computer Science, BS Public Health, BS Psychology)</th>\n",
       "      <th>Concerns/Questions?</th>\n",
       "      <th>How many course choices did you indicate in your FORM 1 for your FIRST CHOICE campus?</th>\n",
       "      <th>How many course choices did you indicate in your FORM 1 for your SECOND CHOICE campus?</th>\n",
       "      <th>campus</th>\n",
       "      <th>Did you pass the UPCA?</th>\n",
       "      <th>In which course did you pass? (kindy fill-in the exact name of the course as seen in the letter in ALL CAPS)</th>\n",
       "      <th>In which campus?</th>\n",
       "      <th>Is it your first campus choice?</th>\n",
       "      <th>My above course is my ___ choice.</th>\n",
       "    </tr>\n",
       "  </thead>\n",
       "  <tbody>\n",
       "    <tr>\n",
       "      <th>0</th>\n",
       "      <td>7/15/2021 12:16:21</td>\n",
       "      <td>b21.jeremy.bansil@pshs.edu.ph</td>\n",
       "      <td>Accepted - First Choice</td>\n",
       "      <td>Accepted - First Choice</td>\n",
       "      <td>UPD</td>\n",
       "      <td>BS Food Technology</td>\n",
       "      <td>NaN</td>\n",
       "      <td>NaN</td>\n",
       "      <td>NaN</td>\n",
       "      <td>main</td>\n",
       "      <td>Accepted</td>\n",
       "      <td>BS Food Technology</td>\n",
       "      <td>UPD</td>\n",
       "      <td>First Choice</td>\n",
       "      <td>First Choice</td>\n",
       "    </tr>\n",
       "    <tr>\n",
       "      <th>1</th>\n",
       "      <td>7/15/2021 12:16:22</td>\n",
       "      <td>b21.bethena.balanon@pshs.edu.ph</td>\n",
       "      <td>Accepted - First Choice</td>\n",
       "      <td>Accepted - First Choice</td>\n",
       "      <td>UPD</td>\n",
       "      <td>BS Chemical Engineering</td>\n",
       "      <td>None. God bless our batch 🥺</td>\n",
       "      <td>NaN</td>\n",
       "      <td>NaN</td>\n",
       "      <td>main</td>\n",
       "      <td>Accepted</td>\n",
       "      <td>BS Chemical Engineering</td>\n",
       "      <td>UPD</td>\n",
       "      <td>First Choice</td>\n",
       "      <td>First Choice</td>\n",
       "    </tr>\n",
       "    <tr>\n",
       "      <th>2</th>\n",
       "      <td>7/15/2021 12:16:32</td>\n",
       "      <td>b21.alex.gagalac@pshs.edu.ph</td>\n",
       "      <td>Accepted - First Choice</td>\n",
       "      <td>Accepted - First Choice</td>\n",
       "      <td>UPD</td>\n",
       "      <td>BS Molecular Biology and Biotechnology</td>\n",
       "      <td>NaN</td>\n",
       "      <td>NaN</td>\n",
       "      <td>NaN</td>\n",
       "      <td>main</td>\n",
       "      <td>Accepted</td>\n",
       "      <td>BS Molecular Biology and Biotechnology</td>\n",
       "      <td>UPD</td>\n",
       "      <td>First Choice</td>\n",
       "      <td>First Choice</td>\n",
       "    </tr>\n",
       "    <tr>\n",
       "      <th>3</th>\n",
       "      <td>7/15/2021 12:16:37</td>\n",
       "      <td>b21.harvey.tan@pshs.edu.ph</td>\n",
       "      <td>Accepted - First Choice</td>\n",
       "      <td>Accepted - Third Choice</td>\n",
       "      <td>UPD</td>\n",
       "      <td>BS Materials Engineering</td>\n",
       "      <td>NaN</td>\n",
       "      <td>NaN</td>\n",
       "      <td>NaN</td>\n",
       "      <td>main</td>\n",
       "      <td>Accepted</td>\n",
       "      <td>BS Materials Engineering</td>\n",
       "      <td>UPD</td>\n",
       "      <td>First Choice</td>\n",
       "      <td>Third Choice</td>\n",
       "    </tr>\n",
       "    <tr>\n",
       "      <th>4</th>\n",
       "      <td>7/15/2021 12:16:38</td>\n",
       "      <td>b21.eliana.regala@pshs.edu.ph</td>\n",
       "      <td>Accepted - First Choice</td>\n",
       "      <td>Accepted - First Choice</td>\n",
       "      <td>UPD</td>\n",
       "      <td>BS Psychology</td>\n",
       "      <td>Hugs to those who didn't pass &lt;333</td>\n",
       "      <td>NaN</td>\n",
       "      <td>NaN</td>\n",
       "      <td>main</td>\n",
       "      <td>Accepted</td>\n",
       "      <td>BS Psychology</td>\n",
       "      <td>UPD</td>\n",
       "      <td>First Choice</td>\n",
       "      <td>First Choice</td>\n",
       "    </tr>\n",
       "    <tr>\n",
       "      <th>...</th>\n",
       "      <td>...</td>\n",
       "      <td>...</td>\n",
       "      <td>...</td>\n",
       "      <td>...</td>\n",
       "      <td>...</td>\n",
       "      <td>...</td>\n",
       "      <td>...</td>\n",
       "      <td>...</td>\n",
       "      <td>...</td>\n",
       "      <td>...</td>\n",
       "      <td>...</td>\n",
       "      <td>...</td>\n",
       "      <td>...</td>\n",
       "      <td>...</td>\n",
       "      <td>...</td>\n",
       "    </tr>\n",
       "    <tr>\n",
       "      <th>186</th>\n",
       "      <td>7/16/2021 9:41:06</td>\n",
       "      <td>b21.michelle.sanmateo@pshs.edu.ph</td>\n",
       "      <td>Not Accepted</td>\n",
       "      <td>NaN</td>\n",
       "      <td>NaN</td>\n",
       "      <td>NaN</td>\n",
       "      <td>NaN</td>\n",
       "      <td>4.0</td>\n",
       "      <td>4.0</td>\n",
       "      <td>main</td>\n",
       "      <td>Not Accepted</td>\n",
       "      <td>NaN</td>\n",
       "      <td>NaN</td>\n",
       "      <td>NaN</td>\n",
       "      <td>NaN</td>\n",
       "    </tr>\n",
       "    <tr>\n",
       "      <th>187</th>\n",
       "      <td>7/16/2021 11:39:29</td>\n",
       "      <td>b21.kevin.tejada@pshs.edu.ph</td>\n",
       "      <td>Accepted - First Choice</td>\n",
       "      <td>Accepted - First Choice</td>\n",
       "      <td>UPM</td>\n",
       "      <td>BS Public Health</td>\n",
       "      <td>NaN</td>\n",
       "      <td>4.0</td>\n",
       "      <td>4.0</td>\n",
       "      <td>main</td>\n",
       "      <td>Accepted</td>\n",
       "      <td>BS Public Health</td>\n",
       "      <td>UPM</td>\n",
       "      <td>First Choice</td>\n",
       "      <td>First Choice</td>\n",
       "    </tr>\n",
       "    <tr>\n",
       "      <th>188</th>\n",
       "      <td>7/16/2021 18:29:34</td>\n",
       "      <td>b21.zairah.taloma@pshs.edu.ph</td>\n",
       "      <td>Accepted - First Choice</td>\n",
       "      <td>Accepted - Third Choice</td>\n",
       "      <td>UPD</td>\n",
       "      <td>BS Materials Engineering</td>\n",
       "      <td>NaN</td>\n",
       "      <td>4.0</td>\n",
       "      <td>4.0</td>\n",
       "      <td>main</td>\n",
       "      <td>Accepted</td>\n",
       "      <td>BS Materials Engineering</td>\n",
       "      <td>UPD</td>\n",
       "      <td>First Choice</td>\n",
       "      <td>Third Choice</td>\n",
       "    </tr>\n",
       "    <tr>\n",
       "      <th>189</th>\n",
       "      <td>7/16/2021 18:36:58</td>\n",
       "      <td>b21.bemas.cabida@pshs.edu.ph</td>\n",
       "      <td>Accepted - First Choice</td>\n",
       "      <td>Accepted - Second Choice</td>\n",
       "      <td>UPD</td>\n",
       "      <td>Electronics Engineering</td>\n",
       "      <td>NaN</td>\n",
       "      <td>4.0</td>\n",
       "      <td>3.0</td>\n",
       "      <td>main</td>\n",
       "      <td>Accepted</td>\n",
       "      <td>Electronics Engineering</td>\n",
       "      <td>UPD</td>\n",
       "      <td>First Choice</td>\n",
       "      <td>Second Choice</td>\n",
       "    </tr>\n",
       "    <tr>\n",
       "      <th>190</th>\n",
       "      <td>7/16/2021 19:09:41</td>\n",
       "      <td>b21.ernestina.tagle@pshs.edu.ph</td>\n",
       "      <td>Not Accepted</td>\n",
       "      <td>NaN</td>\n",
       "      <td>NaN</td>\n",
       "      <td>NaN</td>\n",
       "      <td>NaN</td>\n",
       "      <td>4.0</td>\n",
       "      <td>4.0</td>\n",
       "      <td>main</td>\n",
       "      <td>Not Accepted</td>\n",
       "      <td>NaN</td>\n",
       "      <td>NaN</td>\n",
       "      <td>NaN</td>\n",
       "      <td>NaN</td>\n",
       "    </tr>\n",
       "  </tbody>\n",
       "</table>\n",
       "<p>191 rows × 15 columns</p>\n",
       "</div>"
      ],
      "text/plain": [
       "              Timestamp                      Email Address  \\\n",
       "0    7/15/2021 12:16:21      b21.jeremy.bansil@pshs.edu.ph   \n",
       "1    7/15/2021 12:16:22    b21.bethena.balanon@pshs.edu.ph   \n",
       "2    7/15/2021 12:16:32       b21.alex.gagalac@pshs.edu.ph   \n",
       "3    7/15/2021 12:16:37         b21.harvey.tan@pshs.edu.ph   \n",
       "4    7/15/2021 12:16:38      b21.eliana.regala@pshs.edu.ph   \n",
       "..                  ...                                ...   \n",
       "186   7/16/2021 9:41:06  b21.michelle.sanmateo@pshs.edu.ph   \n",
       "187  7/16/2021 11:39:29       b21.kevin.tejada@pshs.edu.ph   \n",
       "188  7/16/2021 18:29:34      b21.zairah.taloma@pshs.edu.ph   \n",
       "189  7/16/2021 18:36:58       b21.bemas.cabida@pshs.edu.ph   \n",
       "190  7/16/2021 19:09:41    b21.ernestina.tagle@pshs.edu.ph   \n",
       "\n",
       "    UP College Admission Status (CAMPUS) UP College Admission Status (COURSE)  \\\n",
       "0                Accepted - First Choice              Accepted - First Choice   \n",
       "1                Accepted - First Choice              Accepted - First Choice   \n",
       "2                Accepted - First Choice              Accepted - First Choice   \n",
       "3                Accepted - First Choice              Accepted - Third Choice   \n",
       "4                Accepted - First Choice              Accepted - First Choice   \n",
       "..                                   ...                                  ...   \n",
       "186                         Not Accepted                                  NaN   \n",
       "187              Accepted - First Choice              Accepted - First Choice   \n",
       "188              Accepted - First Choice              Accepted - Third Choice   \n",
       "189              Accepted - First Choice             Accepted - Second Choice   \n",
       "190                         Not Accepted                                  NaN   \n",
       "\n",
       "    Accepted Campus (e.g. UPD, UPM, UPLB)  \\\n",
       "0                                     UPD   \n",
       "1                                     UPD   \n",
       "2                                     UPD   \n",
       "3                                     UPD   \n",
       "4                                     UPD   \n",
       "..                                    ...   \n",
       "186                                   NaN   \n",
       "187                                   UPM   \n",
       "188                                   UPD   \n",
       "189                                   UPD   \n",
       "190                                   NaN   \n",
       "\n",
       "    Accepted Course (e.g. BS Computer Science, BS Public Health, BS Psychology)  \\\n",
       "0                                   BS Food Technology                            \n",
       "1                              BS Chemical Engineering                            \n",
       "2              BS Molecular Biology and Biotechnology                             \n",
       "3                             BS Materials Engineering                            \n",
       "4                                        BS Psychology                            \n",
       "..                                                 ...                            \n",
       "186                                                NaN                            \n",
       "187                                   BS Public Health                            \n",
       "188                           BS Materials Engineering                            \n",
       "189                            Electronics Engineering                            \n",
       "190                                                NaN                            \n",
       "\n",
       "                    Concerns/Questions?  \\\n",
       "0                                   NaN   \n",
       "1           None. God bless our batch 🥺   \n",
       "2                                   NaN   \n",
       "3                                   NaN   \n",
       "4    Hugs to those who didn't pass <333   \n",
       "..                                  ...   \n",
       "186                                 NaN   \n",
       "187                                 NaN   \n",
       "188                                 NaN   \n",
       "189                                 NaN   \n",
       "190                                 NaN   \n",
       "\n",
       "     How many course choices did you indicate in your FORM 1 for your FIRST CHOICE campus?  \\\n",
       "0                                                  NaN                                       \n",
       "1                                                  NaN                                       \n",
       "2                                                  NaN                                       \n",
       "3                                                  NaN                                       \n",
       "4                                                  NaN                                       \n",
       "..                                                 ...                                       \n",
       "186                                                4.0                                       \n",
       "187                                                4.0                                       \n",
       "188                                                4.0                                       \n",
       "189                                                4.0                                       \n",
       "190                                                4.0                                       \n",
       "\n",
       "     How many course choices did you indicate in your FORM 1 for your SECOND CHOICE campus?  \\\n",
       "0                                                  NaN                                        \n",
       "1                                                  NaN                                        \n",
       "2                                                  NaN                                        \n",
       "3                                                  NaN                                        \n",
       "4                                                  NaN                                        \n",
       "..                                                 ...                                        \n",
       "186                                                4.0                                        \n",
       "187                                                4.0                                        \n",
       "188                                                4.0                                        \n",
       "189                                                3.0                                        \n",
       "190                                                4.0                                        \n",
       "\n",
       "    campus Did you pass the UPCA?   \\\n",
       "0     main                Accepted   \n",
       "1     main                Accepted   \n",
       "2     main                Accepted   \n",
       "3     main                Accepted   \n",
       "4     main                Accepted   \n",
       "..     ...                     ...   \n",
       "186   main            Not Accepted   \n",
       "187   main                Accepted   \n",
       "188   main                Accepted   \n",
       "189   main                Accepted   \n",
       "190   main            Not Accepted   \n",
       "\n",
       "    In which course did you pass? (kindy fill-in the exact name of the course as seen in the letter in ALL CAPS)  \\\n",
       "0                                   BS Food Technology                                                             \n",
       "1                              BS Chemical Engineering                                                             \n",
       "2              BS Molecular Biology and Biotechnology                                                              \n",
       "3                             BS Materials Engineering                                                             \n",
       "4                                        BS Psychology                                                             \n",
       "..                                                 ...                                                             \n",
       "186                                                NaN                                                             \n",
       "187                                   BS Public Health                                                             \n",
       "188                           BS Materials Engineering                                                             \n",
       "189                            Electronics Engineering                                                             \n",
       "190                                                NaN                                                             \n",
       "\n",
       "    In which campus? Is it your first campus choice?  \\\n",
       "0                UPD                    First Choice   \n",
       "1                UPD                    First Choice   \n",
       "2                UPD                    First Choice   \n",
       "3                UPD                    First Choice   \n",
       "4                UPD                    First Choice   \n",
       "..               ...                             ...   \n",
       "186              NaN                             NaN   \n",
       "187              UPM                    First Choice   \n",
       "188              UPD                    First Choice   \n",
       "189              UPD                    First Choice   \n",
       "190              NaN                             NaN   \n",
       "\n",
       "    My above course is my ___ choice.  \n",
       "0                        First Choice  \n",
       "1                        First Choice  \n",
       "2                        First Choice  \n",
       "3                        Third Choice  \n",
       "4                        First Choice  \n",
       "..                                ...  \n",
       "186                               NaN  \n",
       "187                      First Choice  \n",
       "188                      Third Choice  \n",
       "189                     Second Choice  \n",
       "190                               NaN  \n",
       "\n",
       "[191 rows x 15 columns]"
      ]
     },
     "execution_count": 10,
     "metadata": {},
     "output_type": "execute_result"
    }
   ],
   "source": [
    "df_main[\"Did you pass the UPCA? \"]=df_main.apply(getCampusStatus,axis=1)\n",
    "df_main[\"In which course did you pass? (kindy fill-in the exact name of the course as seen in the letter in ALL CAPS)\"]=df_main[\"Accepted Course (e.g. BS Computer Science, BS Public Health, BS Psychology)\"]\n",
    "df_main[\"In which campus?\"]=df_main[\"Accepted Campus (e.g. UPD, UPM, UPLB)\"]\n",
    "df_main[\"Is it your first campus choice?\"]=df_main.apply(getCampusChoice,axis=1)\n",
    "df_main[\"My above course is my ___ choice.\"]=df_main.apply(getCourseChoice,axis=1)\n",
    "df_main\n"
   ]
  },
  {
   "cell_type": "code",
   "execution_count": 11,
   "id": "eec6e1fa-8d0d-4b10-89da-b9dac8d92188",
   "metadata": {},
   "outputs": [],
   "source": [
    "#dropping the older columns that was replaced and other columns only present in the main data\n",
    "df_main=df_main.drop(columns=[\"UP College Admission Status (CAMPUS)\",\"UP College Admission Status (COURSE)\",\"Accepted Campus (e.g. UPD, UPM, UPLB)\",\n",
    "                      \"Accepted Course (e.g. BS Computer Science, BS Public Health, BS Psychology)\",\"Email Address\",\"How many course choices did you indicate in your FORM 1 for your FIRST CHOICE campus?\",\n",
    "                     \"How many course choices did you indicate in your FORM 1 for your SECOND CHOICE campus?\",\"Concerns/Questions?\"])"
   ]
  },
  {
   "cell_type": "code",
   "execution_count": 12,
   "id": "e69ee6c3-7f51-4a66-ac9a-063b41763a0f",
   "metadata": {},
   "outputs": [
    {
     "data": {
      "text/html": [
       "<div>\n",
       "<style scoped>\n",
       "    .dataframe tbody tr th:only-of-type {\n",
       "        vertical-align: middle;\n",
       "    }\n",
       "\n",
       "    .dataframe tbody tr th {\n",
       "        vertical-align: top;\n",
       "    }\n",
       "\n",
       "    .dataframe thead th {\n",
       "        text-align: right;\n",
       "    }\n",
       "</style>\n",
       "<table border=\"1\" class=\"dataframe\">\n",
       "  <thead>\n",
       "    <tr style=\"text-align: right;\">\n",
       "      <th></th>\n",
       "      <th>Timestamp</th>\n",
       "      <th>campus</th>\n",
       "      <th>Did you pass the UPCA?</th>\n",
       "      <th>In which course did you pass? (kindy fill-in the exact name of the course as seen in the letter in ALL CAPS)</th>\n",
       "      <th>In which campus?</th>\n",
       "      <th>Is it your first campus choice?</th>\n",
       "      <th>My above course is my ___ choice.</th>\n",
       "    </tr>\n",
       "  </thead>\n",
       "  <tbody>\n",
       "    <tr>\n",
       "      <th>0</th>\n",
       "      <td>7/15/2021 12:16:21</td>\n",
       "      <td>main</td>\n",
       "      <td>Accepted</td>\n",
       "      <td>BS Food Technology</td>\n",
       "      <td>UPD</td>\n",
       "      <td>First Choice</td>\n",
       "      <td>First Choice</td>\n",
       "    </tr>\n",
       "    <tr>\n",
       "      <th>1</th>\n",
       "      <td>7/15/2021 12:16:22</td>\n",
       "      <td>main</td>\n",
       "      <td>Accepted</td>\n",
       "      <td>BS Chemical Engineering</td>\n",
       "      <td>UPD</td>\n",
       "      <td>First Choice</td>\n",
       "      <td>First Choice</td>\n",
       "    </tr>\n",
       "    <tr>\n",
       "      <th>2</th>\n",
       "      <td>7/15/2021 12:16:32</td>\n",
       "      <td>main</td>\n",
       "      <td>Accepted</td>\n",
       "      <td>BS Molecular Biology and Biotechnology</td>\n",
       "      <td>UPD</td>\n",
       "      <td>First Choice</td>\n",
       "      <td>First Choice</td>\n",
       "    </tr>\n",
       "    <tr>\n",
       "      <th>3</th>\n",
       "      <td>7/15/2021 12:16:37</td>\n",
       "      <td>main</td>\n",
       "      <td>Accepted</td>\n",
       "      <td>BS Materials Engineering</td>\n",
       "      <td>UPD</td>\n",
       "      <td>First Choice</td>\n",
       "      <td>Third Choice</td>\n",
       "    </tr>\n",
       "    <tr>\n",
       "      <th>4</th>\n",
       "      <td>7/15/2021 12:16:38</td>\n",
       "      <td>main</td>\n",
       "      <td>Accepted</td>\n",
       "      <td>BS Psychology</td>\n",
       "      <td>UPD</td>\n",
       "      <td>First Choice</td>\n",
       "      <td>First Choice</td>\n",
       "    </tr>\n",
       "    <tr>\n",
       "      <th>...</th>\n",
       "      <td>...</td>\n",
       "      <td>...</td>\n",
       "      <td>...</td>\n",
       "      <td>...</td>\n",
       "      <td>...</td>\n",
       "      <td>...</td>\n",
       "      <td>...</td>\n",
       "    </tr>\n",
       "    <tr>\n",
       "      <th>186</th>\n",
       "      <td>7/16/2021 9:41:06</td>\n",
       "      <td>main</td>\n",
       "      <td>Not Accepted</td>\n",
       "      <td>NaN</td>\n",
       "      <td>NaN</td>\n",
       "      <td>NaN</td>\n",
       "      <td>NaN</td>\n",
       "    </tr>\n",
       "    <tr>\n",
       "      <th>187</th>\n",
       "      <td>7/16/2021 11:39:29</td>\n",
       "      <td>main</td>\n",
       "      <td>Accepted</td>\n",
       "      <td>BS Public Health</td>\n",
       "      <td>UPM</td>\n",
       "      <td>First Choice</td>\n",
       "      <td>First Choice</td>\n",
       "    </tr>\n",
       "    <tr>\n",
       "      <th>188</th>\n",
       "      <td>7/16/2021 18:29:34</td>\n",
       "      <td>main</td>\n",
       "      <td>Accepted</td>\n",
       "      <td>BS Materials Engineering</td>\n",
       "      <td>UPD</td>\n",
       "      <td>First Choice</td>\n",
       "      <td>Third Choice</td>\n",
       "    </tr>\n",
       "    <tr>\n",
       "      <th>189</th>\n",
       "      <td>7/16/2021 18:36:58</td>\n",
       "      <td>main</td>\n",
       "      <td>Accepted</td>\n",
       "      <td>Electronics Engineering</td>\n",
       "      <td>UPD</td>\n",
       "      <td>First Choice</td>\n",
       "      <td>Second Choice</td>\n",
       "    </tr>\n",
       "    <tr>\n",
       "      <th>190</th>\n",
       "      <td>7/16/2021 19:09:41</td>\n",
       "      <td>main</td>\n",
       "      <td>Not Accepted</td>\n",
       "      <td>NaN</td>\n",
       "      <td>NaN</td>\n",
       "      <td>NaN</td>\n",
       "      <td>NaN</td>\n",
       "    </tr>\n",
       "  </tbody>\n",
       "</table>\n",
       "<p>191 rows × 7 columns</p>\n",
       "</div>"
      ],
      "text/plain": [
       "              Timestamp campus Did you pass the UPCA?   \\\n",
       "0    7/15/2021 12:16:21   main                Accepted   \n",
       "1    7/15/2021 12:16:22   main                Accepted   \n",
       "2    7/15/2021 12:16:32   main                Accepted   \n",
       "3    7/15/2021 12:16:37   main                Accepted   \n",
       "4    7/15/2021 12:16:38   main                Accepted   \n",
       "..                  ...    ...                     ...   \n",
       "186   7/16/2021 9:41:06   main            Not Accepted   \n",
       "187  7/16/2021 11:39:29   main                Accepted   \n",
       "188  7/16/2021 18:29:34   main                Accepted   \n",
       "189  7/16/2021 18:36:58   main                Accepted   \n",
       "190  7/16/2021 19:09:41   main            Not Accepted   \n",
       "\n",
       "    In which course did you pass? (kindy fill-in the exact name of the course as seen in the letter in ALL CAPS)  \\\n",
       "0                                   BS Food Technology                                                             \n",
       "1                              BS Chemical Engineering                                                             \n",
       "2              BS Molecular Biology and Biotechnology                                                              \n",
       "3                             BS Materials Engineering                                                             \n",
       "4                                        BS Psychology                                                             \n",
       "..                                                 ...                                                             \n",
       "186                                                NaN                                                             \n",
       "187                                   BS Public Health                                                             \n",
       "188                           BS Materials Engineering                                                             \n",
       "189                            Electronics Engineering                                                             \n",
       "190                                                NaN                                                             \n",
       "\n",
       "    In which campus? Is it your first campus choice?  \\\n",
       "0                UPD                    First Choice   \n",
       "1                UPD                    First Choice   \n",
       "2                UPD                    First Choice   \n",
       "3                UPD                    First Choice   \n",
       "4                UPD                    First Choice   \n",
       "..               ...                             ...   \n",
       "186              NaN                             NaN   \n",
       "187              UPM                    First Choice   \n",
       "188              UPD                    First Choice   \n",
       "189              UPD                    First Choice   \n",
       "190              NaN                             NaN   \n",
       "\n",
       "    My above course is my ___ choice.  \n",
       "0                        First Choice  \n",
       "1                        First Choice  \n",
       "2                        First Choice  \n",
       "3                        Third Choice  \n",
       "4                        First Choice  \n",
       "..                                ...  \n",
       "186                               NaN  \n",
       "187                      First Choice  \n",
       "188                      Third Choice  \n",
       "189                     Second Choice  \n",
       "190                               NaN  \n",
       "\n",
       "[191 rows x 7 columns]"
      ]
     },
     "execution_count": 12,
     "metadata": {},
     "output_type": "execute_result"
    }
   ],
   "source": [
    "df_main"
   ]
  },
  {
   "cell_type": "code",
   "execution_count": 13,
   "id": "7f4e9eae-6fa7-4a74-a469-b56cd50aa76b",
   "metadata": {},
   "outputs": [],
   "source": [
    "#final dataframe by merging all the csv\n",
    "df_raw=pd.concat([df_crc,df_cbzrc, df_clc,df_cvc,df_evc,df_carc,df_irc,df_smc,df_src,df_wvc,df_main])"
   ]
  },
  {
   "cell_type": "code",
   "execution_count": 14,
   "id": "6f322d20-95a5-412b-adf4-fdf6d40e65c2",
   "metadata": {},
   "outputs": [
    {
     "name": "stdout",
     "output_type": "stream",
     "text": [
      "<class 'pandas.core.frame.DataFrame'>\n",
      "Int64Index: 891 entries, 0 to 190\n",
      "Data columns (total 24 columns):\n",
      " #   Column                                                                                                              Non-Null Count  Dtype \n",
      "---  ------                                                                                                              --------------  ----- \n",
      " 0   Timestamp                                                                                                           888 non-null    object\n",
      " 1   LAST NAME (ALL CAPS) - OPTIONAL                                                                                     67 non-null     object\n",
      " 2   FIRST NAME (ALL CAPS)  - OPTIONAL                                                                                   32 non-null     object\n",
      " 3   Did you pass the UPCA?                                                                                              890 non-null    object\n",
      " 4   In which course did you pass? (kindy fill-in the exact name of the course as seen in the letter in ALL CAPS)        407 non-null    object\n",
      " 5   My above course is my ___ choice.                                                                                   404 non-null    object\n",
      " 6   In which campus?                                                                                                    419 non-null    object\n",
      " 7   Is it your first campus choice?                                                                                     425 non-null    object\n",
      " 8   Will you pursue UP?                                                                                                 277 non-null    object\n",
      " 9   If not, then at what University do you plan to study?                                                               96 non-null     object\n",
      " 10  In which course are you waitlisted? (kindy fill-in the exact name of the course as seen in the letter in ALL CAPS)  17 non-null     object\n",
      " 11  In what campus?                                                                                                     17 non-null     object\n",
      " 12  In what campus?.1                                                                                                   77 non-null     object\n",
      " 13  campus                                                                                                              891 non-null    object\n",
      " 14  Email Address                                                                                                       221 non-null    object\n",
      " 15  LAST NAME (ALL CAPS)                                                                                                312 non-null    object\n",
      " 16  FIRST NAME (ALL CAPS)                                                                                               340 non-null    object\n",
      " 17  LAST NAME (ALL CAPS)                                                                                                28 non-null     object\n",
      " 18  LAST NAME - optional                                                                                                15 non-null     object\n",
      " 19  FIRST NAME - optional                                                                                               11 non-null     object\n",
      " 20  FIRST NAME (ALL CAPS) - OPTIONAL                                                                                    23 non-null     object\n",
      " 21  Email address                                                                                                       90 non-null     object\n",
      " 22  LAST NAME (ALL CAPS, OPTIONAL)                                                                                      13 non-null     object\n",
      " 23  FIRST NAME (ALL CAPS, OPTIONAL)                                                                                     13 non-null     object\n",
      "dtypes: object(24)\n",
      "memory usage: 174.0+ KB\n"
     ]
    }
   ],
   "source": [
    "#knowing df data\n",
    "df_raw.info()"
   ]
  },
  {
   "cell_type": "code",
   "execution_count": 15,
   "id": "dadc36a0-2e9b-42da-ac2c-cff2f37ae685",
   "metadata": {},
   "outputs": [
    {
     "data": {
      "text/html": [
       "<div>\n",
       "<style scoped>\n",
       "    .dataframe tbody tr th:only-of-type {\n",
       "        vertical-align: middle;\n",
       "    }\n",
       "\n",
       "    .dataframe tbody tr th {\n",
       "        vertical-align: top;\n",
       "    }\n",
       "\n",
       "    .dataframe thead th {\n",
       "        text-align: right;\n",
       "    }\n",
       "</style>\n",
       "<table border=\"1\" class=\"dataframe\">\n",
       "  <thead>\n",
       "    <tr style=\"text-align: right;\">\n",
       "      <th></th>\n",
       "      <th>Timestamp</th>\n",
       "      <th>LAST NAME (ALL CAPS) - OPTIONAL</th>\n",
       "      <th>FIRST NAME (ALL CAPS)  - OPTIONAL</th>\n",
       "      <th>Did you pass the UPCA?</th>\n",
       "      <th>In which course did you pass? (kindy fill-in the exact name of the course as seen in the letter in ALL CAPS)</th>\n",
       "      <th>My above course is my ___ choice.</th>\n",
       "      <th>In which campus?</th>\n",
       "      <th>Is it your first campus choice?</th>\n",
       "      <th>Will you pursue UP?</th>\n",
       "      <th>If not, then at what University do you plan to study?</th>\n",
       "      <th>...</th>\n",
       "      <th>Email Address</th>\n",
       "      <th>LAST NAME (ALL CAPS)</th>\n",
       "      <th>FIRST NAME (ALL CAPS)</th>\n",
       "      <th>LAST NAME (ALL CAPS)</th>\n",
       "      <th>LAST NAME - optional</th>\n",
       "      <th>FIRST NAME - optional</th>\n",
       "      <th>FIRST NAME (ALL CAPS) - OPTIONAL</th>\n",
       "      <th>Email address</th>\n",
       "      <th>LAST NAME (ALL CAPS, OPTIONAL)</th>\n",
       "      <th>FIRST NAME (ALL CAPS, OPTIONAL)</th>\n",
       "    </tr>\n",
       "  </thead>\n",
       "  <tbody>\n",
       "    <tr>\n",
       "      <th>count</th>\n",
       "      <td>888</td>\n",
       "      <td>67</td>\n",
       "      <td>32</td>\n",
       "      <td>890</td>\n",
       "      <td>407</td>\n",
       "      <td>404</td>\n",
       "      <td>419</td>\n",
       "      <td>425</td>\n",
       "      <td>277</td>\n",
       "      <td>96</td>\n",
       "      <td>...</td>\n",
       "      <td>221</td>\n",
       "      <td>312</td>\n",
       "      <td>340</td>\n",
       "      <td>28</td>\n",
       "      <td>15</td>\n",
       "      <td>11</td>\n",
       "      <td>23</td>\n",
       "      <td>90</td>\n",
       "      <td>13</td>\n",
       "      <td>13</td>\n",
       "    </tr>\n",
       "    <tr>\n",
       "      <th>unique</th>\n",
       "      <td>868</td>\n",
       "      <td>65</td>\n",
       "      <td>32</td>\n",
       "      <td>7</td>\n",
       "      <td>152</td>\n",
       "      <td>9</td>\n",
       "      <td>23</td>\n",
       "      <td>4</td>\n",
       "      <td>7</td>\n",
       "      <td>52</td>\n",
       "      <td>...</td>\n",
       "      <td>221</td>\n",
       "      <td>293</td>\n",
       "      <td>339</td>\n",
       "      <td>28</td>\n",
       "      <td>15</td>\n",
       "      <td>11</td>\n",
       "      <td>23</td>\n",
       "      <td>73</td>\n",
       "      <td>13</td>\n",
       "      <td>13</td>\n",
       "    </tr>\n",
       "    <tr>\n",
       "      <th>top</th>\n",
       "      <td>7/15/2021 20:20:58</td>\n",
       "      <td>MARTIN</td>\n",
       "      <td>DANIKA</td>\n",
       "      <td>No</td>\n",
       "      <td>BS COMPUTER SCIENCE</td>\n",
       "      <td>1st Degree</td>\n",
       "      <td>UP DILIMAN</td>\n",
       "      <td>Yes</td>\n",
       "      <td>yes</td>\n",
       "      <td>ADMU</td>\n",
       "      <td>...</td>\n",
       "      <td>pdleonoras@cbzrc.pshs.edu.ph</td>\n",
       "      <td>FLORES</td>\n",
       "      <td>CEDRIC</td>\n",
       "      <td>VILARAY</td>\n",
       "      <td>Caranzo</td>\n",
       "      <td>Mark Russell</td>\n",
       "      <td>LUCKY JENIÑA</td>\n",
       "      <td>sjonyle@gmail.com</td>\n",
       "      <td>INSIGNE</td>\n",
       "      <td>FRANCINE</td>\n",
       "    </tr>\n",
       "    <tr>\n",
       "      <th>freq</th>\n",
       "      <td>2</td>\n",
       "      <td>2</td>\n",
       "      <td>1</td>\n",
       "      <td>337</td>\n",
       "      <td>22</td>\n",
       "      <td>174</td>\n",
       "      <td>111</td>\n",
       "      <td>174</td>\n",
       "      <td>85</td>\n",
       "      <td>15</td>\n",
       "      <td>...</td>\n",
       "      <td>1</td>\n",
       "      <td>3</td>\n",
       "      <td>2</td>\n",
       "      <td>1</td>\n",
       "      <td>1</td>\n",
       "      <td>1</td>\n",
       "      <td>1</td>\n",
       "      <td>18</td>\n",
       "      <td>1</td>\n",
       "      <td>1</td>\n",
       "    </tr>\n",
       "  </tbody>\n",
       "</table>\n",
       "<p>4 rows × 24 columns</p>\n",
       "</div>"
      ],
      "text/plain": [
       "                 Timestamp LAST NAME (ALL CAPS) - OPTIONAL  \\\n",
       "count                  888                              67   \n",
       "unique                 868                              65   \n",
       "top     7/15/2021 20:20:58                          MARTIN   \n",
       "freq                     2                               2   \n",
       "\n",
       "       FIRST NAME (ALL CAPS)  - OPTIONAL Did you pass the UPCA?   \\\n",
       "count                                 32                     890   \n",
       "unique                                32                       7   \n",
       "top                               DANIKA                      No   \n",
       "freq                                   1                     337   \n",
       "\n",
       "       In which course did you pass? (kindy fill-in the exact name of the course as seen in the letter in ALL CAPS)  \\\n",
       "count                                                 407                                                             \n",
       "unique                                                152                                                             \n",
       "top                                   BS COMPUTER SCIENCE                                                             \n",
       "freq                                                   22                                                             \n",
       "\n",
       "       My above course is my ___ choice. In which campus?  \\\n",
       "count                                404              419   \n",
       "unique                                 9               23   \n",
       "top                           1st Degree       UP DILIMAN   \n",
       "freq                                 174              111   \n",
       "\n",
       "       Is it your first campus choice? Will you pursue UP?  \\\n",
       "count                              425                 277   \n",
       "unique                               4                   7   \n",
       "top                                Yes                 yes   \n",
       "freq                               174                  85   \n",
       "\n",
       "       If not, then at what University do you plan to study?  ...  \\\n",
       "count                                                  96     ...   \n",
       "unique                                                 52     ...   \n",
       "top                                                  ADMU     ...   \n",
       "freq                                                   15     ...   \n",
       "\n",
       "                       Email Address LAST NAME (ALL CAPS)  \\\n",
       "count                            221                  312   \n",
       "unique                           221                  293   \n",
       "top     pdleonoras@cbzrc.pshs.edu.ph               FLORES   \n",
       "freq                               1                    3   \n",
       "\n",
       "       FIRST NAME (ALL CAPS) LAST NAME (ALL CAPS)  LAST NAME - optional  \\\n",
       "count                    340                    28                   15   \n",
       "unique                   339                    28                   15   \n",
       "top                   CEDRIC               VILARAY              Caranzo   \n",
       "freq                       2                     1                    1   \n",
       "\n",
       "       FIRST NAME - optional FIRST NAME (ALL CAPS) - OPTIONAL  \\\n",
       "count                     11                               23   \n",
       "unique                    11                               23   \n",
       "top             Mark Russell                    LUCKY JENIÑA    \n",
       "freq                       1                                1   \n",
       "\n",
       "            Email address LAST NAME (ALL CAPS, OPTIONAL)  \\\n",
       "count                  90                             13   \n",
       "unique                 73                             13   \n",
       "top     sjonyle@gmail.com                        INSIGNE   \n",
       "freq                   18                              1   \n",
       "\n",
       "       FIRST NAME (ALL CAPS, OPTIONAL)  \n",
       "count                               13  \n",
       "unique                              13  \n",
       "top                           FRANCINE  \n",
       "freq                                 1  \n",
       "\n",
       "[4 rows x 24 columns]"
      ]
     },
     "execution_count": 15,
     "metadata": {},
     "output_type": "execute_result"
    }
   ],
   "source": [
    "df_raw.describe()"
   ]
  },
  {
   "cell_type": "code",
   "execution_count": 16,
   "id": "1742fd79-ca78-4acd-b875-314178f57d63",
   "metadata": {},
   "outputs": [
    {
     "data": {
      "text/html": [
       "<div>\n",
       "<style scoped>\n",
       "    .dataframe tbody tr th:only-of-type {\n",
       "        vertical-align: middle;\n",
       "    }\n",
       "\n",
       "    .dataframe tbody tr th {\n",
       "        vertical-align: top;\n",
       "    }\n",
       "\n",
       "    .dataframe thead th {\n",
       "        text-align: right;\n",
       "    }\n",
       "</style>\n",
       "<table border=\"1\" class=\"dataframe\">\n",
       "  <thead>\n",
       "    <tr style=\"text-align: right;\">\n",
       "      <th></th>\n",
       "      <th>Timestamp</th>\n",
       "      <th>LAST NAME (ALL CAPS) - OPTIONAL</th>\n",
       "      <th>FIRST NAME (ALL CAPS)  - OPTIONAL</th>\n",
       "      <th>Did you pass the UPCA?</th>\n",
       "      <th>In which course did you pass? (kindy fill-in the exact name of the course as seen in the letter in ALL CAPS)</th>\n",
       "      <th>My above course is my ___ choice.</th>\n",
       "      <th>In which campus?</th>\n",
       "      <th>Is it your first campus choice?</th>\n",
       "      <th>Will you pursue UP?</th>\n",
       "      <th>If not, then at what University do you plan to study?</th>\n",
       "      <th>...</th>\n",
       "      <th>Email Address</th>\n",
       "      <th>LAST NAME (ALL CAPS)</th>\n",
       "      <th>FIRST NAME (ALL CAPS)</th>\n",
       "      <th>LAST NAME (ALL CAPS)</th>\n",
       "      <th>LAST NAME - optional</th>\n",
       "      <th>FIRST NAME - optional</th>\n",
       "      <th>FIRST NAME (ALL CAPS) - OPTIONAL</th>\n",
       "      <th>Email address</th>\n",
       "      <th>LAST NAME (ALL CAPS, OPTIONAL)</th>\n",
       "      <th>FIRST NAME (ALL CAPS, OPTIONAL)</th>\n",
       "    </tr>\n",
       "  </thead>\n",
       "  <tbody>\n",
       "    <tr>\n",
       "      <th>0</th>\n",
       "      <td>7/15/2021 18:07:31</td>\n",
       "      <td>SOBERANO</td>\n",
       "      <td>DANIKA</td>\n",
       "      <td>No</td>\n",
       "      <td>NaN</td>\n",
       "      <td>NaN</td>\n",
       "      <td>NaN</td>\n",
       "      <td>NaN</td>\n",
       "      <td>NaN</td>\n",
       "      <td>NaN</td>\n",
       "      <td>...</td>\n",
       "      <td>NaN</td>\n",
       "      <td>NaN</td>\n",
       "      <td>NaN</td>\n",
       "      <td>NaN</td>\n",
       "      <td>NaN</td>\n",
       "      <td>NaN</td>\n",
       "      <td>NaN</td>\n",
       "      <td>NaN</td>\n",
       "      <td>NaN</td>\n",
       "      <td>NaN</td>\n",
       "    </tr>\n",
       "    <tr>\n",
       "      <th>1</th>\n",
       "      <td>7/15/2021 18:07:43</td>\n",
       "      <td>RUIZ</td>\n",
       "      <td>NaN</td>\n",
       "      <td>No</td>\n",
       "      <td>NaN</td>\n",
       "      <td>NaN</td>\n",
       "      <td>NaN</td>\n",
       "      <td>NaN</td>\n",
       "      <td>NaN</td>\n",
       "      <td>NaN</td>\n",
       "      <td>...</td>\n",
       "      <td>NaN</td>\n",
       "      <td>NaN</td>\n",
       "      <td>NaN</td>\n",
       "      <td>NaN</td>\n",
       "      <td>NaN</td>\n",
       "      <td>NaN</td>\n",
       "      <td>NaN</td>\n",
       "      <td>NaN</td>\n",
       "      <td>NaN</td>\n",
       "      <td>NaN</td>\n",
       "    </tr>\n",
       "    <tr>\n",
       "      <th>2</th>\n",
       "      <td>7/15/2021 18:07:46</td>\n",
       "      <td>NaN</td>\n",
       "      <td>NaN</td>\n",
       "      <td>No</td>\n",
       "      <td>NaN</td>\n",
       "      <td>NaN</td>\n",
       "      <td>NaN</td>\n",
       "      <td>NaN</td>\n",
       "      <td>NaN</td>\n",
       "      <td>NaN</td>\n",
       "      <td>...</td>\n",
       "      <td>NaN</td>\n",
       "      <td>NaN</td>\n",
       "      <td>NaN</td>\n",
       "      <td>NaN</td>\n",
       "      <td>NaN</td>\n",
       "      <td>NaN</td>\n",
       "      <td>NaN</td>\n",
       "      <td>NaN</td>\n",
       "      <td>NaN</td>\n",
       "      <td>NaN</td>\n",
       "    </tr>\n",
       "    <tr>\n",
       "      <th>3</th>\n",
       "      <td>7/15/2021 18:07:49</td>\n",
       "      <td>NaN</td>\n",
       "      <td>NaN</td>\n",
       "      <td>No</td>\n",
       "      <td>NaN</td>\n",
       "      <td>NaN</td>\n",
       "      <td>NaN</td>\n",
       "      <td>NaN</td>\n",
       "      <td>NaN</td>\n",
       "      <td>NaN</td>\n",
       "      <td>...</td>\n",
       "      <td>NaN</td>\n",
       "      <td>NaN</td>\n",
       "      <td>NaN</td>\n",
       "      <td>NaN</td>\n",
       "      <td>NaN</td>\n",
       "      <td>NaN</td>\n",
       "      <td>NaN</td>\n",
       "      <td>NaN</td>\n",
       "      <td>NaN</td>\n",
       "      <td>NaN</td>\n",
       "    </tr>\n",
       "    <tr>\n",
       "      <th>4</th>\n",
       "      <td>7/15/2021 18:08:09</td>\n",
       "      <td>NaN</td>\n",
       "      <td>NaN</td>\n",
       "      <td>No</td>\n",
       "      <td>NaN</td>\n",
       "      <td>NaN</td>\n",
       "      <td>NaN</td>\n",
       "      <td>NaN</td>\n",
       "      <td>NaN</td>\n",
       "      <td>NaN</td>\n",
       "      <td>...</td>\n",
       "      <td>NaN</td>\n",
       "      <td>NaN</td>\n",
       "      <td>NaN</td>\n",
       "      <td>NaN</td>\n",
       "      <td>NaN</td>\n",
       "      <td>NaN</td>\n",
       "      <td>NaN</td>\n",
       "      <td>NaN</td>\n",
       "      <td>NaN</td>\n",
       "      <td>NaN</td>\n",
       "    </tr>\n",
       "  </tbody>\n",
       "</table>\n",
       "<p>5 rows × 24 columns</p>\n",
       "</div>"
      ],
      "text/plain": [
       "            Timestamp LAST NAME (ALL CAPS) - OPTIONAL  \\\n",
       "0  7/15/2021 18:07:31                        SOBERANO   \n",
       "1  7/15/2021 18:07:43                            RUIZ   \n",
       "2  7/15/2021 18:07:46                             NaN   \n",
       "3  7/15/2021 18:07:49                             NaN   \n",
       "4  7/15/2021 18:08:09                             NaN   \n",
       "\n",
       "  FIRST NAME (ALL CAPS)  - OPTIONAL Did you pass the UPCA?   \\\n",
       "0                            DANIKA                      No   \n",
       "1                               NaN                      No   \n",
       "2                               NaN                      No   \n",
       "3                               NaN                      No   \n",
       "4                               NaN                      No   \n",
       "\n",
       "  In which course did you pass? (kindy fill-in the exact name of the course as seen in the letter in ALL CAPS)  \\\n",
       "0                                                NaN                                                             \n",
       "1                                                NaN                                                             \n",
       "2                                                NaN                                                             \n",
       "3                                                NaN                                                             \n",
       "4                                                NaN                                                             \n",
       "\n",
       "  My above course is my ___ choice. In which campus?  \\\n",
       "0                               NaN              NaN   \n",
       "1                               NaN              NaN   \n",
       "2                               NaN              NaN   \n",
       "3                               NaN              NaN   \n",
       "4                               NaN              NaN   \n",
       "\n",
       "  Is it your first campus choice? Will you pursue UP?  \\\n",
       "0                             NaN                 NaN   \n",
       "1                             NaN                 NaN   \n",
       "2                             NaN                 NaN   \n",
       "3                             NaN                 NaN   \n",
       "4                             NaN                 NaN   \n",
       "\n",
       "  If not, then at what University do you plan to study?  ... Email Address  \\\n",
       "0                                                NaN     ...           NaN   \n",
       "1                                                NaN     ...           NaN   \n",
       "2                                                NaN     ...           NaN   \n",
       "3                                                NaN     ...           NaN   \n",
       "4                                                NaN     ...           NaN   \n",
       "\n",
       "  LAST NAME (ALL CAPS) FIRST NAME (ALL CAPS) LAST NAME (ALL CAPS)   \\\n",
       "0                  NaN                   NaN                   NaN   \n",
       "1                  NaN                   NaN                   NaN   \n",
       "2                  NaN                   NaN                   NaN   \n",
       "3                  NaN                   NaN                   NaN   \n",
       "4                  NaN                   NaN                   NaN   \n",
       "\n",
       "  LAST NAME - optional FIRST NAME - optional FIRST NAME (ALL CAPS) - OPTIONAL  \\\n",
       "0                  NaN                   NaN                              NaN   \n",
       "1                  NaN                   NaN                              NaN   \n",
       "2                  NaN                   NaN                              NaN   \n",
       "3                  NaN                   NaN                              NaN   \n",
       "4                  NaN                   NaN                              NaN   \n",
       "\n",
       "  Email address LAST NAME (ALL CAPS, OPTIONAL) FIRST NAME (ALL CAPS, OPTIONAL)  \n",
       "0           NaN                            NaN                             NaN  \n",
       "1           NaN                            NaN                             NaN  \n",
       "2           NaN                            NaN                             NaN  \n",
       "3           NaN                            NaN                             NaN  \n",
       "4           NaN                            NaN                             NaN  \n",
       "\n",
       "[5 rows x 24 columns]"
      ]
     },
     "execution_count": 16,
     "metadata": {},
     "output_type": "execute_result"
    }
   ],
   "source": [
    "df_raw.head()"
   ]
  },
  {
   "cell_type": "code",
   "execution_count": 17,
   "id": "49e472a5-6363-48ca-a130-67440aed660d",
   "metadata": {},
   "outputs": [
    {
     "data": {
      "text/plain": [
       "FIRST NAME - optional                                                                                                 880\n",
       "FIRST NAME (ALL CAPS, OPTIONAL)                                                                                       878\n",
       "LAST NAME (ALL CAPS, OPTIONAL)                                                                                        878\n",
       "LAST NAME - optional                                                                                                  876\n",
       "In which course are you waitlisted? (kindy fill-in the exact name of the course as seen in the letter in ALL CAPS)    874\n",
       "In what campus?                                                                                                       874\n",
       "FIRST NAME (ALL CAPS) - OPTIONAL                                                                                      868\n",
       "LAST NAME (ALL CAPS)                                                                                                  863\n",
       "FIRST NAME (ALL CAPS)  - OPTIONAL                                                                                     859\n",
       "LAST NAME (ALL CAPS) - OPTIONAL                                                                                       824\n",
       "In what campus?.1                                                                                                     814\n",
       "Email address                                                                                                         801\n",
       "If not, then at what University do you plan to study?                                                                 795\n",
       "Email Address                                                                                                         670\n",
       "Will you pursue UP?                                                                                                   614\n",
       "LAST NAME (ALL CAPS)                                                                                                  579\n",
       "FIRST NAME (ALL CAPS)                                                                                                 551\n",
       "My above course is my ___ choice.                                                                                     487\n",
       "In which course did you pass? (kindy fill-in the exact name of the course as seen in the letter in ALL CAPS)          484\n",
       "In which campus?                                                                                                      472\n",
       "Is it your first campus choice?                                                                                       466\n",
       "Timestamp                                                                                                               3\n",
       "Did you pass the UPCA?                                                                                                  1\n",
       "campus                                                                                                                  0\n",
       "dtype: int64"
      ]
     },
     "execution_count": 17,
     "metadata": {},
     "output_type": "execute_result"
    }
   ],
   "source": [
    "#count how many null values per column\n",
    "df_raw.isna().sum().sort_values(ascending=False)"
   ]
  },
  {
   "cell_type": "markdown",
   "id": "0c17fe1b-533f-4eb3-9659-101edc57df7b",
   "metadata": {},
   "source": [
    "### dropping columns we dont like"
   ]
  },
  {
   "cell_type": "code",
   "execution_count": 18,
   "id": "c299512d-7c52-41b9-bd1f-51912d71b7ea",
   "metadata": {},
   "outputs": [],
   "source": [
    "df_drop=df_raw.drop(columns=['LAST NAME (ALL CAPS) ',\"LAST NAME (ALL CAPS)\",\"FIRST NAME - optional\",\"LAST NAME - optional\",\"FIRST NAME (ALL CAPS) - OPTIONAL\",\"LAST NAME (ALL CAPS)\",\"FIRST NAME (ALL CAPS)  - OPTIONAL\",\n",
    "                    \"LAST NAME (ALL CAPS) - OPTIONAL\",\"Email address\",\"Email Address\",\"LAST NAME (ALL CAPS)\",\"FIRST NAME (ALL CAPS)\",\"Timestamp\",'LAST NAME (ALL CAPS, OPTIONAL)', 'FIRST NAME (ALL CAPS, OPTIONAL)'])"
   ]
  },
  {
   "cell_type": "markdown",
   "id": "f64c4eec-13b7-497b-8856-45a1a1563da4",
   "metadata": {},
   "source": [
    "#count how many null values per column\n",
    "df_drop.isna().sum().sort_values(ascending=False)"
   ]
  },
  {
   "cell_type": "markdown",
   "id": "be545fe3-6454-4956-bd5e-2cc6642fb3a9",
   "metadata": {},
   "source": [
    "### renaming columns"
   ]
  },
  {
   "cell_type": "code",
   "execution_count": 19,
   "id": "76367f57-8c13-41f3-85de-02a7c1724da5",
   "metadata": {},
   "outputs": [
    {
     "data": {
      "text/plain": [
       "Index(['Did you pass the UPCA? ',\n",
       "       'In which course did you pass? (kindy fill-in the exact name of the course as seen in the letter in ALL CAPS)',\n",
       "       'My above course is my ___ choice.', 'In which campus?',\n",
       "       'Is it your first campus choice?', 'Will you pursue UP?',\n",
       "       'If not, then at what University do you plan to study?',\n",
       "       'In which course are you waitlisted? (kindy fill-in the exact name of the course as seen in the letter in ALL CAPS)',\n",
       "       'In what campus?', 'In what campus?.1', 'campus'],\n",
       "      dtype='object')"
      ]
     },
     "execution_count": 19,
     "metadata": {},
     "output_type": "execute_result"
    }
   ],
   "source": [
    "df_drop.columns"
   ]
  },
  {
   "cell_type": "code",
   "execution_count": 20,
   "id": "ca085efb-18b3-49e5-96ab-83d308e0b225",
   "metadata": {},
   "outputs": [],
   "source": [
    "df_drop.columns=[\"app_status\",\"pass_course\",\"pass_courseDegreeChoice\",\"pass_campus\",\"pass_campusFirstChoice\",\"pass_pursue\",\"pass_otherUniversity\",\"waitlist_course\",\"waitlist_campus\",\"dpwas_campus\",\"campus\"]"
   ]
  },
  {
   "cell_type": "code",
   "execution_count": 21,
   "id": "99b95f95-d5f8-4c36-b306-12bfe6389a43",
   "metadata": {},
   "outputs": [
    {
     "data": {
      "text/plain": [
       "Index(['app_status', 'pass_course', 'pass_courseDegreeChoice', 'pass_campus',\n",
       "       'pass_campusFirstChoice', 'pass_pursue', 'pass_otherUniversity',\n",
       "       'waitlist_course', 'waitlist_campus', 'dpwas_campus', 'campus'],\n",
       "      dtype='object')"
      ]
     },
     "execution_count": 21,
     "metadata": {},
     "output_type": "execute_result"
    }
   ],
   "source": [
    "df_drop.columns"
   ]
  },
  {
   "cell_type": "code",
   "execution_count": null,
   "id": "994a64cc-ae0f-408b-a4c6-346ea018fa2b",
   "metadata": {},
   "outputs": [],
   "source": []
  },
  {
   "cell_type": "markdown",
   "id": "1339fe47-9bf8-487c-a2ab-cfc0e314f50a",
   "metadata": {},
   "source": [
    "## Cleaning rows"
   ]
  },
  {
   "cell_type": "markdown",
   "id": "b522b5ec-bb1c-49fb-98d9-ace3e8a156fe",
   "metadata": {},
   "source": [
    "### App Status Cleaning"
   ]
  },
  {
   "cell_type": "code",
   "execution_count": 22,
   "id": "63a7ba80-8d86-42d9-a3e2-83531640f186",
   "metadata": {},
   "outputs": [
    {
     "data": {
      "text/plain": [
       "array(['No', 'Yes',\n",
       "       'DPWAS (learn more at: https://www.reddit.com/r/peyups/comments/b8hqbl/help_what_is_dpwas/)',\n",
       "       'Waitlisted', nan, 'DPWAS', 'Accepted', 'Not Accepted'],\n",
       "      dtype=object)"
      ]
     },
     "execution_count": 22,
     "metadata": {},
     "output_type": "execute_result"
    }
   ],
   "source": [
    "#initial status for values in status\n",
    "df_drop.app_status.unique()"
   ]
  },
  {
   "cell_type": "code",
   "execution_count": 23,
   "id": "74338cb4-5cb3-4053-8cfc-3c8fbafc9aa5",
   "metadata": {},
   "outputs": [],
   "source": [
    "#There is a nan value so it is time to remove them\n",
    "df_drop=df_drop[df_drop[\"app_status\"].notna()]"
   ]
  },
  {
   "cell_type": "code",
   "execution_count": 24,
   "id": "14161a1c-72e5-469f-9875-71416a46173e",
   "metadata": {},
   "outputs": [],
   "source": [
    "#Rename the DPWAS duplicate into just DPWAS\n",
    "df_drop['app_status']=df_drop['app_status'].str.replace(\"DPWAS (learn more at: https://www.reddit.com/r/peyups/comments/b8hqbl/help_what_is_dpwas/)\",\"DPWAS\",regex=False)\n",
    "df_drop['app_status']=df_drop['app_status'].str.replace(\"Not Accepted\",\"No\",regex=False)\n",
    "df_drop['app_status']=df_drop['app_status'].str.replace(\"Accepted\",\"Yes\",regex=False)"
   ]
  },
  {
   "cell_type": "code",
   "execution_count": 25,
   "id": "b4881f62-9924-4c34-9f74-4cfb2056fdb9",
   "metadata": {},
   "outputs": [
    {
     "data": {
      "text/plain": [
       "array(['No', 'Yes', 'DPWAS', 'Waitlisted'], dtype=object)"
      ]
     },
     "execution_count": 25,
     "metadata": {},
     "output_type": "execute_result"
    }
   ],
   "source": [
    "#final status for values in status\n",
    "df_drop.app_status.unique()"
   ]
  },
  {
   "cell_type": "code",
   "execution_count": 26,
   "id": "020f3a1b-cc9b-4228-9e15-2ca7b6996678",
   "metadata": {},
   "outputs": [
    {
     "data": {
      "text/plain": [
       "Yes           405\n",
       "No            380\n",
       "DPWAS          88\n",
       "Waitlisted     17\n",
       "Name: app_status, dtype: int64"
      ]
     },
     "execution_count": 26,
     "metadata": {},
     "output_type": "execute_result"
    }
   ],
   "source": [
    "#Checking if nothing happened to the values\n",
    "df_drop.app_status.value_counts()"
   ]
  },
  {
   "cell_type": "markdown",
   "id": "9c09a422-03c3-45cd-923c-c316e103d4c5",
   "metadata": {},
   "source": [
    "### Pass Course Cleaning"
   ]
  },
  {
   "cell_type": "code",
   "execution_count": 27,
   "id": "ac676b37-62b0-4743-9948-de276b1d00b7",
   "metadata": {},
   "outputs": [
    {
     "data": {
      "text/plain": [
       "array([nan, 'BS ARCHITECTURE',\n",
       "       'UP LOS BANOS, BS AGRICULTURAL BIOTECHNOLOGY',\n",
       "       'AGRICULTURAL BIOTECHNOLOGY', 'BS STATISTICS', 'BS ECONOMICS',\n",
       "       'BS Biology', 'BS AGRICULTURAL AND BIOSYSTEMS ENGINEERING',\n",
       "       'BS BIOLOGY', 'BS APPLIED PHYSICS', 'BS CHEMICAL ENGINEERING ',\n",
       "       'BS NUTRITION', 'BS MATHEMATICS AND SCIENCE TEACHING',\n",
       "       'BS COMPUTER ENGINEERING', 'BS PHYSICS', 'D VETERINARY MEDICINE',\n",
       "       'BS MECHANICAL ENGINEERING ',\n",
       "       'BS MOLECULAR BIOLOGY AND BIOTECHNOLOGY',\n",
       "       'BS ELECTRONICS ENGINEERING', 'MECHANICAL ENGINEERING',\n",
       "       'BS COMPUTER SCIENCE', 'BS CHEMICAL ENGINEERING', 'BS GEOLOGY',\n",
       "       'BS BIOCHEMISTRY', 'BS CHemistry',\n",
       "       'BS AGRIBUSINESS MANAGEMENT AND ENTREPRENEURSHIP', 'BS CHEMISTRY',\n",
       "       'BS Industrial Engineering', 'BS OCCUPATIONAL THERAPY',\n",
       "       'BS Electrical Engineering', 'BS CIVIL ENGINEERING',\n",
       "       'BS PUBLIC HEALTH', 'BS MECHANICAL ENGINEERING',\n",
       "       'BS PHARMACEUTICAL SCIENCES', 'ELECTRONICS ENGINEERING',\n",
       "       'Computer Science', 'BS GEOGRAPHY', 'BS ELECTRONICS ENGINEERING ',\n",
       "       'BS MATHEMATICS', 'BS AGRICULTURAL BIOTECHNOLOGY',\n",
       "       'BS METALLURGICAL ENGINEERING', 'BS FOOD SCIENCE AND TECHNOLOGY',\n",
       "       'VETERINARY MEDICINE (8TH CHOICE)', 'BS MATERIALS ENGINEERING',\n",
       "       'BS FAMILY LIFE AND CHILD DEVELOPMENT',\n",
       "       'BS ELECTRICAL ENGINEERING', 'BS  - ELECTRONICS ENGINEERING',\n",
       "       'BS FISHERIES', 'BS GEODETIC ENGINEERING',\n",
       "       'BACHELOR OF SCIENCE IN BIOLOGY', 'BS CLOTHING TECHNOLOGY',\n",
       "       'BS FOOD TECHNOLOGY', 'BS INDUSTRIAL ENGINEERING', 'BS PSYCHOLOGY',\n",
       "       'BS Food Technology ', 'BS PHARMACEUTICAL SCIENCES ',\n",
       "       'BS AGRICULTURAL CHEMISTRY', 'BS HOME ECONOMICS',\n",
       "       'BS HUMAN ECOLOGY', 'BA POLITICAL SCIENCE',\n",
       "       'BS Metallurgical Engineering', 'VETERINARY MEDICINE',\n",
       "       'PHARMACEUTICAL SCIENCES', 'BS PHARMACY',\n",
       "       'UP LOS BANOS, BS APPLIED PHYSICS', 'No', 'COMPUTER SCIENCE',\n",
       "       'BS Materials Engineering', 'BS PHARMACEUTICAL SCIENCES (5 YRS)',\n",
       "       'AGRICULTURAL & BIOSYSTEMS ENGINEERING', ' BS COMPUTER SCIENCE',\n",
       "       'BS Business Administration', 'BS - BIOLOGY',\n",
       "       'BS FOOD TECHNOLOGY ', 'MATERIALS ENGINEERING',\n",
       "       'Applied Mathematics', 'BS COMMUNITY NUTRITION', 'BS AGRICULTURE',\n",
       "       'AGRICULTURE', 'Los Baños- Agricultural Chemistry',\n",
       "       'BS Computer Science', 'Architecture', 'NUTRITION', 'B FINE ARTS',\n",
       "       'CHEMICAL ENGINEERING', 'Biology', 'BS Computer Engineering ',\n",
       "       'BS SPEECH PATHOLOGY', 'Pharmaceutical Sciences ',\n",
       "       'BS Electronics Engineering', 'BS architecture', 'BS ANTHROPOLOGY',\n",
       "       'BS ARCHITECTURE ', 'BS AGRIBUSINESS ECONOMICS',\n",
       "       'BS AGRIBUSINESS ECONOMICS ', 'BS APPLIED MATHEMATICS',\n",
       "       'FOOD SCIENCE', 'PUBLIC HEALTH', 'BS PHARMACY (5 YRS)',\n",
       "       'FOOD TECHNOLOGY', 'BS PHYSICAL THERAPY', 'CHEMICAL ENGINEERING ',\n",
       "       'OCCUPATIONAL THERAPY', 'Public Health', 'BS STATISTICS ',\n",
       "       'BS AGRICULTURAL CHEMISTRY ', 'BS in Fisheries', 'BS Biochemistry',\n",
       "       'BA PSYCHOLOGY', 'BS Chemistry',\n",
       "       'BS AGRIBUSINESS MANAGEMENT AND ENTREPRENEURSHIP ', 'BS Bio',\n",
       "       'ECONOMICS', 'BA FISHERIES', 'BS Food Technology',\n",
       "       'BS Chemical Engineering',\n",
       "       'BS Molecular Biology and Biotechnology ', 'BS Psychology',\n",
       "       'BS Mathematics ', 'BS Mathematics', 'BS Economics',\n",
       "       'BS Public Health', 'BS Applied Physics', 'Waitlisted - BS Bio',\n",
       "       'BA Psychology - Applied Psychology',\n",
       "       'BS Food Science and Technology',\n",
       "       '(waitlisted) BS Agricultural and Biosystems Engineering',\n",
       "       'BS Molecular Biology and Biotechnology', 'BS Civil Engineering',\n",
       "       'BS Physics', 'BS Computer Engineering', 'BS Mech Engg',\n",
       "       'BS Forestry', 'BS Agriculture', 'BS Pharmaceutical Sciences',\n",
       "       'DPWAS for any available course in UP/D', 'BS Clothing Technology',\n",
       "       'BS Agricultural Biotechnology ', 'BS Electrical Engg',\n",
       "       'B Sports Science', 'BS MBB', 'BS MBB ', 'None', 'DPWAS',\n",
       "       'BS Mechanical Engineering', 'BS Statistics', 'BS Nursing',\n",
       "       'Occupational Therapy', 'BS Pharmacy', 'BS Civil Engineering ',\n",
       "       'N/a', 'BS Business Administration & Accountancy',\n",
       "       'Electronics Engineering'], dtype=object)"
      ]
     },
     "execution_count": 27,
     "metadata": {},
     "output_type": "execute_result"
    }
   ],
   "source": [
    "#intial status for values in pass course\n",
    "df_drop.pass_course.unique()"
   ]
  },
  {
   "cell_type": "code",
   "execution_count": 38,
   "id": "96e27df5-3991-4678-aada-41653836d4a4",
   "metadata": {},
   "outputs": [],
   "source": [
    "\n",
    "#Lets rename duplicating courses\n",
    "df_drop[\"pass_course\"]=df_drop[\"pass_course\"].replace([\" BS COMPUTER SCIENCE\",\"Computer Science\", \"BS Computer Science\",\"COMPUTER SCIENCE\",\"BS COMPUTER SCIENCE \"],\"BS COMPUTER SCIENCE\",regex=False)\n",
    "df_drop[\"pass_course\"]=df_drop[\"pass_course\"].replace([\"(WAITLISTED) BS AGRICULTURAL AND BIOSYSTEMS ENGINEERING\",\"AGRICULTURAL & BIOSYSTEMS ENGINEERING\",\"BS AGRICULTURAL & BIOSYSTEMS ENGINEERING\"],\"BS AGRICULTURAL AND BIOSYSTEMS ENGINEERING\",regex=False)\n",
    "df_drop[\"pass_course\"]=df_drop[\"pass_course\"].replace([\"AGRICULTURAL BIOTECHNOLOGY\",\"BS AGRICULTURAL BIOTECHNOLOGY \"],\"BS AGRICULTURAL BIOTECHNOLOGY\",regex=False)\n",
    "df_drop[\"pass_course\"]=df_drop[\"pass_course\"].replace([\"AGRICULTURE\"],\"BS AGRICULTURE\",regex=False)\n",
    "df_drop[\"pass_course\"]=df_drop[\"pass_course\"].replace([\"Applied Mathematics\"],\"BS APPLIED MATHEMATICS\",regex=False)\n",
    "df_drop[\"pass_course\"]=df_drop[\"pass_course\"].replace([\"Architecture\",\"BS ARCHITECTURE \",\"BS architecture\"],\"BS ARCHITECTURE\",regex=False)\n",
    "df_drop[\"pass_course\"]=df_drop[\"pass_course\"].replace([\"B FINE ARTS\"],\"BA FINE ARTS\",regex=False)\n",
    "df_drop[\"pass_course\"]=df_drop[\"pass_course\"].replace([\"WAITLISTED - BS BIO\",\"BS Bio\",\"BACHELOR OF SCIENCE IN BIOLOGY\", \"BS - BIOLOGY\",\"Biology\",\"BS Biology\"],\"BS BIOLOGY\",regex=False)\n",
    "df_drop[\"pass_course\"]=df_drop[\"pass_course\"].replace([\"BS  - ELECTRONICS ENGINEERING\",\"BS ELECTRONICS ENGINEERING \",\"BS Electronics Engineering\",\"ELECTRONICS ENGINEERING\"],\"BS ELECTRONICS ENGINEERING\",regex=False)\n",
    "df_drop[\"pass_course\"]=df_drop[\"pass_course\"].replace([\"UP LOS BANOS, BS AGRICULTURAL BIOTECHNOLOGY\"],\"BS AGRICULTURAL BIOTECHNOLOGY\",regex=False)\n",
    "df_drop[\"pass_course\"]=df_drop[\"pass_course\"].replace([\"D VETERINARY MEDICINE\",\"VETERINARY MEDICINE (8TH CHOICE)\",\"VETERINARY MEDICINE\"],\"BS VETERINARY MEDICINE\",regex=False)\n",
    "df_drop[\"pass_course\"]=df_drop[\"pass_course\"].replace([\"BS CHemistry\",\"BS Chemistry\"],\"BS CHEMISTRY\",regex=False)\n",
    "df_drop[\"pass_course\"]=df_drop[\"pass_course\"].replace([\"BS Industrial Engineering\"],\"BS INDUSTRIAL ENGINEERING\",regex=False)\n",
    "df_drop[\"pass_course\"]=df_drop[\"pass_course\"].replace([\"BS ELECTRICAL ENGG\",\"BS Electrical Engineering\"],\"BS ELECTRICAL ENGINEERING\",regex=False)\n",
    "df_drop[\"pass_course\"]=df_drop[\"pass_course\"].replace([\"FOOD SCIENCE\",\"FOOD TECHNOLOGY\",\"BS FOOD SCIENCE AND TECHNOLOGY\", \"BS Food Technology\",\"BS Food Technology \"],\"BS FOOD TECHNOLOGY\",regex=False)\n",
    "df_drop[\"pass_course\"]=df_drop[\"pass_course\"].replace([\"BS Metallurgical Engineering\"],\"BS METALLURGICAL ENGINEERING\",regex=False)\n",
    "df_drop[\"pass_course\"]=df_drop[\"pass_course\"].replace([\"BS PHARMACY (5 YRS)\",\"BS PHARMACY\",\"BS PHARMACEUTICAL SCIENCES (5 YRS)\",\"Pharmaceutical Sciences \",\"PHARMACEUTICAL SCIENCES\",\"BS PHARMACEUTICAL SCIENCES \"],\"BS PHARMACEUTICAL SCIENCES\",regex=False)\n",
    "df_drop[\"pass_course\"]=df_drop[\"pass_course\"].replace([\"UP LOS BANOS, BS APPLIED PHYSICS\"],\"BS APPLIED PHYSICS\",regex=False)\n",
    "df_drop[\"pass_course\"]=df_drop[\"pass_course\"].replace([\"BS AGRICULTURAL CHEMISTRY \",\"Los Baños- Agricultural Chemistry\"],\"BS AGRICULTURAL CHEMISTRY\",regex=False)\n",
    "df_drop[\"pass_course\"]=df_drop[\"pass_course\"].replace([\"BS AGRIBUSINESS ECONOMICS \"],\"BS AGRIBUSINESS ECONOMICS\",regex=False)\n",
    "df_drop[\"pass_course\"]=df_drop[\"pass_course\"].replace([\"BS Computer Engineering \"],\"BS COMPUTER ENGINEERING\",regex=False)\n",
    "df_drop[\"pass_course\"]=df_drop[\"pass_course\"].replace([\"BS BUSINESS ADMINISTRATION & ACCOUNTANCY\",\"BS Business Administration\"],\"BS BUSINESS ADMINISTRATION\",regex=False)\n",
    "df_drop[\"pass_course\"]=df_drop[\"pass_course\"].replace([\"BS Materials Engineering\",\"MATERIALS ENGINEERING\"],\"BS MATERIALS ENGINEERING\",regex=False)\n",
    "df_drop[\"pass_course\"]=df_drop[\"pass_course\"].replace([\"BS MECH ENGG\",\"MECHANICAL ENGINEERING\",\"BS MECHANICAL ENGINEERING \"],\"BS MECHANICAL ENGINEERING\",regex=False)\n",
    "df_drop[\"pass_course\"]=df_drop[\"pass_course\"].replace([\"CHEMICAL ENGINEERING\",\"BS CHEMICAL ENGINEERING \",\"CHEMICAL ENGINEERING \"],\"BS CHEMICAL ENGINEERING\",regex=False)\n",
    "df_drop[\"pass_course\"]=df_drop[\"pass_course\"].replace([\"NUTRITION\"],\"BS NUTRITION\",regex=False)\n",
    "df_drop[\"pass_course\"]=df_drop[\"pass_course\"].replace([\"PUBLIC HEALTH\",\"Public Health\"],\"BS PUBLIC HEALTH\",regex=False)\n",
    "df_drop[\"pass_course\"]=df_drop[\"pass_course\"].replace([\"ECONOMICS\"],\"BS ECONOMICS\",regex=False)\n",
    "df_drop[\"pass_course\"]=df_drop[\"pass_course\"].replace([\"BS in Fisheries\"],\"BS FISHERIES\",regex=False)\n",
    "df_drop[\"pass_course\"]=df_drop[\"pass_course\"].replace([\"OCCUPATIONAL THERAPY\"],\"BS OCCUPATIONAL THERAPY\",regex=False)\n",
    "df_drop[\"pass_course\"]=df_drop[\"pass_course\"].replace([\"BS AGRIBUSINESS MANAGEMENT AND ENTREPRENEURSHIP \"],\"BS AGRIBUSINESS MANAGEMENT AND ENTREPRENEURSHIP\",regex=False)\n",
    "df_drop[\"pass_course\"]=df_drop[\"pass_course\"].replace([\"BS STATISTICS \"],\"BS STATISTICS\",regex=False)\n",
    "df_drop[\"pass_course\"]=df_drop[\"pass_course\"].replace([\"BS MATHEMATICS \"],\"BS MATHEMATICS\",regex=False)\n",
    "df_drop[\"pass_course\"]=df_drop[\"pass_course\"].replace([\"BA PSYCHOLOGY - APPLIED PSYCHOLOGY\"],\"BA PSYCHOLOGY\",regex=False)\n",
    "df_drop[\"pass_course\"]=df_drop[\"pass_course\"].replace([\"BS CIVIL ENGINEERING \"],\"BS CIVIL ENGINEERING\",regex=False)\n",
    "df_drop[\"pass_course\"]=df_drop[\"pass_course\"].replace([\"BS MBB\",\"BS MBB \",\"BS MOLECULAR BIOLOGY AND BIOTECHNOLOGY \"],\"BS MOLECULAR BIOLOGY AND BIOTECHNOLOGY\",regex=False)\n",
    "df_drop[\"pass_course\"]=df_drop[\"pass_course\"].replace([\"B SPORTS SCIENCE\"],\"BS SPORTS SCIENCE\",regex=False)\n",
    "\n",
    "#Upper Case All Courses\n",
    "df_drop[\"pass_course\"]=df_drop[\"pass_course\"].str.upper()\n"
   ]
  },
  {
   "cell_type": "code",
   "execution_count": 39,
   "id": "47771d0c-fd58-4d27-a1f5-63aebfe1db21",
   "metadata": {},
   "outputs": [
    {
     "data": {
      "text/plain": [
       "array([nan, 'BS ARCHITECTURE', 'BS AGRICULTURAL BIOTECHNOLOGY',\n",
       "       'BS STATISTICS', 'BS ECONOMICS', 'BS BIOLOGY',\n",
       "       'BS AGRICULTURAL AND BIOSYSTEMS ENGINEERING', 'BS APPLIED PHYSICS',\n",
       "       'BS CHEMICAL ENGINEERING', 'BS NUTRITION',\n",
       "       'BS MATHEMATICS AND SCIENCE TEACHING', 'BS COMPUTER ENGINEERING',\n",
       "       'BS PHYSICS', 'BS VETERINARY MEDICINE',\n",
       "       'BS MECHANICAL ENGINEERING',\n",
       "       'BS MOLECULAR BIOLOGY AND BIOTECHNOLOGY',\n",
       "       'BS ELECTRONICS ENGINEERING', 'BS COMPUTER SCIENCE', 'BS GEOLOGY',\n",
       "       'BS BIOCHEMISTRY', 'BS CHEMISTRY',\n",
       "       'BS AGRIBUSINESS MANAGEMENT AND ENTREPRENEURSHIP',\n",
       "       'BS INDUSTRIAL ENGINEERING', 'BS OCCUPATIONAL THERAPY',\n",
       "       'BS ELECTRICAL ENGINEERING', 'BS CIVIL ENGINEERING',\n",
       "       'BS PUBLIC HEALTH', 'BS PHARMACEUTICAL SCIENCES', 'BS GEOGRAPHY',\n",
       "       'BS MATHEMATICS', 'BS METALLURGICAL ENGINEERING',\n",
       "       'BS FOOD TECHNOLOGY', 'BS MATERIALS ENGINEERING',\n",
       "       'BS FAMILY LIFE AND CHILD DEVELOPMENT', 'BS FISHERIES',\n",
       "       'BS GEODETIC ENGINEERING', 'BS CLOTHING TECHNOLOGY',\n",
       "       'BS PSYCHOLOGY', 'BS AGRICULTURAL CHEMISTRY', 'BS HOME ECONOMICS',\n",
       "       'BS HUMAN ECOLOGY', 'BA POLITICAL SCIENCE', 'NO',\n",
       "       'BS BUSINESS ADMINISTRATION', 'BS FOOD TECHNOLOGY ',\n",
       "       'BS APPLIED MATHEMATICS', 'BS COMMUNITY NUTRITION',\n",
       "       'BS AGRICULTURE', 'BA FINE ARTS', 'BS SPEECH PATHOLOGY',\n",
       "       'BS ANTHROPOLOGY', 'BS AGRIBUSINESS ECONOMICS',\n",
       "       'BS PHYSICAL THERAPY', 'BA PSYCHOLOGY', 'BA FISHERIES',\n",
       "       'BS FORESTRY', 'DPWAS FOR ANY AVAILABLE COURSE IN UP/D',\n",
       "       'BS SPORTS SCIENCE', 'NONE', 'DPWAS', 'BS NURSING', 'N/A'],\n",
       "      dtype=object)"
      ]
     },
     "execution_count": 39,
     "metadata": {},
     "output_type": "execute_result"
    }
   ],
   "source": [
    "#final status for values in pass_course\n",
    "df_drop[\"pass_course\"].unique()"
   ]
  },
  {
   "cell_type": "code",
   "execution_count": 40,
   "id": "def8a2f6-0b37-41c8-b18c-e1e0e618b081",
   "metadata": {},
   "outputs": [
    {
     "data": {
      "text/plain": [
       "BS BIOLOGY                 37\n",
       "BS COMPUTER SCIENCE        36\n",
       "BS CHEMICAL ENGINEERING    29\n",
       "BS FOOD TECHNOLOGY         24\n",
       "BS PUBLIC HEALTH           23\n",
       "                           ..\n",
       "BA FINE ARTS                1\n",
       "BS HOME ECONOMICS           1\n",
       "BS HUMAN ECOLOGY            1\n",
       "BA POLITICAL SCIENCE        1\n",
       "N/A                         1\n",
       "Name: pass_course, Length: 61, dtype: int64"
      ]
     },
     "execution_count": 40,
     "metadata": {},
     "output_type": "execute_result"
    }
   ],
   "source": [
    "#checking that nothing with wrong in data\n",
    "df_drop[\"pass_course\"].value_counts()"
   ]
  },
  {
   "cell_type": "markdown",
   "id": "1bbbc0d4-61ca-4e23-a8cc-ad6daaa9baa2",
   "metadata": {},
   "source": [
    "### Pass Course Degree Choice Cleaning"
   ]
  },
  {
   "cell_type": "code",
   "execution_count": 41,
   "id": "be71b349-f025-4f59-aa18-5697a8b32d4e",
   "metadata": {},
   "outputs": [
    {
     "data": {
      "text/plain": [
       "array([nan, '1st Degree', '4th Degree', '3rd Degree', '5th Degree',\n",
       "       '2nd Degree', 'First Choice', 'Third Choice', 'Fourth Choice',\n",
       "       'Second Choice'], dtype=object)"
      ]
     },
     "execution_count": 41,
     "metadata": {},
     "output_type": "execute_result"
    }
   ],
   "source": [
    "#initial status for pass_course\n",
    "df_drop[\"pass_courseDegreeChoice\"].unique()"
   ]
  },
  {
   "cell_type": "code",
   "execution_count": 42,
   "id": "f28219db-cf73-49cf-a357-b3cc43e70d77",
   "metadata": {},
   "outputs": [],
   "source": [
    "#Rename Columns\n",
    "df_drop[\"pass_course\"]=df_drop[\"pass_course\"].replace([\"First Choice\"],\"1st Degree\",regex=False)\n",
    "df_drop[\"pass_course\"]=df_drop[\"pass_course\"].replace([\"Second Choice\"],\"2nd Degree\",regex=False)\n",
    "df_drop[\"pass_course\"]=df_drop[\"pass_course\"].replace([\"Third Choice\"],\"3rd Degree\",regex=False)\n",
    "df_drop[\"pass_course\"]=df_drop[\"pass_course\"].replace([\"Fourth Choice\"],\"4th Degree\",regex=False)"
   ]
  },
  {
   "cell_type": "markdown",
   "id": "0fa1fd35-c414-4577-b106-3ff86edcb14b",
   "metadata": {},
   "source": [
    "### Pass Campus Cleaning"
   ]
  },
  {
   "cell_type": "code",
   "execution_count": 43,
   "id": "e0fca93d-974c-46bb-9342-71f238f57db5",
   "metadata": {},
   "outputs": [
    {
     "data": {
      "text/plain": [
       "array([nan, 'UP MINDANAO', 'UP LOS BANOS', 'UP ILOILO', 'UP VISAYAS',\n",
       "       'UP DILIMAN', 'UP MANILA', 'UP BAGUIO', 'Tacloban', 'TACLOBAN',\n",
       "       'UP TACLOBAN', 'BAGUIO', 'UP VISAYAS-ILOILO', 'UP Cebu', 'UPD',\n",
       "       'UPM', 'UPLB', 'UPDEPP', 'UP Diliman', 'Los Banos', 'UP Los Banos',\n",
       "       'None', 'UPB', 'N/a'], dtype=object)"
      ]
     },
     "execution_count": 43,
     "metadata": {},
     "output_type": "execute_result"
    }
   ],
   "source": [
    "#initial status of pass_campus\n",
    "df_drop[\"pass_campus\"].unique()"
   ]
  },
  {
   "cell_type": "code",
   "execution_count": 46,
   "id": "1f575d57-89d7-46ab-80f6-4d2c6c72825f",
   "metadata": {},
   "outputs": [],
   "source": [
    "#replacing satellite campuses with their autonomous campus\n",
    "df_drop[\"pass_campus\"]=df_drop[\"pass_campus\"].replace([\"UPV\",\"UP VISAYAS-ILOILO\",\"UP ILOILO\",\"Tacloban\",\"TACLOBAN\",\"UP TACLOBAN\"],\"UP VISAYAS\", regex=False)\n",
    "df_drop[\"pass_campus\"]=df_drop[\"pass_campus\"].replace([\"BAGUIO\"],\"UP BAGUIO\", regex=False)\n",
    "df_drop[\"pass_campus\"]=df_drop[\"pass_campus\"].replace([\"UPD\",\"UPDEPP\",\"UP Diliman\"],\"UP DILIMAN\", regex=False)\n",
    "df_drop[\"pass_campus\"]=df_drop[\"pass_campus\"].replace([\"UPM\"],\"UP MANILA\", regex=False)\n",
    "df_drop[\"pass_campus\"]=df_drop[\"pass_campus\"].replace([\"UP Los Banos\",\"Los Banos\",\"UPB\"],\"UP LOS BANOS\", regex=False)"
   ]
  },
  {
   "cell_type": "code",
   "execution_count": 47,
   "id": "1f869847-9d9a-4c81-bc87-25142be5e8cf",
   "metadata": {},
   "outputs": [
    {
     "data": {
      "text/plain": [
       "array([nan, 'UP MINDANAO', 'UP LOS BANOS', 'UP VISAYAS', 'UP DILIMAN',\n",
       "       'UP MANILA', 'UP BAGUIO', 'UP CEBU', 'UPLB', 'None', 'N/a'],\n",
       "      dtype=object)"
      ]
     },
     "execution_count": 47,
     "metadata": {},
     "output_type": "execute_result"
    }
   ],
   "source": [
    "#final status of pass_campus\n",
    "df_drop[\"pass_campus\"].unique()"
   ]
  },
  {
   "cell_type": "code",
   "execution_count": 48,
   "id": "a3b167cc-fdf7-4630-8f92-8fbff6f755d9",
   "metadata": {},
   "outputs": [
    {
     "data": {
      "text/plain": [
       "UP DILIMAN      208\n",
       "UP LOS BANOS     60\n",
       "UP MANILA        55\n",
       "UP VISAYAS       51\n",
       "UPLB             18\n",
       "UP MINDANAO      15\n",
       "UP BAGUIO         8\n",
       "None              2\n",
       "UP CEBU           1\n",
       "N/a               1\n",
       "Name: pass_campus, dtype: int64"
      ]
     },
     "execution_count": 48,
     "metadata": {},
     "output_type": "execute_result"
    }
   ],
   "source": [
    "#checking that data is fine\n",
    "df_drop[\"pass_campus\"].value_counts()"
   ]
  },
  {
   "cell_type": "markdown",
   "id": "cbcf0242-3be4-4e6f-bb03-eaf315b45da9",
   "metadata": {},
   "source": [
    "### Pass Campus First Choice Cleaning"
   ]
  },
  {
   "cell_type": "code",
   "execution_count": 50,
   "id": "44154f43-3da8-4c98-a942-831bc1a29590",
   "metadata": {},
   "outputs": [
    {
     "data": {
      "text/plain": [
       "array([nan, 'No', 'Yes', 'First Choice', 'Second Choice'], dtype=object)"
      ]
     },
     "execution_count": 50,
     "metadata": {},
     "output_type": "execute_result"
    }
   ],
   "source": [
    "#initial status for pass_campusFirstChoice\n",
    "df_drop.pass_campusFirstChoice.unique()"
   ]
  },
  {
   "cell_type": "code",
   "execution_count": 51,
   "id": "118c8588-9a41-491b-a63f-6730b189d714",
   "metadata": {},
   "outputs": [],
   "source": [
    "#renaming duplicate data\n",
    "df_drop[\"pass_campusFirstChoice\"]=df_drop[\"pass_campusFirstChoice\"].str.replace(\"First Choice\",\"Yes\")\n",
    "df_drop[\"pass_campusFirstChoice\"]=df_drop[\"pass_campusFirstChoice\"].str.replace(\"Second Choice\",\"No\")"
   ]
  },
  {
   "cell_type": "code",
   "execution_count": 53,
   "id": "c101eced-2778-49d6-a5ef-ef594ad4987c",
   "metadata": {},
   "outputs": [
    {
     "data": {
      "text/plain": [
       "array([nan, 'No', 'Yes'], dtype=object)"
      ]
     },
     "execution_count": 53,
     "metadata": {},
     "output_type": "execute_result"
    }
   ],
   "source": [
    "#final status for pass_campusFirstChoice\n",
    "df_drop.pass_campusFirstChoice.unique()"
   ]
  },
  {
   "cell_type": "markdown",
   "id": "4e0bdd57-1fbc-4fde-b850-08bcccf14859",
   "metadata": {},
   "source": [
    "### Pass Pursue Cleaning"
   ]
  },
  {
   "cell_type": "code",
   "execution_count": 54,
   "id": "165a1261-818a-4ee4-b979-b06078e07a09",
   "metadata": {},
   "outputs": [
    {
     "data": {
      "text/plain": [
       "array([nan, 'yes', 'no', 'not sure', 'Yes', 'Unsure', 'No', 'Not sure'],\n",
       "      dtype=object)"
      ]
     },
     "execution_count": 54,
     "metadata": {},
     "output_type": "execute_result"
    }
   ],
   "source": [
    "#initial status for pass pursue\n",
    "df_drop.pass_pursue.unique()"
   ]
  },
  {
   "cell_type": "code",
   "execution_count": 55,
   "id": "a1791019-9b13-49b1-aa2a-592708d8edbb",
   "metadata": {},
   "outputs": [],
   "source": [
    "#renaming duplicate data\n",
    "df_drop[\"pass_pursue\"]=df_drop[\"pass_pursue\"].replace([\"Yes\"],\"yes\",regex=False)\n",
    "df_drop[\"pass_pursue\"]=df_drop[\"pass_pursue\"].replace([\"No\"],\"no\",regex=False)\n",
    "df_drop[\"pass_pursue\"]=df_drop[\"pass_pursue\"].replace([\"Unsure\",\"Not sure\"],\"not sure\",regex=False)"
   ]
  },
  {
   "cell_type": "code",
   "execution_count": 56,
   "id": "a847fc30-6774-4e15-89e5-0dbc193ff1d8",
   "metadata": {},
   "outputs": [
    {
     "data": {
      "text/plain": [
       "array([nan, 'yes', 'no', 'not sure'], dtype=object)"
      ]
     },
     "execution_count": 56,
     "metadata": {},
     "output_type": "execute_result"
    }
   ],
   "source": [
    "#final status for pass pursue\n",
    "df_drop.pass_pursue.unique()"
   ]
  },
  {
   "cell_type": "markdown",
   "id": "d0255a8d-f56a-43e0-9fdc-cefc8870a9c4",
   "metadata": {},
   "source": [
    "### Pass Other University Cleaning"
   ]
  },
  {
   "cell_type": "code",
   "execution_count": 57,
   "id": "4cf64ecb-0ae5-47b3-8ac2-b51c6debcdee",
   "metadata": {},
   "outputs": [
    {
     "data": {
      "text/plain": [
       "Index(['app_status', 'pass_course', 'pass_courseDegreeChoice', 'pass_campus',\n",
       "       'pass_campusFirstChoice', 'pass_pursue', 'pass_otherUniversity',\n",
       "       'waitlist_course', 'waitlist_campus', 'dpwas_campus', 'campus'],\n",
       "      dtype='object')"
      ]
     },
     "execution_count": 57,
     "metadata": {},
     "output_type": "execute_result"
    }
   ],
   "source": [
    "df_drop.columns"
   ]
  },
  {
   "cell_type": "code",
   "execution_count": 58,
   "id": "6447a698-c14d-4d96-ab27-597d4d5b721c",
   "metadata": {},
   "outputs": [
    {
     "data": {
      "text/plain": [
       "array([nan, 'dlsu', 'ADMU', 'DE LA SALLE UNIVERSITY or VELEZ COLLEGE',\n",
       "       'PHILIPPINE STATE COLLEGE OF AERONAUTICS',\n",
       "       'Ateneo de Manila University', 'Ateneo De Manila University',\n",
       "       'DLSU', 'De La Salle University', 'University of Santo Tomas',\n",
       "       'Maybe Ateneo', 'AUF (Angeles University Foundation)',\n",
       "       'University of Santo Tomas (UST)', 'IDK', 'dlsu maybe?',\n",
       "       'NOT SURE', '--', 'Visayas State University', 'DLSU Manila',\n",
       "       'admu', 'La Salle', 'De La Salle University (DLSU)',\n",
       "       'DLSU, Velez College',\n",
       "       'Philippine State College of Aeronautics(if admitted)',\n",
       "       \"I will pursue UP if they allow me to transfer to UPB Com Sci. If they don't allow the transfer and I don't pass on the DOST Scholarship, I will pursue my course and campus. If they don't allow the transfer but I pass the DOST Scholarship, I will go to SLU to study Electrical Engineering.  \",\n",
       "       'SAINT LOUIS UNIVERSITY BAGUIO CITY', 'MAPUA', 'none',\n",
       "       'SLU BAGUIO', 'UST', 'N/a', 'UST ', 'MSU-IIT',\n",
       "       'Ateneo de Davao University', 'Ateneo de Davao University ',\n",
       "       'Malayan Colleges of Mindanao', 'N/A ', 'SILLIMAN UNIVERSITY',\n",
       "       'Malayan College Mindanao (MCM)', 'Most probably MSU IIT', 'WVSU',\n",
       "       'I’m not sure yet', 'ATENEO DE MANILA UNIVERSITY', 'Gap year <3',\n",
       "       'DLS-CSB', 'Maritime Academy of Asia and the Pacific',\n",
       "       'Universiy of Santo Thomas', 'Ateneo de Manila University ',\n",
       "       'De La Salle University - Laguna Campus', 'DLSU Laguna',\n",
       "       'Western Visayas State University', 'CPU', 'ISAT U'], dtype=object)"
      ]
     },
     "execution_count": 58,
     "metadata": {},
     "output_type": "execute_result"
    }
   ],
   "source": [
    "df_drop[\"pass_otherUniversity\"].unique()"
   ]
  },
  {
   "cell_type": "code",
   "execution_count": 59,
   "id": "aefa7b6e-b3af-4727-b674-2d932da23507",
   "metadata": {},
   "outputs": [],
   "source": [
    "#remove repeating responses\n",
    "df_drop[\"pass_otherUniversity\"]=df_drop[\"pass_otherUniversity\"].replace([\"dlsu\",\"DE LA SALLE UNIVERSITY or VELEZ COLLEGE\",\"DLSU\",\"De La Salle University\",\"dlsu maybe?\",\"DLSU Manila\",\n",
    "                                                                        \"La Salle\",\"De La Salle University (DLSU)\",\"DLSU, Velez College\"],\"DE LA SALLE UNIVERSITY\",regex=False)\n",
    "df_drop[\"pass_otherUniversity\"]=df_drop[\"pass_otherUniversity\"].replace([\"ADMU\",\"Ateneo de Manila University\",\"Ateneo De Manila University\",\"Maybe Ateneo\",\"admu\"],\"ATENEO DE MANILA UNIVERSITY\",regex=False)"
   ]
  },
  {
   "cell_type": "code",
   "execution_count": null,
   "id": "17074a7c-6ff6-45b8-ad96-b389a9d2ee55",
   "metadata": {},
   "outputs": [],
   "source": []
  },
  {
   "cell_type": "markdown",
   "id": "cb4c692f-1343-4542-8679-fc214509f88b",
   "metadata": {},
   "source": [
    "### Waitlist Course Cleaning"
   ]
  },
  {
   "cell_type": "code",
   "execution_count": 60,
   "id": "fb197d25-f38e-468d-b209-f7c9514b32e5",
   "metadata": {},
   "outputs": [
    {
     "data": {
      "text/plain": [
       "array([nan, 'BS APPLIED MATHEMATICS', 'BS BIOLOGY', 'BS BIOCHEMISTRY',\n",
       "       'BS SPEECH PATHOLOGY', 'BACHELOR OF SCIENCE IN BIOLOGY',\n",
       "       'BS PUBLIC HEALTH', 'BS Math', 'FOOD TECH',\n",
       "       'BS PHARMACEUTICAL SCIENCES', 'BS CHEMISTRY', 'BS FOOD TECHNOLOGY',\n",
       "       'BS Applied Physics', 'BA PSYCHOLOGY'], dtype=object)"
      ]
     },
     "execution_count": 60,
     "metadata": {},
     "output_type": "execute_result"
    }
   ],
   "source": [
    "#intial status of waitlist course\n",
    "df_drop[\"waitlist_course\"].unique()"
   ]
  },
  {
   "cell_type": "code",
   "execution_count": 61,
   "id": "b9c712f6-1d5a-4165-9fbc-d82d3da48f36",
   "metadata": {},
   "outputs": [],
   "source": [
    "#removing some duplicates\n",
    "df_drop[\"waitlist_course\"]=df_drop[\"waitlist_course\"].replace([\"FOOD TECH\"],\"BS FOOD TECHNOLOGY\")\n",
    "df_drop[\"waitlist_course\"]=df_drop[\"waitlist_course\"].replace([\"BACHELOR OF SCIENCE IN BIOLOGY\"],\"BS BIOLOGY\")\n",
    "df_drop[\"waitlist_course\"]=df_drop[\"waitlist_course\"].replace([\"BS Math\"],\"BS MATH\")\n",
    "df_drop[\"waitlist_course\"]=df_drop[\"waitlist_course\"].replace([\"BS Applied Physics\"],\"BS APPLIED PHYSICS\")"
   ]
  },
  {
   "cell_type": "code",
   "execution_count": 62,
   "id": "b048a636-7a0a-4dbc-bca9-5a3664a02311",
   "metadata": {},
   "outputs": [
    {
     "data": {
      "text/plain": [
       "array([nan, 'BS APPLIED MATHEMATICS', 'BS BIOLOGY', 'BS BIOCHEMISTRY',\n",
       "       'BS SPEECH PATHOLOGY', 'BS PUBLIC HEALTH', 'BS MATH',\n",
       "       'BS FOOD TECHNOLOGY', 'BS PHARMACEUTICAL SCIENCES', 'BS CHEMISTRY',\n",
       "       'BS APPLIED PHYSICS', 'BA PSYCHOLOGY'], dtype=object)"
      ]
     },
     "execution_count": 62,
     "metadata": {},
     "output_type": "execute_result"
    }
   ],
   "source": [
    "#final status of waitlist course\n",
    "df_drop[\"waitlist_course\"].unique()"
   ]
  },
  {
   "cell_type": "markdown",
   "id": "e5443fe3-3d73-4d6b-b0ca-06f86777e703",
   "metadata": {},
   "source": [
    "### Waitlist Course Cleaning"
   ]
  },
  {
   "cell_type": "code",
   "execution_count": 63,
   "id": "0b5d921e-d3a4-4684-8a99-5c7bdb2a3ec5",
   "metadata": {},
   "outputs": [
    {
     "data": {
      "text/plain": [
       "Index(['app_status', 'pass_course', 'pass_courseDegreeChoice', 'pass_campus',\n",
       "       'pass_campusFirstChoice', 'pass_pursue', 'pass_otherUniversity',\n",
       "       'waitlist_course', 'waitlist_campus', 'dpwas_campus', 'campus'],\n",
       "      dtype='object')"
      ]
     },
     "execution_count": 63,
     "metadata": {},
     "output_type": "execute_result"
    }
   ],
   "source": [
    "df_drop.columns"
   ]
  },
  {
   "cell_type": "code",
   "execution_count": 64,
   "id": "ecc31b78-e030-4561-a22f-40b718169819",
   "metadata": {},
   "outputs": [
    {
     "data": {
      "text/plain": [
       "array([nan, 'UP MINDANAO', 'UP CEBU', 'UP MANILA', 'UP VISAYAS',\n",
       "       'UP BAGUIO', 'UP LOS BANOS'], dtype=object)"
      ]
     },
     "execution_count": 64,
     "metadata": {},
     "output_type": "execute_result"
    }
   ],
   "source": [
    "#intial status of waitlist campus, already clean\n",
    "df_drop[\"waitlist_campus\"].unique()"
   ]
  },
  {
   "cell_type": "markdown",
   "id": "150634d8-f654-4f0a-939f-8f5dd17dc20d",
   "metadata": {},
   "source": [
    "### Dpwas Course Cleaning"
   ]
  },
  {
   "cell_type": "code",
   "execution_count": 65,
   "id": "428f0512-050f-4e23-802e-625734a7b1a6",
   "metadata": {},
   "outputs": [
    {
     "data": {
      "text/plain": [
       "Index(['app_status', 'pass_course', 'pass_courseDegreeChoice', 'pass_campus',\n",
       "       'pass_campusFirstChoice', 'pass_pursue', 'pass_otherUniversity',\n",
       "       'waitlist_course', 'waitlist_campus', 'dpwas_campus', 'campus'],\n",
       "      dtype='object')"
      ]
     },
     "execution_count": 65,
     "metadata": {},
     "output_type": "execute_result"
    }
   ],
   "source": [
    "df_drop.columns"
   ]
  },
  {
   "cell_type": "code",
   "execution_count": 66,
   "id": "2d8cc05c-43a9-4e3c-b72f-2f0b8a62ce65",
   "metadata": {},
   "outputs": [
    {
     "data": {
      "text/plain": [
       "array([nan, 'UP VISAYAS', 'UP ILOILO', 'UP MINDANAO', 'UP LOS BANOS',\n",
       "       'UP DILIMAN', 'UP MANILA', 'UP BAGUIO'], dtype=object)"
      ]
     },
     "execution_count": 66,
     "metadata": {},
     "output_type": "execute_result"
    }
   ],
   "source": [
    "#intial status of waitlist campus, already clean\n",
    "df_drop[\"dpwas_campus\"].unique()"
   ]
  },
  {
   "cell_type": "code",
   "execution_count": 67,
   "id": "abbd1946-2368-4045-b6cd-1555923c4c23",
   "metadata": {},
   "outputs": [],
   "source": [
    "## Saving Cleaned dataframe to CSV"
   ]
  },
  {
   "cell_type": "code",
   "execution_count": 68,
   "id": "4a9a36d0-5f97-42f8-91a0-b4352463c5ac",
   "metadata": {},
   "outputs": [],
   "source": [
    "df_drop.to_csv(\"UPCA_cleaned.csv\",index=False)"
   ]
  },
  {
   "cell_type": "code",
   "execution_count": null,
   "id": "c897fb42-4654-4641-9bc2-1be8891a65d4",
   "metadata": {},
   "outputs": [],
   "source": []
  },
  {
   "cell_type": "code",
   "execution_count": null,
   "id": "aa74d283-90ef-47bc-85b7-c21fcf625c2e",
   "metadata": {},
   "outputs": [],
   "source": []
  }
 ],
 "metadata": {
  "kernelspec": {
   "display_name": "Python 3 (ipykernel)",
   "language": "python",
   "name": "python3"
  },
  "language_info": {
   "codemirror_mode": {
    "name": "ipython",
    "version": 3
   },
   "file_extension": ".py",
   "mimetype": "text/x-python",
   "name": "python",
   "nbconvert_exporter": "python",
   "pygments_lexer": "ipython3",
   "version": "3.7.7"
  }
 },
 "nbformat": 4,
 "nbformat_minor": 5
}
