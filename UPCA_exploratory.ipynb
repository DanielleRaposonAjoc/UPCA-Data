{
 "cells": [
  {
   "cell_type": "markdown",
   "id": "6761c0bb-c81e-4bce-ae03-9d6125204b17",
   "metadata": {},
   "source": [
    "# UPCA for Tea Time Reading: An Exploratory Data Analysis on PSHS Intercampus Data from a Student Lead Inquiry  \n",
    "### Author: Danielle R. Ajoc"
   ]
  },
  {
   "cell_type": "markdown",
   "id": "7dcad212-f1f6-4c00-a837-7dbeb9db0035",
   "metadata": {},
   "source": [
    "## Dataframe Columns Glossary\n",
    "<b>app_status</b>: data on whether the applicant got accepted(Yes), rejected(No), DPWAS(DPWAS), waitlisted(Waitlisted)  \n",
    "<b>pass_course</b>: data on the course an applicant got accepted  \n",
    "<b>pass_courseDegreeChoide</b>: data on the degree choice (1st Degree being the 1st choice and nth degree being the nth choice) an applicant got accepted  \n",
    "<b>pass_campus</b>: data on the UP campus and applicant got accepted  \n",
    "<b>pass_campusFirstChoice</b>: data on whether an applicant got accepted on their 1st UP Campus choice  \n",
    "<b>pass_pursue</b>: data on whether an applicant plans to pursue studyin in UP  \n",
    "<b>pass_otherUniversity</b>: data on what other university an accepted applicant plans to pursue instead of UP  \n",
    "<b>waitlist_course</b>: data on what course an applicant got waitlisted  \n",
    "<b>waitlist_campus</b>: data on what UP campus an applicant got waitlisted  \n",
    "<b>dpwas_campus</b>: data on what UP campus an applicant got a DPWAS  \n",
    "<b>campus</b>: data on the PSHS campus of the applicant  "
   ]
  },
  {
   "cell_type": "markdown",
   "id": "4f03a479-1f09-4c40-ad48-45add9a4cb28",
   "metadata": {},
   "source": [
    "## Loading libraries"
   ]
  },
  {
   "cell_type": "code",
   "execution_count": 1,
   "id": "b10c608e-672f-473f-b48c-ff588250b006",
   "metadata": {},
   "outputs": [],
   "source": [
    "import pandas as pd"
   ]
  },
  {
   "cell_type": "markdown",
   "id": "57fe9e5d-ee36-4ac8-9bb7-b21c625d118c",
   "metadata": {},
   "source": [
    "## Loading the Data"
   ]
  },
  {
   "cell_type": "code",
   "execution_count": 2,
   "id": "5cc8ded5-9dff-48aa-9306-3ca0af7cafc7",
   "metadata": {},
   "outputs": [],
   "source": [
    "df=pd.read_csv(\"UPCA_cleaned.csv\")"
   ]
  },
  {
   "cell_type": "code",
   "execution_count": 3,
   "id": "a81aee2b-c4c5-43e0-937b-a899c7809d18",
   "metadata": {},
   "outputs": [
    {
     "data": {
      "text/html": [
       "<div>\n",
       "<style scoped>\n",
       "    .dataframe tbody tr th:only-of-type {\n",
       "        vertical-align: middle;\n",
       "    }\n",
       "\n",
       "    .dataframe tbody tr th {\n",
       "        vertical-align: top;\n",
       "    }\n",
       "\n",
       "    .dataframe thead th {\n",
       "        text-align: right;\n",
       "    }\n",
       "</style>\n",
       "<table border=\"1\" class=\"dataframe\">\n",
       "  <thead>\n",
       "    <tr style=\"text-align: right;\">\n",
       "      <th></th>\n",
       "      <th>app_status</th>\n",
       "      <th>pass_course</th>\n",
       "      <th>pass_courseDegreeChoice</th>\n",
       "      <th>pass_campus</th>\n",
       "      <th>pass_campusFirstChoice</th>\n",
       "      <th>pass_pursue</th>\n",
       "      <th>pass_otherUniversity</th>\n",
       "      <th>waitlist_course</th>\n",
       "      <th>waitlist_campus</th>\n",
       "      <th>dpwas_campus</th>\n",
       "      <th>campus</th>\n",
       "    </tr>\n",
       "  </thead>\n",
       "  <tbody>\n",
       "    <tr>\n",
       "      <th>429</th>\n",
       "      <td>Yes</td>\n",
       "      <td>BS APPLIED MATHEMATICS</td>\n",
       "      <td>1st Degree</td>\n",
       "      <td>UP LOS BANOS</td>\n",
       "      <td>Yes</td>\n",
       "      <td>no</td>\n",
       "      <td>DE LA SALLE UNIVERSITY</td>\n",
       "      <td>NaN</td>\n",
       "      <td>NaN</td>\n",
       "      <td>NaN</td>\n",
       "      <td>irc</td>\n",
       "    </tr>\n",
       "    <tr>\n",
       "      <th>663</th>\n",
       "      <td>Yes</td>\n",
       "      <td>BS PUBLIC HEALTH</td>\n",
       "      <td>1st Degree</td>\n",
       "      <td>UP VISAYAS</td>\n",
       "      <td>Yes</td>\n",
       "      <td>no</td>\n",
       "      <td>DLSU Laguna</td>\n",
       "      <td>NaN</td>\n",
       "      <td>NaN</td>\n",
       "      <td>NaN</td>\n",
       "      <td>wvc</td>\n",
       "    </tr>\n",
       "    <tr>\n",
       "      <th>277</th>\n",
       "      <td>Yes</td>\n",
       "      <td>BS ELECTRICAL ENGINEERING</td>\n",
       "      <td>1st Degree</td>\n",
       "      <td>UP DILIMAN</td>\n",
       "      <td>Yes</td>\n",
       "      <td>yes</td>\n",
       "      <td>NaN</td>\n",
       "      <td>NaN</td>\n",
       "      <td>NaN</td>\n",
       "      <td>NaN</td>\n",
       "      <td>evc</td>\n",
       "    </tr>\n",
       "    <tr>\n",
       "      <th>276</th>\n",
       "      <td>No</td>\n",
       "      <td>NaN</td>\n",
       "      <td>NaN</td>\n",
       "      <td>NaN</td>\n",
       "      <td>NaN</td>\n",
       "      <td>NaN</td>\n",
       "      <td>NaN</td>\n",
       "      <td>NaN</td>\n",
       "      <td>NaN</td>\n",
       "      <td>NaN</td>\n",
       "      <td>cvc</td>\n",
       "    </tr>\n",
       "    <tr>\n",
       "      <th>678</th>\n",
       "      <td>No</td>\n",
       "      <td>NaN</td>\n",
       "      <td>NaN</td>\n",
       "      <td>NaN</td>\n",
       "      <td>NaN</td>\n",
       "      <td>NaN</td>\n",
       "      <td>NaN</td>\n",
       "      <td>NaN</td>\n",
       "      <td>NaN</td>\n",
       "      <td>NaN</td>\n",
       "      <td>wvc</td>\n",
       "    </tr>\n",
       "    <tr>\n",
       "      <th>24</th>\n",
       "      <td>No</td>\n",
       "      <td>NaN</td>\n",
       "      <td>NaN</td>\n",
       "      <td>NaN</td>\n",
       "      <td>NaN</td>\n",
       "      <td>NaN</td>\n",
       "      <td>NaN</td>\n",
       "      <td>NaN</td>\n",
       "      <td>NaN</td>\n",
       "      <td>NaN</td>\n",
       "      <td>crc</td>\n",
       "    </tr>\n",
       "    <tr>\n",
       "      <th>216</th>\n",
       "      <td>Yes</td>\n",
       "      <td>BS STATISTICS</td>\n",
       "      <td>1st Degree</td>\n",
       "      <td>UP LOS BANOS</td>\n",
       "      <td>Yes</td>\n",
       "      <td>no</td>\n",
       "      <td>NaN</td>\n",
       "      <td>NaN</td>\n",
       "      <td>NaN</td>\n",
       "      <td>NaN</td>\n",
       "      <td>cvc</td>\n",
       "    </tr>\n",
       "    <tr>\n",
       "      <th>517</th>\n",
       "      <td>Yes</td>\n",
       "      <td>BS CHEMISTRY</td>\n",
       "      <td>5th Degree</td>\n",
       "      <td>UP LOS BANOS</td>\n",
       "      <td>No</td>\n",
       "      <td>not sure</td>\n",
       "      <td>NaN</td>\n",
       "      <td>NaN</td>\n",
       "      <td>NaN</td>\n",
       "      <td>NaN</td>\n",
       "      <td>smc</td>\n",
       "    </tr>\n",
       "    <tr>\n",
       "      <th>586</th>\n",
       "      <td>No</td>\n",
       "      <td>NaN</td>\n",
       "      <td>NaN</td>\n",
       "      <td>NaN</td>\n",
       "      <td>NaN</td>\n",
       "      <td>NaN</td>\n",
       "      <td>NaN</td>\n",
       "      <td>NaN</td>\n",
       "      <td>NaN</td>\n",
       "      <td>NaN</td>\n",
       "      <td>src</td>\n",
       "    </tr>\n",
       "    <tr>\n",
       "      <th>102</th>\n",
       "      <td>Yes</td>\n",
       "      <td>BS BIOLOGY</td>\n",
       "      <td>1st Degree</td>\n",
       "      <td>UP LOS BANOS</td>\n",
       "      <td>No</td>\n",
       "      <td>no</td>\n",
       "      <td>ATENEO DE MANILA UNIVERSITY</td>\n",
       "      <td>NaN</td>\n",
       "      <td>NaN</td>\n",
       "      <td>NaN</td>\n",
       "      <td>cbzrc</td>\n",
       "    </tr>\n",
       "    <tr>\n",
       "      <th>872</th>\n",
       "      <td>Yes</td>\n",
       "      <td>BS CIVIL ENGINEERING</td>\n",
       "      <td>First Choice</td>\n",
       "      <td>UP DILIMAN</td>\n",
       "      <td>Yes</td>\n",
       "      <td>NaN</td>\n",
       "      <td>NaN</td>\n",
       "      <td>NaN</td>\n",
       "      <td>NaN</td>\n",
       "      <td>NaN</td>\n",
       "      <td>main</td>\n",
       "    </tr>\n",
       "    <tr>\n",
       "      <th>524</th>\n",
       "      <td>No</td>\n",
       "      <td>NaN</td>\n",
       "      <td>NaN</td>\n",
       "      <td>NaN</td>\n",
       "      <td>NaN</td>\n",
       "      <td>NaN</td>\n",
       "      <td>NaN</td>\n",
       "      <td>NaN</td>\n",
       "      <td>NaN</td>\n",
       "      <td>NaN</td>\n",
       "      <td>smc</td>\n",
       "    </tr>\n",
       "    <tr>\n",
       "      <th>309</th>\n",
       "      <td>Yes</td>\n",
       "      <td>BS OCCUPATIONAL THERAPY</td>\n",
       "      <td>3rd Degree</td>\n",
       "      <td>UP MANILA</td>\n",
       "      <td>Yes</td>\n",
       "      <td>no</td>\n",
       "      <td>NaN</td>\n",
       "      <td>NaN</td>\n",
       "      <td>NaN</td>\n",
       "      <td>NaN</td>\n",
       "      <td>evc</td>\n",
       "    </tr>\n",
       "    <tr>\n",
       "      <th>797</th>\n",
       "      <td>No</td>\n",
       "      <td>NaN</td>\n",
       "      <td>NaN</td>\n",
       "      <td>NaN</td>\n",
       "      <td>NaN</td>\n",
       "      <td>NaN</td>\n",
       "      <td>NaN</td>\n",
       "      <td>NaN</td>\n",
       "      <td>NaN</td>\n",
       "      <td>NaN</td>\n",
       "      <td>main</td>\n",
       "    </tr>\n",
       "    <tr>\n",
       "      <th>476</th>\n",
       "      <td>Yes</td>\n",
       "      <td>BS COMPUTER SCIENCE</td>\n",
       "      <td>1st Degree</td>\n",
       "      <td>UP MANILA</td>\n",
       "      <td>Yes</td>\n",
       "      <td>no</td>\n",
       "      <td>NaN</td>\n",
       "      <td>NaN</td>\n",
       "      <td>NaN</td>\n",
       "      <td>NaN</td>\n",
       "      <td>smc</td>\n",
       "    </tr>\n",
       "  </tbody>\n",
       "</table>\n",
       "</div>"
      ],
      "text/plain": [
       "    app_status                pass_course pass_courseDegreeChoice  \\\n",
       "429        Yes     BS APPLIED MATHEMATICS              1st Degree   \n",
       "663        Yes           BS PUBLIC HEALTH              1st Degree   \n",
       "277        Yes  BS ELECTRICAL ENGINEERING              1st Degree   \n",
       "276         No                        NaN                     NaN   \n",
       "678         No                        NaN                     NaN   \n",
       "24          No                        NaN                     NaN   \n",
       "216        Yes              BS STATISTICS              1st Degree   \n",
       "517        Yes               BS CHEMISTRY              5th Degree   \n",
       "586         No                        NaN                     NaN   \n",
       "102        Yes                 BS BIOLOGY              1st Degree   \n",
       "872        Yes       BS CIVIL ENGINEERING            First Choice   \n",
       "524         No                        NaN                     NaN   \n",
       "309        Yes    BS OCCUPATIONAL THERAPY              3rd Degree   \n",
       "797         No                        NaN                     NaN   \n",
       "476        Yes        BS COMPUTER SCIENCE              1st Degree   \n",
       "\n",
       "      pass_campus pass_campusFirstChoice pass_pursue  \\\n",
       "429  UP LOS BANOS                    Yes          no   \n",
       "663    UP VISAYAS                    Yes          no   \n",
       "277    UP DILIMAN                    Yes         yes   \n",
       "276           NaN                    NaN         NaN   \n",
       "678           NaN                    NaN         NaN   \n",
       "24            NaN                    NaN         NaN   \n",
       "216  UP LOS BANOS                    Yes          no   \n",
       "517  UP LOS BANOS                     No    not sure   \n",
       "586           NaN                    NaN         NaN   \n",
       "102  UP LOS BANOS                     No          no   \n",
       "872    UP DILIMAN                    Yes         NaN   \n",
       "524           NaN                    NaN         NaN   \n",
       "309     UP MANILA                    Yes          no   \n",
       "797           NaN                    NaN         NaN   \n",
       "476     UP MANILA                    Yes          no   \n",
       "\n",
       "            pass_otherUniversity waitlist_course waitlist_campus dpwas_campus  \\\n",
       "429       DE LA SALLE UNIVERSITY             NaN             NaN          NaN   \n",
       "663                  DLSU Laguna             NaN             NaN          NaN   \n",
       "277                          NaN             NaN             NaN          NaN   \n",
       "276                          NaN             NaN             NaN          NaN   \n",
       "678                          NaN             NaN             NaN          NaN   \n",
       "24                           NaN             NaN             NaN          NaN   \n",
       "216                          NaN             NaN             NaN          NaN   \n",
       "517                          NaN             NaN             NaN          NaN   \n",
       "586                          NaN             NaN             NaN          NaN   \n",
       "102  ATENEO DE MANILA UNIVERSITY             NaN             NaN          NaN   \n",
       "872                          NaN             NaN             NaN          NaN   \n",
       "524                          NaN             NaN             NaN          NaN   \n",
       "309                          NaN             NaN             NaN          NaN   \n",
       "797                          NaN             NaN             NaN          NaN   \n",
       "476                          NaN             NaN             NaN          NaN   \n",
       "\n",
       "    campus  \n",
       "429    irc  \n",
       "663    wvc  \n",
       "277    evc  \n",
       "276    cvc  \n",
       "678    wvc  \n",
       "24     crc  \n",
       "216    cvc  \n",
       "517    smc  \n",
       "586    src  \n",
       "102  cbzrc  \n",
       "872   main  \n",
       "524    smc  \n",
       "309    evc  \n",
       "797   main  \n",
       "476    smc  "
      ]
     },
     "execution_count": 3,
     "metadata": {},
     "output_type": "execute_result"
    }
   ],
   "source": [
    "#sample rows in the dataframe\n",
    "df.sample(n=15)"
   ]
  },
  {
   "cell_type": "code",
   "execution_count": 4,
   "id": "0e0f0965-eab8-40d8-a8b4-cc3652363fb7",
   "metadata": {
    "tags": []
   },
   "outputs": [
    {
     "data": {
      "text/plain": [
       "array(['No', 'Yes', 'DPWAS', 'Waitlisted'], dtype=object)"
      ]
     },
     "execution_count": 4,
     "metadata": {},
     "output_type": "execute_result"
    }
   ],
   "source": [
    "#unique responses on the status types of all applicants\n",
    "df.app_status.unique()"
   ]
  },
  {
   "cell_type": "markdown",
   "id": "2357c8b2-163a-4248-85fe-ba8bfe7606e8",
   "metadata": {},
   "source": [
    "## I. Exploratory Analysis on Accepted UP Applicants from PSHS"
   ]
  },
  {
   "cell_type": "code",
   "execution_count": 5,
   "id": "a99ad046-aec3-4ef5-b807-39db4015a8ba",
   "metadata": {},
   "outputs": [
    {
     "data": {
      "text/plain": [
       "405"
      ]
     },
     "execution_count": 5,
     "metadata": {},
     "output_type": "execute_result"
    }
   ],
   "source": [
    "#extracting Accepted UP Applicants from dataframe and initializing them to the df_passers data frame\n",
    "df_passers=df[df.app_status==\"Yes\"]\n",
    "#total of Accepted UP Applicants\n",
    "len(df_passers)"
   ]
  },
  {
   "cell_type": "code",
   "execution_count": 6,
   "id": "61b7552d-0eac-4a7c-bdcb-b8c458eedf4f",
   "metadata": {},
   "outputs": [
    {
     "data": {
      "text/html": [
       "<div>\n",
       "<style scoped>\n",
       "    .dataframe tbody tr th:only-of-type {\n",
       "        vertical-align: middle;\n",
       "    }\n",
       "\n",
       "    .dataframe tbody tr th {\n",
       "        vertical-align: top;\n",
       "    }\n",
       "\n",
       "    .dataframe thead th {\n",
       "        text-align: right;\n",
       "    }\n",
       "</style>\n",
       "<table border=\"1\" class=\"dataframe\">\n",
       "  <thead>\n",
       "    <tr style=\"text-align: right;\">\n",
       "      <th></th>\n",
       "      <th>app_status</th>\n",
       "      <th>pass_course</th>\n",
       "      <th>pass_courseDegreeChoice</th>\n",
       "      <th>pass_campus</th>\n",
       "      <th>pass_campusFirstChoice</th>\n",
       "      <th>pass_pursue</th>\n",
       "      <th>pass_otherUniversity</th>\n",
       "      <th>waitlist_course</th>\n",
       "      <th>waitlist_campus</th>\n",
       "      <th>dpwas_campus</th>\n",
       "      <th>campus</th>\n",
       "    </tr>\n",
       "  </thead>\n",
       "  <tbody>\n",
       "    <tr>\n",
       "      <th>672</th>\n",
       "      <td>Yes</td>\n",
       "      <td>BS BIOCHEMISTRY</td>\n",
       "      <td>1st Degree</td>\n",
       "      <td>UP MANILA</td>\n",
       "      <td>Yes</td>\n",
       "      <td>yes</td>\n",
       "      <td>NaN</td>\n",
       "      <td>NaN</td>\n",
       "      <td>NaN</td>\n",
       "      <td>NaN</td>\n",
       "      <td>wvc</td>\n",
       "    </tr>\n",
       "    <tr>\n",
       "      <th>138</th>\n",
       "      <td>Yes</td>\n",
       "      <td>BS GEOLOGY</td>\n",
       "      <td>2nd Degree</td>\n",
       "      <td>UP DILIMAN</td>\n",
       "      <td>Yes</td>\n",
       "      <td>yes</td>\n",
       "      <td>NaN</td>\n",
       "      <td>NaN</td>\n",
       "      <td>NaN</td>\n",
       "      <td>NaN</td>\n",
       "      <td>clc</td>\n",
       "    </tr>\n",
       "    <tr>\n",
       "      <th>188</th>\n",
       "      <td>Yes</td>\n",
       "      <td>BS COMPUTER SCIENCE</td>\n",
       "      <td>1st Degree</td>\n",
       "      <td>UP DILIMAN</td>\n",
       "      <td>Yes</td>\n",
       "      <td>yes</td>\n",
       "      <td>NaN</td>\n",
       "      <td>NaN</td>\n",
       "      <td>NaN</td>\n",
       "      <td>NaN</td>\n",
       "      <td>clc</td>\n",
       "    </tr>\n",
       "    <tr>\n",
       "      <th>512</th>\n",
       "      <td>Yes</td>\n",
       "      <td>BS BIOLOGY</td>\n",
       "      <td>1st Degree</td>\n",
       "      <td>UP MINDANAO</td>\n",
       "      <td>No</td>\n",
       "      <td>yes</td>\n",
       "      <td>NaN</td>\n",
       "      <td>NaN</td>\n",
       "      <td>NaN</td>\n",
       "      <td>NaN</td>\n",
       "      <td>smc</td>\n",
       "    </tr>\n",
       "    <tr>\n",
       "      <th>341</th>\n",
       "      <td>Yes</td>\n",
       "      <td>BS ELECTRONICS ENGINEERING</td>\n",
       "      <td>1st Degree</td>\n",
       "      <td>UP DILIMAN</td>\n",
       "      <td>Yes</td>\n",
       "      <td>yes</td>\n",
       "      <td>NaN</td>\n",
       "      <td>NaN</td>\n",
       "      <td>NaN</td>\n",
       "      <td>NaN</td>\n",
       "      <td>carc</td>\n",
       "    </tr>\n",
       "    <tr>\n",
       "      <th>522</th>\n",
       "      <td>Yes</td>\n",
       "      <td>BS ELECTRONICS ENGINEERING</td>\n",
       "      <td>1st Degree</td>\n",
       "      <td>UP DILIMAN</td>\n",
       "      <td>Yes</td>\n",
       "      <td>yes</td>\n",
       "      <td>NaN</td>\n",
       "      <td>NaN</td>\n",
       "      <td>NaN</td>\n",
       "      <td>NaN</td>\n",
       "      <td>smc</td>\n",
       "    </tr>\n",
       "    <tr>\n",
       "      <th>330</th>\n",
       "      <td>Yes</td>\n",
       "      <td>BS CHEMICAL ENGINEERING</td>\n",
       "      <td>1st Degree</td>\n",
       "      <td>UP DILIMAN</td>\n",
       "      <td>Yes</td>\n",
       "      <td>yes</td>\n",
       "      <td>NaN</td>\n",
       "      <td>NaN</td>\n",
       "      <td>NaN</td>\n",
       "      <td>NaN</td>\n",
       "      <td>evc</td>\n",
       "    </tr>\n",
       "    <tr>\n",
       "      <th>326</th>\n",
       "      <td>Yes</td>\n",
       "      <td>BS BIOLOGY</td>\n",
       "      <td>4th Degree</td>\n",
       "      <td>UP MANILA</td>\n",
       "      <td>Yes</td>\n",
       "      <td>no</td>\n",
       "      <td>NaN</td>\n",
       "      <td>NaN</td>\n",
       "      <td>NaN</td>\n",
       "      <td>NaN</td>\n",
       "      <td>evc</td>\n",
       "    </tr>\n",
       "    <tr>\n",
       "      <th>584</th>\n",
       "      <td>Yes</td>\n",
       "      <td>BS CHEMISTRY</td>\n",
       "      <td>1st Degree</td>\n",
       "      <td>UP VISAYAS</td>\n",
       "      <td>No</td>\n",
       "      <td>not sure</td>\n",
       "      <td>NaN</td>\n",
       "      <td>NaN</td>\n",
       "      <td>NaN</td>\n",
       "      <td>NaN</td>\n",
       "      <td>src</td>\n",
       "    </tr>\n",
       "    <tr>\n",
       "      <th>74</th>\n",
       "      <td>Yes</td>\n",
       "      <td>BS APPLIED PHYSICS</td>\n",
       "      <td>1st Degree</td>\n",
       "      <td>UP DILIMAN</td>\n",
       "      <td>Yes</td>\n",
       "      <td>yes</td>\n",
       "      <td>NaN</td>\n",
       "      <td>NaN</td>\n",
       "      <td>NaN</td>\n",
       "      <td>NaN</td>\n",
       "      <td>cbzrc</td>\n",
       "    </tr>\n",
       "    <tr>\n",
       "      <th>118</th>\n",
       "      <td>Yes</td>\n",
       "      <td>BS COMPUTER SCIENCE</td>\n",
       "      <td>1st Degree</td>\n",
       "      <td>UP LOS BANOS</td>\n",
       "      <td>No</td>\n",
       "      <td>yes</td>\n",
       "      <td>NaN</td>\n",
       "      <td>NaN</td>\n",
       "      <td>NaN</td>\n",
       "      <td>NaN</td>\n",
       "      <td>cbzrc</td>\n",
       "    </tr>\n",
       "    <tr>\n",
       "      <th>478</th>\n",
       "      <td>Yes</td>\n",
       "      <td>BS ARCHITECTURE</td>\n",
       "      <td>1st Degree</td>\n",
       "      <td>UP MINDANAO</td>\n",
       "      <td>No</td>\n",
       "      <td>not sure</td>\n",
       "      <td>MSU-IIT</td>\n",
       "      <td>NaN</td>\n",
       "      <td>NaN</td>\n",
       "      <td>NaN</td>\n",
       "      <td>smc</td>\n",
       "    </tr>\n",
       "    <tr>\n",
       "      <th>161</th>\n",
       "      <td>Yes</td>\n",
       "      <td>BS COMPUTER SCIENCE</td>\n",
       "      <td>1st Degree</td>\n",
       "      <td>UP DILIMAN</td>\n",
       "      <td>Yes</td>\n",
       "      <td>no</td>\n",
       "      <td>ATENEO DE MANILA UNIVERSITY</td>\n",
       "      <td>NaN</td>\n",
       "      <td>NaN</td>\n",
       "      <td>NaN</td>\n",
       "      <td>clc</td>\n",
       "    </tr>\n",
       "    <tr>\n",
       "      <th>751</th>\n",
       "      <td>Yes</td>\n",
       "      <td>BS PHYSICS</td>\n",
       "      <td>First Choice</td>\n",
       "      <td>UP DILIMAN</td>\n",
       "      <td>Yes</td>\n",
       "      <td>NaN</td>\n",
       "      <td>NaN</td>\n",
       "      <td>NaN</td>\n",
       "      <td>NaN</td>\n",
       "      <td>NaN</td>\n",
       "      <td>main</td>\n",
       "    </tr>\n",
       "    <tr>\n",
       "      <th>758</th>\n",
       "      <td>Yes</td>\n",
       "      <td>BS CHEMICAL ENGINEERING</td>\n",
       "      <td>First Choice</td>\n",
       "      <td>UP DILIMAN</td>\n",
       "      <td>Yes</td>\n",
       "      <td>NaN</td>\n",
       "      <td>NaN</td>\n",
       "      <td>NaN</td>\n",
       "      <td>NaN</td>\n",
       "      <td>NaN</td>\n",
       "      <td>main</td>\n",
       "    </tr>\n",
       "  </tbody>\n",
       "</table>\n",
       "</div>"
      ],
      "text/plain": [
       "    app_status                 pass_course pass_courseDegreeChoice  \\\n",
       "672        Yes             BS BIOCHEMISTRY              1st Degree   \n",
       "138        Yes                  BS GEOLOGY              2nd Degree   \n",
       "188        Yes         BS COMPUTER SCIENCE              1st Degree   \n",
       "512        Yes                  BS BIOLOGY              1st Degree   \n",
       "341        Yes  BS ELECTRONICS ENGINEERING              1st Degree   \n",
       "522        Yes  BS ELECTRONICS ENGINEERING              1st Degree   \n",
       "330        Yes     BS CHEMICAL ENGINEERING              1st Degree   \n",
       "326        Yes                  BS BIOLOGY              4th Degree   \n",
       "584        Yes                BS CHEMISTRY              1st Degree   \n",
       "74         Yes          BS APPLIED PHYSICS              1st Degree   \n",
       "118        Yes         BS COMPUTER SCIENCE              1st Degree   \n",
       "478        Yes             BS ARCHITECTURE              1st Degree   \n",
       "161        Yes         BS COMPUTER SCIENCE              1st Degree   \n",
       "751        Yes                  BS PHYSICS            First Choice   \n",
       "758        Yes     BS CHEMICAL ENGINEERING            First Choice   \n",
       "\n",
       "      pass_campus pass_campusFirstChoice pass_pursue  \\\n",
       "672     UP MANILA                    Yes         yes   \n",
       "138    UP DILIMAN                    Yes         yes   \n",
       "188    UP DILIMAN                    Yes         yes   \n",
       "512   UP MINDANAO                     No         yes   \n",
       "341    UP DILIMAN                    Yes         yes   \n",
       "522    UP DILIMAN                    Yes         yes   \n",
       "330    UP DILIMAN                    Yes         yes   \n",
       "326     UP MANILA                    Yes          no   \n",
       "584    UP VISAYAS                     No    not sure   \n",
       "74     UP DILIMAN                    Yes         yes   \n",
       "118  UP LOS BANOS                     No         yes   \n",
       "478   UP MINDANAO                     No    not sure   \n",
       "161    UP DILIMAN                    Yes          no   \n",
       "751    UP DILIMAN                    Yes         NaN   \n",
       "758    UP DILIMAN                    Yes         NaN   \n",
       "\n",
       "            pass_otherUniversity waitlist_course waitlist_campus dpwas_campus  \\\n",
       "672                          NaN             NaN             NaN          NaN   \n",
       "138                          NaN             NaN             NaN          NaN   \n",
       "188                          NaN             NaN             NaN          NaN   \n",
       "512                          NaN             NaN             NaN          NaN   \n",
       "341                          NaN             NaN             NaN          NaN   \n",
       "522                          NaN             NaN             NaN          NaN   \n",
       "330                          NaN             NaN             NaN          NaN   \n",
       "326                          NaN             NaN             NaN          NaN   \n",
       "584                          NaN             NaN             NaN          NaN   \n",
       "74                           NaN             NaN             NaN          NaN   \n",
       "118                          NaN             NaN             NaN          NaN   \n",
       "478                      MSU-IIT             NaN             NaN          NaN   \n",
       "161  ATENEO DE MANILA UNIVERSITY             NaN             NaN          NaN   \n",
       "751                          NaN             NaN             NaN          NaN   \n",
       "758                          NaN             NaN             NaN          NaN   \n",
       "\n",
       "    campus  \n",
       "672    wvc  \n",
       "138    clc  \n",
       "188    clc  \n",
       "512    smc  \n",
       "341   carc  \n",
       "522    smc  \n",
       "330    evc  \n",
       "326    evc  \n",
       "584    src  \n",
       "74   cbzrc  \n",
       "118  cbzrc  \n",
       "478    smc  \n",
       "161    clc  \n",
       "751   main  \n",
       "758   main  "
      ]
     },
     "execution_count": 6,
     "metadata": {},
     "output_type": "execute_result"
    }
   ],
   "source": [
    "#sample of Accepted UP Applicants\n",
    "df_passers.sample(n=15)"
   ]
  },
  {
   "cell_type": "markdown",
   "id": "8280d9ed-5b21-4ab1-8569-67e3b7eae06b",
   "metadata": {},
   "source": [
    "## A. Based on Course Accepted"
   ]
  },
  {
   "cell_type": "markdown",
   "id": "323cbc86-45ef-4c64-81fe-039a715383af",
   "metadata": {},
   "source": [
    "### 1)Which courses accepted the most number of PSHS applicants"
   ]
  },
  {
   "cell_type": "code",
   "execution_count": 7,
   "id": "9df7832b-7098-4b99-a910-5e659ed4b5db",
   "metadata": {},
   "outputs": [
    {
     "data": {
      "text/plain": [
       "array(['BS ARCHITECTURE', 'BS AGRICULTURAL BIOTECHNOLOGY',\n",
       "       'BS STATISTICS', 'BS ECONOMICS', 'BS BIOLOGY',\n",
       "       'BS AGRICULTURAL AND BIOSYSTEMS ENGINEERING', 'BS APPLIED PHYSICS',\n",
       "       'BS CHEMICAL ENGINEERING', 'BS NUTRITION',\n",
       "       'BS MATHEMATICS AND SCIENCE TEACHING', 'BS COMPUTER ENGINEERING',\n",
       "       'BS PHYSICS', 'BS VETERINARY MEDICINE',\n",
       "       'BS MECHANICAL ENGINEERING',\n",
       "       'BS MOLECULAR BIOLOGY AND BIOTECHNOLOGY',\n",
       "       'BS ELECTRONICS ENGINEERING', 'BS COMPUTER SCIENCE', 'BS GEOLOGY',\n",
       "       'BS BIOCHEMISTRY', 'BS CHEMISTRY',\n",
       "       'BS AGRIBUSINESS MANAGEMENT AND ENTREPRENEURSHIP',\n",
       "       'BS INDUSTRIAL ENGINEERING', 'BS OCCUPATIONAL THERAPY',\n",
       "       'BS ELECTRICAL ENGINEERING', 'BS CIVIL ENGINEERING',\n",
       "       'BS PUBLIC HEALTH', 'BS PHARMACEUTICAL SCIENCES', 'BS GEOGRAPHY',\n",
       "       'BS MATHEMATICS', 'BS METALLURGICAL ENGINEERING',\n",
       "       'BS FOOD TECHNOLOGY', 'BS MATERIALS ENGINEERING',\n",
       "       'BS FAMILY LIFE AND CHILD DEVELOPMENT', 'BS FISHERIES',\n",
       "       'BS GEODETIC ENGINEERING', 'BS CLOTHING TECHNOLOGY',\n",
       "       'BS PSYCHOLOGY', 'BS AGRICULTURAL CHEMISTRY', 'BS HOME ECONOMICS',\n",
       "       'BS HUMAN ECOLOGY', 'BA POLITICAL SCIENCE',\n",
       "       'BS BUSINESS ADMINISTRATION', 'BS FOOD TECHNOLOGY ',\n",
       "       'BS APPLIED MATHEMATICS', 'BS COMMUNITY NUTRITION',\n",
       "       'BS AGRICULTURE', 'BA FINE ARTS', 'BS SPEECH PATHOLOGY',\n",
       "       'BS ANTHROPOLOGY', 'BS AGRIBUSINESS ECONOMICS',\n",
       "       'BS PHYSICAL THERAPY', 'BA PSYCHOLOGY', 'BA FISHERIES',\n",
       "       'BS FORESTRY', nan, 'BS SPORTS SCIENCE', 'BS NURSING'],\n",
       "      dtype=object)"
      ]
     },
     "execution_count": 7,
     "metadata": {},
     "output_type": "execute_result"
    }
   ],
   "source": [
    "#list of unique courses chosen by the accepted applicants\n",
    "df_passers.pass_course.unique()"
   ]
  },
  {
   "cell_type": "code",
   "execution_count": 8,
   "id": "f7c99e49-d40a-4af8-ba93-4fb1a1151140",
   "metadata": {},
   "outputs": [
    {
     "data": {
      "text/plain": [
       "<AxesSubplot:title={'center':'TOP 20 Courses of Accepted UP Applicants from PSHS'}, xlabel='Course Names', ylabel='Number of Accepte Applicants'>"
      ]
     },
     "execution_count": 8,
     "metadata": {},
     "output_type": "execute_result"
    },
    {
     "data": {
      "image/png": "[encoded data removed]",
      "text/plain": [
       "<Figure size 1080x720 with 1 Axes>"
      ]
     },
     "metadata": {
      "needs_background": "light"
     },
     "output_type": "display_data"
    }
   ],
   "source": [
    "#count how many applicants got accepted per course\n",
    "pass_course=df_passers.pass_course.value_counts()\n",
    "#plotting top 20 courses with the highest number of PSHS applicants accepted\n",
    "pass_course[:20].plot(kind=\"bar\",figsize=(15,10),title=\"TOP 20 Courses of Accepted UP Applicants from PSHS\",ylabel=\"Number of Accepte Applicants\",xlabel=\"Course Names\")"
   ]
  },
  {
   "cell_type": "markdown",
   "id": "50206210-eaea-4f04-9375-d5b056339a5c",
   "metadata": {},
   "source": [
    "### 2)What degree choice was the course chosen by the PSHS applicant"
   ]
  },
  {
   "cell_type": "code",
   "execution_count": 9,
   "id": "5645ad84-fb28-4f5b-b0d3-1c18d4ae1f04",
   "metadata": {},
   "outputs": [
    {
     "data": {
      "text/plain": [
       "<AxesSubplot:title={'center':'Number of Accepted Applicants per Degree Choice'}, xlabel='Degree Choice', ylabel='Number of Accepted Applicants'>"
      ]
     },
     "execution_count": 9,
     "metadata": {},
     "output_type": "execute_result"
    },
    {
     "data": {
      "image/png": "[encoded data removed]",
      "text/plain": [
       "<Figure size 1080x720 with 1 Axes>"
      ]
     },
     "metadata": {
      "needs_background": "light"
     },
     "output_type": "display_data"
    }
   ],
   "source": [
    "#count how many applicants got accepted in a degree choice\n",
    "pass_courseDegreeChoice= df_passers.pass_courseDegreeChoice.value_counts()\n",
    "#plotting the number of applicant accepted in a degree choice\n",
    "pass_courseDegreeChoice.plot(kind=\"bar\",figsize=(15,10), title=\"Number of Accepted Applicants per Degree Choice\", xlabel=\"Degree Choice\", ylabel=\"Number of Accepted Applicants\")"
   ]
  },
  {
   "cell_type": "markdown",
   "id": "b6a09060-b570-46d6-a732-2f09747b081a",
   "metadata": {},
   "source": [
    "### 3)What percent of the passers plan to pursue UP?"
   ]
  },
  {
   "cell_type": "code",
   "execution_count": 10,
   "id": "a75eb736-b9d7-4402-af9f-14b4a7c81a66",
   "metadata": {},
   "outputs": [
    {
     "data": {
      "text/plain": [
       "<bound method Series.unique of yes         137\n",
       "no           72\n",
       "not sure     68\n",
       "Name: pass_pursue, dtype: int64>"
      ]
     },
     "execution_count": 10,
     "metadata": {},
     "output_type": "execute_result"
    }
   ],
   "source": [
    "#count how many passers plan to pursue UP\n",
    "pass_pursue=df_passers.pass_pursue.value_counts()\n",
    "#unique responses of the passers on pursuing UP\n",
    "pass_pursue.unique"
   ]
  },
  {
   "cell_type": "code",
   "execution_count": 11,
   "id": "6265177f-c880-4a0e-b972-a35bf8e12330",
   "metadata": {},
   "outputs": [
    {
     "data": {
      "text/plain": [
       "<AxesSubplot:title={'center':'Percent of Applicants Who Plan to Pursue UP'}, ylabel='pass_pursue'>"
      ]
     },
     "execution_count": 11,
     "metadata": {},
     "output_type": "execute_result"
    },
    {
     "data": {
      "image/png": "[encoded data removed]",
      "text/plain": [
       "<Figure size 720x720 with 1 Axes>"
      ]
     },
     "metadata": {},
     "output_type": "display_data"
    }
   ],
   "source": [
    "#plotting a piechart on the plans of accepted applicants in pursuing UP\n",
    "pass_pursue.plot(kind=\"pie\",figsize=(10,10),title=\"Percent of Applicants Who Plan to Pursue UP\")"
   ]
  },
  {
   "cell_type": "markdown",
   "id": "33c64b09-6350-4311-8928-0a38be49748c",
   "metadata": {},
   "source": [
    "### 4)How many applicants who got accepted to a degree choice will plan to pursue UP?"
   ]
  },
  {
   "cell_type": "code",
   "execution_count": 12,
   "id": "716df895-4853-4ac8-87ea-045864b5e255",
   "metadata": {},
   "outputs": [
    {
     "data": {
      "text/plain": [
       "array(['1st Degree', '4th Degree', '3rd Degree', '5th Degree',\n",
       "       '2nd Degree', nan, 'First Choice', 'Third Choice', 'Fourth Choice',\n",
       "       'Second Choice'], dtype=object)"
      ]
     },
     "execution_count": 12,
     "metadata": {},
     "output_type": "execute_result"
    }
   ],
   "source": [
    "#unique responses on degree choices an applicant got accepted\n",
    "df_passers[\"pass_courseDegreeChoice\"].unique()"
   ]
  },
  {
   "cell_type": "code",
   "execution_count": 13,
   "id": "152c903c-6f4f-4c33-8cbf-d4f749e4a9dc",
   "metadata": {},
   "outputs": [
    {
     "data": {
      "text/plain": [
       "<AxesSubplot:title={'center':'Number of Applicants Who Plan to Pursue UP Based on the Degree Choice where They were Accepted'}, xlabel='Degree Choice'>"
      ]
     },
     "execution_count": 13,
     "metadata": {},
     "output_type": "execute_result"
    },
    {
     "data": {
      "image/png": "[encoded data removed]",
      "text/plain": [
       "<Figure size 1080x720 with 1 Axes>"
      ]
     },
     "metadata": {
      "needs_background": "light"
     },
     "output_type": "display_data"
    }
   ],
   "source": [
    "#grouping data based on their degree choice and their plan to pursue UP\n",
    "choice_pursue=df_passers.groupby([\"pass_courseDegreeChoice\",\"pass_pursue\"]).size().unstack()\n",
    "#plotting data based on their degree choice and their plan to pursue UP\n",
    "choice_pursue.plot(kind=\"bar\",figsize=(15,10),title=\"Number of Applicants Who Plan to Pursue UP Based on the Degree Choice where They were Accepted\",xlabel=\"Degree Choice\")"
   ]
  },
  {
   "cell_type": "markdown",
   "id": "29a16aba-d029-49f4-b2ef-755cacef4c2b",
   "metadata": {},
   "source": [
    "## B. Based on Campus Accepted"
   ]
  },
  {
   "cell_type": "markdown",
   "id": "3f44913e-a33e-45a6-851c-56ff1523af75",
   "metadata": {},
   "source": [
    "### 1)Which UP campuses accepted the highest number of PSHS applicants?"
   ]
  },
  {
   "cell_type": "code",
   "execution_count": 14,
   "id": "b65dda4c-409b-4db2-b577-d39e8f8dcb34",
   "metadata": {},
   "outputs": [
    {
     "data": {
      "text/plain": [
       "UP DILIMAN      202\n",
       "UP LOS BANOS     60\n",
       "UP VISAYAS       51\n",
       "UP MANILA        51\n",
       "UP MINDANAO      15\n",
       "UPLB             14\n",
       "UP BAGUIO         8\n",
       "UP CEBU           1\n",
       "Name: pass_campus, dtype: int64"
      ]
     },
     "execution_count": 14,
     "metadata": {},
     "output_type": "execute_result"
    }
   ],
   "source": [
    "#counting number of passers per UP campus\n",
    "pass_campus=df_passers.pass_campus.value_counts()\n",
    "pass_campus"
   ]
  },
  {
   "cell_type": "code",
   "execution_count": 15,
   "id": "4e2737f7-b5a2-4c33-8ce7-9945b9335457",
   "metadata": {},
   "outputs": [
    {
     "data": {
      "text/plain": [
       "<AxesSubplot:title={'center':'Number of Accepted UP Applicants per PSHS Campus'}, xlabel='UP Campus', ylabel='Number of Accepted Applicants'>"
      ]
     },
     "execution_count": 15,
     "metadata": {},
     "output_type": "execute_result"
    },
    {
     "data": {
      "image/png": "[encoded data removed]",
      "text/plain": [
       "<Figure size 1080x720 with 1 Axes>"
      ]
     },
     "metadata": {
      "needs_background": "light"
     },
     "output_type": "display_data"
    }
   ],
   "source": [
    "#plotting results to a horizontal bar graph\n",
    "pass_campus.plot(kind=\"bar\",figsize=(15,10),title=\"Number of Accepted UP Applicants per PSHS Campus\",xlabel=\"UP Campus\",ylabel=\"Number of Accepted Applicants\")"
   ]
  },
  {
   "cell_type": "markdown",
   "id": "a34bc2f3-df3e-424c-85ac-0eff10acf99b",
   "metadata": {},
   "source": [
    "### 2)What percent of passers got accepted in their first UP campus choice?"
   ]
  },
  {
   "cell_type": "code",
   "execution_count": 16,
   "id": "0885987b-6ff0-4a5b-b98d-c04e6bb3e741",
   "metadata": {},
   "outputs": [
    {
     "data": {
      "text/plain": [
       "<AxesSubplot:title={'center':'Percent of Accepted UP Applicants who were Accepted at their First UP Campus Choice'}, ylabel='pass_campusFirstChoice'>"
      ]
     },
     "execution_count": 16,
     "metadata": {},
     "output_type": "execute_result"
    },
    {
     "data": {
      "image/png": "[encoded data removed]",
      "text/plain": [
       "<Figure size 720x720 with 1 Axes>"
      ]
     },
     "metadata": {},
     "output_type": "display_data"
    }
   ],
   "source": [
    "pass_campusFirstChoice = df_passers.pass_campusFirstChoice.value_counts()\n",
    "pass_campusFirstChoice.plot(kind=\"pie\",figsize=(10,10),title=\"Percent of Accepted UP Applicants who were Accepted at their First UP Campus Choice\")"
   ]
  },
  {
   "cell_type": "markdown",
   "id": "a253dba7-567f-4f61-87b8-ddc15f01820e",
   "metadata": {},
   "source": [
    "### 3)Which UP campus has the most number of PSHS accepted applicants that who will plan to pursue UP?"
   ]
  },
  {
   "cell_type": "code",
   "execution_count": 17,
   "id": "68a4e0c3-605e-4bfe-946a-6f0a95ddd178",
   "metadata": {},
   "outputs": [
    {
     "data": {
      "text/plain": [
       "<AxesSubplot:title={'center':'Plans of Accepted UP Applicants in Pursuing UP per UP Campus'}, xlabel='UP Campus', ylabel='Number of Accepted Applicants'>"
      ]
     },
     "execution_count": 17,
     "metadata": {},
     "output_type": "execute_result"
    },
    {
     "data": {
      "image/png": "[encoded data removed]",
      "text/plain": [
       "<Figure size 1080x720 with 1 Axes>"
      ]
     },
     "metadata": {
      "needs_background": "light"
     },
     "output_type": "display_data"
    }
   ],
   "source": [
    "campus_pursue=df_passers.groupby([\"pass_campus\",\"pass_pursue\"]).size().unstack()\n",
    "campus_pursue.plot(kind=\"bar\",figsize=(15,10),title=\"Plans of Accepted UP Applicants in Pursuing UP per UP Campus\",xlabel=\"UP Campus\",ylabel=\"Number of Accepted Applicants\")"
   ]
  },
  {
   "cell_type": "markdown",
   "id": "72cc392b-c07f-4c2d-8955-37be1309c189",
   "metadata": {},
   "source": [
    "## C. Based on PSHS Campus"
   ]
  },
  {
   "cell_type": "markdown",
   "id": "0c0ad4ae-ad99-49e6-b7ee-2c4c7273598f",
   "metadata": {},
   "source": [
    "### 1)Which campus has the highest number of passers?"
   ]
  },
  {
   "cell_type": "code",
   "execution_count": 18,
   "id": "1bbd79fd-4d5e-447a-b47e-7a52ce85c0bc",
   "metadata": {},
   "outputs": [
    {
     "data": {
      "text/plain": [
       "<AxesSubplot:title={'center':'Number of Accepted UP Applicants per PSHS Campus'}, xlabel='PSHS Campus', ylabel='Number of Accepted Applicants'>"
      ]
     },
     "execution_count": 18,
     "metadata": {},
     "output_type": "execute_result"
    },
    {
     "data": {
      "image/png": "[encoded data removed]",
      "text/plain": [
       "<Figure size 1080x720 with 1 Axes>"
      ]
     },
     "metadata": {
      "needs_background": "light"
     },
     "output_type": "display_data"
    }
   ],
   "source": [
    "#counting number of accepted applicants per PSHS campus\n",
    "pass_campus=df_passers.campus.value_counts()\n",
    "#plotting number of passers per PSHS campus\n",
    "pass_campus.plot(kind=\"bar\",figsize=(15,10),title=\"Number of Accepted UP Applicants per PSHS Campus\",xlabel=\"PSHS Campus\",ylabel=\"Number of Accepted Applicants\")"
   ]
  },
  {
   "cell_type": "markdown",
   "id": "225a4ec9-780a-4979-968a-f1af8a8b58fc",
   "metadata": {},
   "source": [
    "### 2)Which degree choice has the highest number of accepted applicants for each PSHS campus?"
   ]
  },
  {
   "cell_type": "code",
   "execution_count": 19,
   "id": "f115e40a-7fa4-4910-a232-d54f8eeb0cdd",
   "metadata": {},
   "outputs": [
    {
     "data": {
      "text/plain": [
       "<AxesSubplot:title={'center':'Number of Accepted UP Applicants from each PSHS Campus Based on the Degree Choice that they were Accepted'}, xlabel='PSHS Campus', ylabel='Number of Accepted Applicants'>"
      ]
     },
     "execution_count": 19,
     "metadata": {},
     "output_type": "execute_result"
    },
    {
     "data": {
      "image/png": "[encoded data removed]",
      "text/plain": [
       "<Figure size 1080x720 with 1 Axes>"
      ]
     },
     "metadata": {
      "needs_background": "light"
     },
     "output_type": "display_data"
    }
   ],
   "source": [
    "#counting number of applicants per PSHS campus who got accepted to a certain degree choice\n",
    "pshsCampus_degreeChoice=df_passers.groupby([\"campus\",\"pass_courseDegreeChoice\"]).size().unstack()\n",
    "#plotting the number of applicants per PSHS campus who got accepted to a certain degree choice\n",
    "pshsCampus_degreeChoice.plot(kind=\"bar\",figsize=(15,10),title=\"Number of Accepted UP Applicants from each PSHS Campus Based on the Degree Choice that they were Accepted\",xlabel=\"PSHS Campus\",ylabel=\"Number of Accepted Applicants\")"
   ]
  },
  {
   "cell_type": "markdown",
   "id": "7b035f30-bf02-4bc4-a181-2f8e7993ea87",
   "metadata": {},
   "source": [
    "### 3)Which UP campus has the highest number of accepted applicants per PSHS campus"
   ]
  },
  {
   "cell_type": "code",
   "execution_count": 20,
   "id": "7deec515-76d9-4437-b36a-a789c58a7f37",
   "metadata": {},
   "outputs": [
    {
     "data": {
      "text/plain": [
       "<AxesSubplot:title={'center':'Number of Accepted UP Applicants per PSHS Campus Who were Accepted at each UP Campus'}, xlabel='PSHS Campus', ylabel='Number of Accepted Applicants'>"
      ]
     },
     "execution_count": 20,
     "metadata": {},
     "output_type": "execute_result"
    },
    {
     "data": {
      "image/png": "[encoded data removed]",
      "text/plain": [
       "<Figure size 1080x720 with 1 Axes>"
      ]
     },
     "metadata": {
      "needs_background": "light"
     },
     "output_type": "display_data"
    }
   ],
   "source": [
    "#counting number of accepted applicants per PSHS campus who got accepted to each UP campus\n",
    "pshsCampus_campusChoice=df_passers.groupby([\"campus\",\"pass_campus\"]).size().unstack()\n",
    "#plotting number of accepted applicants per PSHS campus who got accepted to each UP campus\n",
    "pshsCampus_campusChoice.plot(kind=\"bar\",figsize=(15,10),title=\"Number of Accepted UP Applicants per PSHS Campus Who were Accepted at each UP Campus\",xlabel=\"PSHS Campus\",ylabel=\"Number of Accepted Applicants\")"
   ]
  },
  {
   "cell_type": "markdown",
   "id": "5cdf11d8-bb29-416b-9b68-73d0cb64cad7",
   "metadata": {},
   "source": [
    "## II.Exploratory Analysis Between the Relationship of the Distance Between a PSHS Campus to a UP Campus"
   ]
  },
  {
   "cell_type": "markdown",
   "id": "84f4f94f-3426-4878-8f0c-b4918403e7a0",
   "metadata": {},
   "source": [
    "This part is about investigating the relationship between a PSHS Campus and a UP Campus and the number of applicants accepted to UP.  \n",
    "These are the steps for the analysis:  \n",
    "<b>A.Distances between PSHS Campus to UP Campus</b>  \n",
    "1)Create a dataframe containing the coordinates(latitude and longitude) of PSHS Campuses and name it df_pshsLoc  \n",
    "2)Create a dataframe containing the coordinates of the UP Campuses and name it df_upLoc  \n",
    "3)Create a dataframe containing the distances between the PSHS Campuses and the UP Campuses and name it df_distBetween  \n",
    "4)Create a box plot that shows df_distBetween  \n",
    "5)Divide df_distBetween into quartiles and name the column quartile\n",
    "<b>B.Number of Accepted applicants from a PSHS Campus to a UP Campus</b>  \n",
    "1)Create a dataframe containing the number of accepted applicants from a PSHS Campus to a UP Campus name it df_passersUp  \n",
    "2)Add a column containing the distance percentile of a PSHS Campus to a UP Campus to df_passersUp  \n",
    "<b>C.Analysis between distance and passers</b>  \n",
    "1)Group df_passersUp by distance percentile name it df_passersUpVsDist  \n",
    "2)Create a bar graph describing df_passersUpVsDist  \n"
   ]
  },
  {
   "cell_type": "markdown",
   "id": "67bf2e1c-32dd-4e55-bd94-a388eeee9a62",
   "metadata": {},
   "source": [
    "### A.Distances between PSHS Campus to UP Campus"
   ]
  },
  {
   "cell_type": "markdown",
   "id": "b24879f3-b91a-49f5-939c-9b17f50fdf22",
   "metadata": {},
   "source": [
    "#### 1)Create a dataframe containing the coordinates(latitude and longitude) of PSHS Campuses and name it df_pshsLoc"
   ]
  },
  {
   "cell_type": "code",
   "execution_count": 21,
   "id": "6b9d3c3d-aac2-4476-adfe-7d7a2987c952",
   "metadata": {},
   "outputs": [],
   "source": [
    "#fetching latitude and longitude using geopy\n",
    "from geopy.geocoders import Nominatim\n",
    "import geopy.distance\n",
    "geolocator = Nominatim(user_agent=\"pshs_data\")"
   ]
  },
  {
   "cell_type": "code",
   "execution_count": 22,
   "id": "9bb713b8-2aa0-42f8-b8a3-ed9357616fab",
   "metadata": {},
   "outputs": [],
   "source": [
    "#PSHS campus coordinates\n",
    "coordinates_main=geolocator.geocode(\"Philippine Science High School, Agham Road, San Jose, North Triangle, 1st District, Quezon City, Eastern Manila District, Metro Manila, 1105, Philippines\").point\n",
    "coordinates_carc=geolocator.geocode(\"Philippine Science High School CARC, PUROK 12, PSHS Road, Purok 12, Baguio, Benguet, Cordillera Administrative Region, 2600, Philippines\").point\n",
    "coordinates_cbzrc=geolocator.geocode(\"Philippine Science High School - CALABARZON Regional Campus, Batangas - Lobo Road, Sampaga, Sampaga Kanluran, Dumuclay, Batangas City, Batangas, Calabarzon, 4200, Philippines\").point\n",
    "coordinates_src=geolocator.geocode(\"Philippine Science High School - SOCCSKSARGEN Region Campus, Koronadal City - Cotabato City National Highway, Paraiso, Koronadal, South Cotabato, Soccsksargen, 9506, Philippines\").point\n",
    "coordinates_evc=geolocator.geocode(\"Philippine Science High School Eastern Visayas Campus, Tacloban - Palo Road, Pawing, Palo, Leyte 1st District, Leyte, Eastern Visayas, 6501, Philippines\").point\n",
    "coordinates_clc=geolocator.geocode(\"Philippine Science High School - Central Luzon Campus, Andres Soriano Senior, Lily Hill, Mabalacat, Pampanga, Central Luzon, 2010, Philippines\").point\n",
    "coordinates_brc=geolocator.geocode(\"Philippine Science High School - Bicol Region Campus, Tinambac - Lupi Road, Abucayan, Camarines Sur, Bicol Region, 4422, Philippines\").point\n",
    "coordinates_irc=geolocator.geocode(\"Philippine Science High School - Ilocos Region Campus\").point\n",
    "coordinates_crc=geolocator.geocode(\"Philippine Science High School - Caraga Region Campus, Surigao ‒ Butuan National Highway, Mindanao, Ampayon, Agusan del Norte, Caraga, 8600, Philippines\").point\n",
    "coordinates_cvc=geolocator.geocode(\"Philippine Science High School Cagayan Valley Campus, Bayombong-Ambaguio Road, Pawac, Tiblac, Nueva Vizcaya, Cagayan Valley, 3700, Philippines\").point\n",
    "coordinates_wvc=geolocator.geocode(\"Brgy. Road going to Philippine Science, Iloilo River Plain I, Jaro, Iloilo City, Iloilo, Western Visayas, 5003, Philippines\").point\n",
    "coordinates_smc=geolocator.geocode(\"Philippine Science High School, Davao-Bukidnon National Highway, Samulco Village, Cawa-Cawa, Catalunan Pequeño, Davao City, Davao Region, 8023, Philippines\").point\n",
    "coordinates_cvisc=geolocator.geocode(\"Philippine Science High School, Guso, Talaytay, Argao Vegetable Hiway, Jomgao, Cebu, Central Visayas, 6021, Philippines\").point"
   ]
  },
  {
   "cell_type": "code",
   "execution_count": 23,
   "id": "271d1092-8187-4708-91cd-00732915179e",
   "metadata": {},
   "outputs": [],
   "source": [
    "#putting campus coordinates into lists\n",
    "names_pisayCampus=[\"main\",\"carc\",\"cbzrc\",\"src\",\"evc\",\"clc\",\"brc\",\"irc\",\"crc\",\"cvc\",\"wvc\",\"smc\",\"cvisc\"]\n",
    "coordinates_pisayCampus=[\n",
    "    coordinates_main,\n",
    "    coordinates_carc,\n",
    "    coordinates_cbzrc,\n",
    "    coordinates_src,\n",
    "    coordinates_evc,\n",
    "    coordinates_clc,\n",
    "    coordinates_brc,\n",
    "    coordinates_irc,\n",
    "    coordinates_crc,\n",
    "    coordinates_cvc,\n",
    "    coordinates_wvc,\n",
    "    coordinates_smc,\n",
    "    coordinates_cvisc\n",
    "]"
   ]
  },
  {
   "cell_type": "code",
   "execution_count": 24,
   "id": "02a2527f-7b8a-41ed-90d6-f57a1db0284f",
   "metadata": {},
   "outputs": [],
   "source": [
    "#function to create an object that contains the campus names, their latitudes, and longitudes\n",
    "def createCampusInfo(campus_coordinates,campus_names):\n",
    "    lat=[]\n",
    "    long=[]\n",
    "    for campus in campus_coordinates:\n",
    "        lat.append(campus[0])\n",
    "        long.append(campus[1])\n",
    "    campusInfo={\n",
    "        \"campus\":campus_names,\n",
    "        \"lat\":lat,\n",
    "        \"long\":long\n",
    "    }\n",
    "    return campusInfo"
   ]
  },
  {
   "cell_type": "code",
   "execution_count": 25,
   "id": "52fdbf9c-8e15-40df-8755-a618a14d95b8",
   "metadata": {},
   "outputs": [
    {
     "data": {
      "text/html": [
       "<div>\n",
       "<style scoped>\n",
       "    .dataframe tbody tr th:only-of-type {\n",
       "        vertical-align: middle;\n",
       "    }\n",
       "\n",
       "    .dataframe tbody tr th {\n",
       "        vertical-align: top;\n",
       "    }\n",
       "\n",
       "    .dataframe thead th {\n",
       "        text-align: right;\n",
       "    }\n",
       "</style>\n",
       "<table border=\"1\" class=\"dataframe\">\n",
       "  <thead>\n",
       "    <tr style=\"text-align: right;\">\n",
       "      <th></th>\n",
       "      <th>pisay_campus</th>\n",
       "      <th>pisay_lat</th>\n",
       "      <th>pisay_long</th>\n",
       "    </tr>\n",
       "  </thead>\n",
       "  <tbody>\n",
       "    <tr>\n",
       "      <th>0</th>\n",
       "      <td>main</td>\n",
       "      <td>14.650883</td>\n",
       "      <td>121.040362</td>\n",
       "    </tr>\n",
       "    <tr>\n",
       "      <th>1</th>\n",
       "      <td>carc</td>\n",
       "      <td>16.416435</td>\n",
       "      <td>120.562248</td>\n",
       "    </tr>\n",
       "    <tr>\n",
       "      <th>2</th>\n",
       "      <td>cbzrc</td>\n",
       "      <td>13.759404</td>\n",
       "      <td>121.091634</td>\n",
       "    </tr>\n",
       "    <tr>\n",
       "      <th>3</th>\n",
       "      <td>src</td>\n",
       "      <td>6.488495</td>\n",
       "      <td>124.817582</td>\n",
       "    </tr>\n",
       "    <tr>\n",
       "      <th>4</th>\n",
       "      <td>evc</td>\n",
       "      <td>11.180415</td>\n",
       "      <td>125.003820</td>\n",
       "    </tr>\n",
       "    <tr>\n",
       "      <th>5</th>\n",
       "      <td>clc</td>\n",
       "      <td>15.191814</td>\n",
       "      <td>120.534410</td>\n",
       "    </tr>\n",
       "    <tr>\n",
       "      <th>6</th>\n",
       "      <td>brc</td>\n",
       "      <td>13.694878</td>\n",
       "      <td>123.466445</td>\n",
       "    </tr>\n",
       "    <tr>\n",
       "      <th>7</th>\n",
       "      <td>irc</td>\n",
       "      <td>17.624193</td>\n",
       "      <td>120.400996</td>\n",
       "    </tr>\n",
       "    <tr>\n",
       "      <th>8</th>\n",
       "      <td>crc</td>\n",
       "      <td>8.969172</td>\n",
       "      <td>125.594705</td>\n",
       "    </tr>\n",
       "    <tr>\n",
       "      <th>9</th>\n",
       "      <td>cvc</td>\n",
       "      <td>16.503076</td>\n",
       "      <td>121.107832</td>\n",
       "    </tr>\n",
       "    <tr>\n",
       "      <th>10</th>\n",
       "      <td>wvc</td>\n",
       "      <td>10.753277</td>\n",
       "      <td>122.588237</td>\n",
       "    </tr>\n",
       "    <tr>\n",
       "      <th>11</th>\n",
       "      <td>smc</td>\n",
       "      <td>7.082785</td>\n",
       "      <td>125.508746</td>\n",
       "    </tr>\n",
       "    <tr>\n",
       "      <th>12</th>\n",
       "      <td>cvisc</td>\n",
       "      <td>9.898906</td>\n",
       "      <td>123.585741</td>\n",
       "    </tr>\n",
       "  </tbody>\n",
       "</table>\n",
       "</div>"
      ],
      "text/plain": [
       "   pisay_campus  pisay_lat  pisay_long\n",
       "0          main  14.650883  121.040362\n",
       "1          carc  16.416435  120.562248\n",
       "2         cbzrc  13.759404  121.091634\n",
       "3           src   6.488495  124.817582\n",
       "4           evc  11.180415  125.003820\n",
       "5           clc  15.191814  120.534410\n",
       "6           brc  13.694878  123.466445\n",
       "7           irc  17.624193  120.400996\n",
       "8           crc   8.969172  125.594705\n",
       "9           cvc  16.503076  121.107832\n",
       "10          wvc  10.753277  122.588237\n",
       "11          smc   7.082785  125.508746\n",
       "12        cvisc   9.898906  123.585741"
      ]
     },
     "execution_count": 25,
     "metadata": {},
     "output_type": "execute_result"
    }
   ],
   "source": [
    "#object that contains the campus names, their latitudes, and longitudes\n",
    "info_pisayCampus=createCampusInfo(coordinates_pisayCampus,names_pisayCampus)\n",
    "#create data frame from campus_info\n",
    "df_pisayCampusInfo=pd.DataFrame(info_pisayCampus,columns=[\"campus\",\"lat\",\"long\"])\n",
    "df_pisayCampusInfo.columns=[\"pisay_campus\",\"pisay_lat\",\"pisay_long\"]\n",
    "df_pisayCampusInfo\n"
   ]
  },
  {
   "cell_type": "markdown",
   "id": "84caf1cd-0eff-44a4-8cc3-1101c97d912b",
   "metadata": {},
   "source": [
    "#### 2)Create a dataframe containing the coordinates of the UP Campuses and name it df_upLoc  "
   ]
  },
  {
   "cell_type": "code",
   "execution_count": 26,
   "id": "25c154c2-d35f-4b06-8d96-0a30522d14ad",
   "metadata": {},
   "outputs": [],
   "source": [
    "#UP Campus coordinates\n",
    "coordinates_UpDiliman=geolocator.geocode(\"University of the Philippines Diliman, Arboretum Road, Pael Subdivision, UP Campus, Diliman, 4th District, Quezon City, Eastern Manila District, Metro Manila, 1100, Philippines\").point\n",
    "coordinates_UpBaguio=geolocator.geocode(\"University of the Philippines Baguio, Governor Pack Road, Montinola Subdivision, Prieto Compound, Baguio, Benguet, Cordillera Administrative Region, 2600, Philippines\").point\n",
    "coordinates_UpCebu=geolocator.geocode(\"University of the Philippines Cebu, Gorordo Avenue, Purok 4, Lahug, Cebu City, Central Visayas, 6000, Philippines\").point\n",
    "coordinates_UpLosBanos=geolocator.geocode(\"University of the Philippines Los Baños, Felix O. Chinte, Sr., Makiling Heights Housing, Batong Malake, Los Baños, Laguna, Calabarzon, 4031, Philippines\").point\n",
    "coordinates_UpManila=geolocator.geocode(\"University of the Philippines - Manila, A. Vasquez Street, Pros-Apac Corpoation, Malate, Fifth District, Manila, Capital District, Metro Manila, 1004, Philippines\").point\n",
    "coordinates_UpMindanao=geolocator.geocode(\"UP Mindanao, Student Center Lane, Purok 19, Camp San Gabriel, Bago Oshiro, Davao City, Davao Region, 8022, Philippines\").point\n",
    "coordinates_UpVisayas=geolocator.geocode(\"University of the Philippines Visayas, Infante Avenue, Soriano Subdivision, Molo, Iloilo City, Iloilo, Western Visayas, 5000, Philippines\").point\n"
   ]
  },
  {
   "cell_type": "code",
   "execution_count": 27,
   "id": "45bdd31e-182e-4c9b-8781-eee8a8a44645",
   "metadata": {},
   "outputs": [
    {
     "data": {
      "text/plain": [
       "[Point(14.65422435, 121.0663606748634, 0.0),\n",
       " Point(16.405685300000002, 120.59833260947963, 0.0),\n",
       " Point(10.322567450000001, 123.8988044071532, 0.0),\n",
       " Point(14.16052895, 121.24256647998524, 0.0),\n",
       " Point(14.57592705, 120.98643716901391, 0.0),\n",
       " Point(7.08510625, 125.4857318696514, 0.0),\n",
       " Point(10.6983127, 122.55525493010288, 0.0)]"
      ]
     },
     "execution_count": 27,
     "metadata": {},
     "output_type": "execute_result"
    }
   ],
   "source": [
    "#putting campus coordinates into lists\n",
    "names_upCampus=['UP DILIMAN','UP BAGUIO',\"UP CEBU\",'UP LOS BANOS','UP MANILA','UP MINDANAO','UP VISAYAS']\n",
    "coordinates_upCampus=[\n",
    "    coordinates_UpDiliman,\n",
    "    coordinates_UpBaguio,\n",
    "    coordinates_UpCebu,\n",
    "    coordinates_UpLosBanos,\n",
    "    coordinates_UpManila,\n",
    "    coordinates_UpMindanao,\n",
    "    coordinates_UpVisayas\n",
    "]\n",
    "coordinates_upCampus"
   ]
  },
  {
   "cell_type": "code",
   "execution_count": 28,
   "id": "2928f382-dc73-4985-9012-04bcab35d9c2",
   "metadata": {},
   "outputs": [
    {
     "data": {
      "text/html": [
       "<div>\n",
       "<style scoped>\n",
       "    .dataframe tbody tr th:only-of-type {\n",
       "        vertical-align: middle;\n",
       "    }\n",
       "\n",
       "    .dataframe tbody tr th {\n",
       "        vertical-align: top;\n",
       "    }\n",
       "\n",
       "    .dataframe thead th {\n",
       "        text-align: right;\n",
       "    }\n",
       "</style>\n",
       "<table border=\"1\" class=\"dataframe\">\n",
       "  <thead>\n",
       "    <tr style=\"text-align: right;\">\n",
       "      <th></th>\n",
       "      <th>up_campus</th>\n",
       "      <th>up_lat</th>\n",
       "      <th>up_long</th>\n",
       "    </tr>\n",
       "  </thead>\n",
       "  <tbody>\n",
       "    <tr>\n",
       "      <th>0</th>\n",
       "      <td>UP DILIMAN</td>\n",
       "      <td>14.654224</td>\n",
       "      <td>121.066361</td>\n",
       "    </tr>\n",
       "    <tr>\n",
       "      <th>1</th>\n",
       "      <td>UP BAGUIO</td>\n",
       "      <td>16.405685</td>\n",
       "      <td>120.598333</td>\n",
       "    </tr>\n",
       "    <tr>\n",
       "      <th>2</th>\n",
       "      <td>UP CEBU</td>\n",
       "      <td>10.322567</td>\n",
       "      <td>123.898804</td>\n",
       "    </tr>\n",
       "    <tr>\n",
       "      <th>3</th>\n",
       "      <td>UP LOS BANOS</td>\n",
       "      <td>14.160529</td>\n",
       "      <td>121.242566</td>\n",
       "    </tr>\n",
       "    <tr>\n",
       "      <th>4</th>\n",
       "      <td>UP MANILA</td>\n",
       "      <td>14.575927</td>\n",
       "      <td>120.986437</td>\n",
       "    </tr>\n",
       "    <tr>\n",
       "      <th>5</th>\n",
       "      <td>UP MINDANAO</td>\n",
       "      <td>7.085106</td>\n",
       "      <td>125.485732</td>\n",
       "    </tr>\n",
       "    <tr>\n",
       "      <th>6</th>\n",
       "      <td>UP VISAYAS</td>\n",
       "      <td>10.698313</td>\n",
       "      <td>122.555255</td>\n",
       "    </tr>\n",
       "  </tbody>\n",
       "</table>\n",
       "</div>"
      ],
      "text/plain": [
       "      up_campus     up_lat     up_long\n",
       "0    UP DILIMAN  14.654224  121.066361\n",
       "1     UP BAGUIO  16.405685  120.598333\n",
       "2       UP CEBU  10.322567  123.898804\n",
       "3  UP LOS BANOS  14.160529  121.242566\n",
       "4     UP MANILA  14.575927  120.986437\n",
       "5   UP MINDANAO   7.085106  125.485732\n",
       "6    UP VISAYAS  10.698313  122.555255"
      ]
     },
     "execution_count": 28,
     "metadata": {},
     "output_type": "execute_result"
    }
   ],
   "source": [
    "info_upCampus=createCampusInfo(coordinates_upCampus,names_upCampus)\n",
    "df_upCampusInfo=pd.DataFrame(info_upCampus,columns=[\"campus\",\"lat\",\"long\"])\n",
    "df_upCampusInfo.columns=[\"up_campus\",\"up_lat\",\"up_long\"]\n",
    "df_upCampusInfo"
   ]
  },
  {
   "cell_type": "markdown",
   "id": "4a26323a-a0c2-4319-b969-a299cff82bd5",
   "metadata": {},
   "source": [
    "#### 3)Create a dataframe containing the distances between the PSHS Campuses and the UP Campuses and name it df_distBetween"
   ]
  },
  {
   "cell_type": "code",
   "execution_count": 29,
   "id": "f3931cc7-fe52-4959-baf8-09d9a6b0536f",
   "metadata": {},
   "outputs": [
    {
     "data": {
      "text/html": [
       "<div>\n",
       "<style scoped>\n",
       "    .dataframe tbody tr th:only-of-type {\n",
       "        vertical-align: middle;\n",
       "    }\n",
       "\n",
       "    .dataframe tbody tr th {\n",
       "        vertical-align: top;\n",
       "    }\n",
       "\n",
       "    .dataframe thead th {\n",
       "        text-align: right;\n",
       "    }\n",
       "</style>\n",
       "<table border=\"1\" class=\"dataframe\">\n",
       "  <thead>\n",
       "    <tr style=\"text-align: right;\">\n",
       "      <th></th>\n",
       "      <th>pisay_campus</th>\n",
       "      <th>pisay_lat</th>\n",
       "      <th>pisay_long</th>\n",
       "      <th>join</th>\n",
       "      <th>up_campus</th>\n",
       "      <th>up_lat</th>\n",
       "      <th>up_long</th>\n",
       "    </tr>\n",
       "  </thead>\n",
       "  <tbody>\n",
       "    <tr>\n",
       "      <th>0</th>\n",
       "      <td>main</td>\n",
       "      <td>14.650883</td>\n",
       "      <td>121.040362</td>\n",
       "      <td>1</td>\n",
       "      <td>UP DILIMAN</td>\n",
       "      <td>14.654224</td>\n",
       "      <td>121.066361</td>\n",
       "    </tr>\n",
       "    <tr>\n",
       "      <th>1</th>\n",
       "      <td>main</td>\n",
       "      <td>14.650883</td>\n",
       "      <td>121.040362</td>\n",
       "      <td>1</td>\n",
       "      <td>UP BAGUIO</td>\n",
       "      <td>16.405685</td>\n",
       "      <td>120.598333</td>\n",
       "    </tr>\n",
       "    <tr>\n",
       "      <th>2</th>\n",
       "      <td>main</td>\n",
       "      <td>14.650883</td>\n",
       "      <td>121.040362</td>\n",
       "      <td>1</td>\n",
       "      <td>UP CEBU</td>\n",
       "      <td>10.322567</td>\n",
       "      <td>123.898804</td>\n",
       "    </tr>\n",
       "    <tr>\n",
       "      <th>3</th>\n",
       "      <td>main</td>\n",
       "      <td>14.650883</td>\n",
       "      <td>121.040362</td>\n",
       "      <td>1</td>\n",
       "      <td>UP LOS BANOS</td>\n",
       "      <td>14.160529</td>\n",
       "      <td>121.242566</td>\n",
       "    </tr>\n",
       "    <tr>\n",
       "      <th>4</th>\n",
       "      <td>main</td>\n",
       "      <td>14.650883</td>\n",
       "      <td>121.040362</td>\n",
       "      <td>1</td>\n",
       "      <td>UP MANILA</td>\n",
       "      <td>14.575927</td>\n",
       "      <td>120.986437</td>\n",
       "    </tr>\n",
       "    <tr>\n",
       "      <th>...</th>\n",
       "      <td>...</td>\n",
       "      <td>...</td>\n",
       "      <td>...</td>\n",
       "      <td>...</td>\n",
       "      <td>...</td>\n",
       "      <td>...</td>\n",
       "      <td>...</td>\n",
       "    </tr>\n",
       "    <tr>\n",
       "      <th>86</th>\n",
       "      <td>cvisc</td>\n",
       "      <td>9.898906</td>\n",
       "      <td>123.585741</td>\n",
       "      <td>1</td>\n",
       "      <td>UP CEBU</td>\n",
       "      <td>10.322567</td>\n",
       "      <td>123.898804</td>\n",
       "    </tr>\n",
       "    <tr>\n",
       "      <th>87</th>\n",
       "      <td>cvisc</td>\n",
       "      <td>9.898906</td>\n",
       "      <td>123.585741</td>\n",
       "      <td>1</td>\n",
       "      <td>UP LOS BANOS</td>\n",
       "      <td>14.160529</td>\n",
       "      <td>121.242566</td>\n",
       "    </tr>\n",
       "    <tr>\n",
       "      <th>88</th>\n",
       "      <td>cvisc</td>\n",
       "      <td>9.898906</td>\n",
       "      <td>123.585741</td>\n",
       "      <td>1</td>\n",
       "      <td>UP MANILA</td>\n",
       "      <td>14.575927</td>\n",
       "      <td>120.986437</td>\n",
       "    </tr>\n",
       "    <tr>\n",
       "      <th>89</th>\n",
       "      <td>cvisc</td>\n",
       "      <td>9.898906</td>\n",
       "      <td>123.585741</td>\n",
       "      <td>1</td>\n",
       "      <td>UP MINDANAO</td>\n",
       "      <td>7.085106</td>\n",
       "      <td>125.485732</td>\n",
       "    </tr>\n",
       "    <tr>\n",
       "      <th>90</th>\n",
       "      <td>cvisc</td>\n",
       "      <td>9.898906</td>\n",
       "      <td>123.585741</td>\n",
       "      <td>1</td>\n",
       "      <td>UP VISAYAS</td>\n",
       "      <td>10.698313</td>\n",
       "      <td>122.555255</td>\n",
       "    </tr>\n",
       "  </tbody>\n",
       "</table>\n",
       "<p>91 rows × 7 columns</p>\n",
       "</div>"
      ],
      "text/plain": [
       "   pisay_campus  pisay_lat  pisay_long  join     up_campus     up_lat  \\\n",
       "0          main  14.650883  121.040362     1    UP DILIMAN  14.654224   \n",
       "1          main  14.650883  121.040362     1     UP BAGUIO  16.405685   \n",
       "2          main  14.650883  121.040362     1       UP CEBU  10.322567   \n",
       "3          main  14.650883  121.040362     1  UP LOS BANOS  14.160529   \n",
       "4          main  14.650883  121.040362     1     UP MANILA  14.575927   \n",
       "..          ...        ...         ...   ...           ...        ...   \n",
       "86        cvisc   9.898906  123.585741     1       UP CEBU  10.322567   \n",
       "87        cvisc   9.898906  123.585741     1  UP LOS BANOS  14.160529   \n",
       "88        cvisc   9.898906  123.585741     1     UP MANILA  14.575927   \n",
       "89        cvisc   9.898906  123.585741     1   UP MINDANAO   7.085106   \n",
       "90        cvisc   9.898906  123.585741     1    UP VISAYAS  10.698313   \n",
       "\n",
       "       up_long  \n",
       "0   121.066361  \n",
       "1   120.598333  \n",
       "2   123.898804  \n",
       "3   121.242566  \n",
       "4   120.986437  \n",
       "..         ...  \n",
       "86  123.898804  \n",
       "87  121.242566  \n",
       "88  120.986437  \n",
       "89  125.485732  \n",
       "90  122.555255  \n",
       "\n",
       "[91 rows x 7 columns]"
      ]
     },
     "execution_count": 29,
     "metadata": {},
     "output_type": "execute_result"
    }
   ],
   "source": [
    "#Merging the two dataframes together\n",
    "df_upCampusInfo[\"join\"]=1\n",
    "df_pisayCampusInfo[\"join\"]=1\n",
    "df_distBetween=pd.merge(df_pisayCampusInfo,df_upCampusInfo,on='join')\n",
    "df_distBetween"
   ]
  },
  {
   "cell_type": "code",
   "execution_count": 30,
   "id": "f5956c2e-7941-4d43-b755-44b794777668",
   "metadata": {},
   "outputs": [
    {
     "data": {
      "text/html": [
       "<div>\n",
       "<style scoped>\n",
       "    .dataframe tbody tr th:only-of-type {\n",
       "        vertical-align: middle;\n",
       "    }\n",
       "\n",
       "    .dataframe tbody tr th {\n",
       "        vertical-align: top;\n",
       "    }\n",
       "\n",
       "    .dataframe thead th {\n",
       "        text-align: right;\n",
       "    }\n",
       "</style>\n",
       "<table border=\"1\" class=\"dataframe\">\n",
       "  <thead>\n",
       "    <tr style=\"text-align: right;\">\n",
       "      <th></th>\n",
       "      <th>pisay_campus</th>\n",
       "      <th>pisay_lat</th>\n",
       "      <th>pisay_long</th>\n",
       "      <th>up_campus</th>\n",
       "      <th>up_lat</th>\n",
       "      <th>up_long</th>\n",
       "    </tr>\n",
       "  </thead>\n",
       "  <tbody>\n",
       "    <tr>\n",
       "      <th>0</th>\n",
       "      <td>main</td>\n",
       "      <td>14.650883</td>\n",
       "      <td>121.040362</td>\n",
       "      <td>UP DILIMAN</td>\n",
       "      <td>14.654224</td>\n",
       "      <td>121.066361</td>\n",
       "    </tr>\n",
       "    <tr>\n",
       "      <th>1</th>\n",
       "      <td>main</td>\n",
       "      <td>14.650883</td>\n",
       "      <td>121.040362</td>\n",
       "      <td>UP BAGUIO</td>\n",
       "      <td>16.405685</td>\n",
       "      <td>120.598333</td>\n",
       "    </tr>\n",
       "    <tr>\n",
       "      <th>2</th>\n",
       "      <td>main</td>\n",
       "      <td>14.650883</td>\n",
       "      <td>121.040362</td>\n",
       "      <td>UP CEBU</td>\n",
       "      <td>10.322567</td>\n",
       "      <td>123.898804</td>\n",
       "    </tr>\n",
       "    <tr>\n",
       "      <th>3</th>\n",
       "      <td>main</td>\n",
       "      <td>14.650883</td>\n",
       "      <td>121.040362</td>\n",
       "      <td>UP LOS BANOS</td>\n",
       "      <td>14.160529</td>\n",
       "      <td>121.242566</td>\n",
       "    </tr>\n",
       "    <tr>\n",
       "      <th>4</th>\n",
       "      <td>main</td>\n",
       "      <td>14.650883</td>\n",
       "      <td>121.040362</td>\n",
       "      <td>UP MANILA</td>\n",
       "      <td>14.575927</td>\n",
       "      <td>120.986437</td>\n",
       "    </tr>\n",
       "    <tr>\n",
       "      <th>...</th>\n",
       "      <td>...</td>\n",
       "      <td>...</td>\n",
       "      <td>...</td>\n",
       "      <td>...</td>\n",
       "      <td>...</td>\n",
       "      <td>...</td>\n",
       "    </tr>\n",
       "    <tr>\n",
       "      <th>86</th>\n",
       "      <td>cvisc</td>\n",
       "      <td>9.898906</td>\n",
       "      <td>123.585741</td>\n",
       "      <td>UP CEBU</td>\n",
       "      <td>10.322567</td>\n",
       "      <td>123.898804</td>\n",
       "    </tr>\n",
       "    <tr>\n",
       "      <th>87</th>\n",
       "      <td>cvisc</td>\n",
       "      <td>9.898906</td>\n",
       "      <td>123.585741</td>\n",
       "      <td>UP LOS BANOS</td>\n",
       "      <td>14.160529</td>\n",
       "      <td>121.242566</td>\n",
       "    </tr>\n",
       "    <tr>\n",
       "      <th>88</th>\n",
       "      <td>cvisc</td>\n",
       "      <td>9.898906</td>\n",
       "      <td>123.585741</td>\n",
       "      <td>UP MANILA</td>\n",
       "      <td>14.575927</td>\n",
       "      <td>120.986437</td>\n",
       "    </tr>\n",
       "    <tr>\n",
       "      <th>89</th>\n",
       "      <td>cvisc</td>\n",
       "      <td>9.898906</td>\n",
       "      <td>123.585741</td>\n",
       "      <td>UP MINDANAO</td>\n",
       "      <td>7.085106</td>\n",
       "      <td>125.485732</td>\n",
       "    </tr>\n",
       "    <tr>\n",
       "      <th>90</th>\n",
       "      <td>cvisc</td>\n",
       "      <td>9.898906</td>\n",
       "      <td>123.585741</td>\n",
       "      <td>UP VISAYAS</td>\n",
       "      <td>10.698313</td>\n",
       "      <td>122.555255</td>\n",
       "    </tr>\n",
       "  </tbody>\n",
       "</table>\n",
       "<p>91 rows × 6 columns</p>\n",
       "</div>"
      ],
      "text/plain": [
       "   pisay_campus  pisay_lat  pisay_long     up_campus     up_lat     up_long\n",
       "0          main  14.650883  121.040362    UP DILIMAN  14.654224  121.066361\n",
       "1          main  14.650883  121.040362     UP BAGUIO  16.405685  120.598333\n",
       "2          main  14.650883  121.040362       UP CEBU  10.322567  123.898804\n",
       "3          main  14.650883  121.040362  UP LOS BANOS  14.160529  121.242566\n",
       "4          main  14.650883  121.040362     UP MANILA  14.575927  120.986437\n",
       "..          ...        ...         ...           ...        ...         ...\n",
       "86        cvisc   9.898906  123.585741       UP CEBU  10.322567  123.898804\n",
       "87        cvisc   9.898906  123.585741  UP LOS BANOS  14.160529  121.242566\n",
       "88        cvisc   9.898906  123.585741     UP MANILA  14.575927  120.986437\n",
       "89        cvisc   9.898906  123.585741   UP MINDANAO   7.085106  125.485732\n",
       "90        cvisc   9.898906  123.585741    UP VISAYAS  10.698313  122.555255\n",
       "\n",
       "[91 rows x 6 columns]"
      ]
     },
     "execution_count": 30,
     "metadata": {},
     "output_type": "execute_result"
    }
   ],
   "source": [
    "#removing the join column\n",
    "df_distBetween = df_distBetween.drop(\"join\",axis=1)\n",
    "df_distBetween"
   ]
  },
  {
   "cell_type": "code",
   "execution_count": 31,
   "id": "c62d300f-3c45-4e28-9de2-591b6511a32a",
   "metadata": {},
   "outputs": [],
   "source": [
    "def getDistBetween(df):\n",
    "    loc1=(df.pisay_lat,df.pisay_long)\n",
    "    loc2=(df.up_lat,df.up_long)\n",
    "    return geopy.distance.distance(loc1,loc2).km"
   ]
  },
  {
   "cell_type": "code",
   "execution_count": 40,
   "id": "dcc281ed-0d33-484c-a6e2-a0cd45a8d179",
   "metadata": {},
   "outputs": [
    {
     "data": {
      "text/html": [
       "<div>\n",
       "<style scoped>\n",
       "    .dataframe tbody tr th:only-of-type {\n",
       "        vertical-align: middle;\n",
       "    }\n",
       "\n",
       "    .dataframe tbody tr th {\n",
       "        vertical-align: top;\n",
       "    }\n",
       "\n",
       "    .dataframe thead th {\n",
       "        text-align: right;\n",
       "    }\n",
       "</style>\n",
       "<table border=\"1\" class=\"dataframe\">\n",
       "  <thead>\n",
       "    <tr style=\"text-align: right;\">\n",
       "      <th></th>\n",
       "      <th>pisay_campus</th>\n",
       "      <th>pisay_lat</th>\n",
       "      <th>pisay_long</th>\n",
       "      <th>up_campus</th>\n",
       "      <th>up_lat</th>\n",
       "      <th>up_long</th>\n",
       "      <th>distBetween</th>\n",
       "      <th>quartile</th>\n",
       "    </tr>\n",
       "  </thead>\n",
       "  <tbody>\n",
       "    <tr>\n",
       "      <th>0</th>\n",
       "      <td>main</td>\n",
       "      <td>14.650883</td>\n",
       "      <td>121.040362</td>\n",
       "      <td>UP DILIMAN</td>\n",
       "      <td>14.654224</td>\n",
       "      <td>121.066361</td>\n",
       "      <td>2.824904</td>\n",
       "      <td>Q1</td>\n",
       "    </tr>\n",
       "    <tr>\n",
       "      <th>1</th>\n",
       "      <td>main</td>\n",
       "      <td>14.650883</td>\n",
       "      <td>121.040362</td>\n",
       "      <td>UP BAGUIO</td>\n",
       "      <td>16.405685</td>\n",
       "      <td>120.598333</td>\n",
       "      <td>199.882197</td>\n",
       "      <td>Q1</td>\n",
       "    </tr>\n",
       "    <tr>\n",
       "      <th>2</th>\n",
       "      <td>main</td>\n",
       "      <td>14.650883</td>\n",
       "      <td>121.040362</td>\n",
       "      <td>UP CEBU</td>\n",
       "      <td>10.322567</td>\n",
       "      <td>123.898804</td>\n",
       "      <td>570.762988</td>\n",
       "      <td>Q3</td>\n",
       "    </tr>\n",
       "    <tr>\n",
       "      <th>3</th>\n",
       "      <td>main</td>\n",
       "      <td>14.650883</td>\n",
       "      <td>121.040362</td>\n",
       "      <td>UP LOS BANOS</td>\n",
       "      <td>14.160529</td>\n",
       "      <td>121.242566</td>\n",
       "      <td>58.472384</td>\n",
       "      <td>Q1</td>\n",
       "    </tr>\n",
       "    <tr>\n",
       "      <th>4</th>\n",
       "      <td>main</td>\n",
       "      <td>14.650883</td>\n",
       "      <td>121.040362</td>\n",
       "      <td>UP MANILA</td>\n",
       "      <td>14.575927</td>\n",
       "      <td>120.986437</td>\n",
       "      <td>10.126051</td>\n",
       "      <td>Q1</td>\n",
       "    </tr>\n",
       "    <tr>\n",
       "      <th>...</th>\n",
       "      <td>...</td>\n",
       "      <td>...</td>\n",
       "      <td>...</td>\n",
       "      <td>...</td>\n",
       "      <td>...</td>\n",
       "      <td>...</td>\n",
       "      <td>...</td>\n",
       "      <td>...</td>\n",
       "    </tr>\n",
       "    <tr>\n",
       "      <th>86</th>\n",
       "      <td>cvisc</td>\n",
       "      <td>9.898906</td>\n",
       "      <td>123.585741</td>\n",
       "      <td>UP CEBU</td>\n",
       "      <td>10.322567</td>\n",
       "      <td>123.898804</td>\n",
       "      <td>58.079638</td>\n",
       "      <td>Q1</td>\n",
       "    </tr>\n",
       "    <tr>\n",
       "      <th>87</th>\n",
       "      <td>cvisc</td>\n",
       "      <td>9.898906</td>\n",
       "      <td>123.585741</td>\n",
       "      <td>UP LOS BANOS</td>\n",
       "      <td>14.160529</td>\n",
       "      <td>121.242566</td>\n",
       "      <td>536.019230</td>\n",
       "      <td>Q3</td>\n",
       "    </tr>\n",
       "    <tr>\n",
       "      <th>88</th>\n",
       "      <td>cvisc</td>\n",
       "      <td>9.898906</td>\n",
       "      <td>123.585741</td>\n",
       "      <td>UP MANILA</td>\n",
       "      <td>14.575927</td>\n",
       "      <td>120.986437</td>\n",
       "      <td>589.604402</td>\n",
       "      <td>Q3</td>\n",
       "    </tr>\n",
       "    <tr>\n",
       "      <th>89</th>\n",
       "      <td>cvisc</td>\n",
       "      <td>9.898906</td>\n",
       "      <td>123.585741</td>\n",
       "      <td>UP MINDANAO</td>\n",
       "      <td>7.085106</td>\n",
       "      <td>125.485732</td>\n",
       "      <td>374.971139</td>\n",
       "      <td>Q2</td>\n",
       "    </tr>\n",
       "    <tr>\n",
       "      <th>90</th>\n",
       "      <td>cvisc</td>\n",
       "      <td>9.898906</td>\n",
       "      <td>123.585741</td>\n",
       "      <td>UP VISAYAS</td>\n",
       "      <td>10.698313</td>\n",
       "      <td>122.555255</td>\n",
       "      <td>143.385791</td>\n",
       "      <td>Q1</td>\n",
       "    </tr>\n",
       "  </tbody>\n",
       "</table>\n",
       "<p>91 rows × 8 columns</p>\n",
       "</div>"
      ],
      "text/plain": [
       "   pisay_campus  pisay_lat  pisay_long     up_campus     up_lat     up_long  \\\n",
       "0          main  14.650883  121.040362    UP DILIMAN  14.654224  121.066361   \n",
       "1          main  14.650883  121.040362     UP BAGUIO  16.405685  120.598333   \n",
       "2          main  14.650883  121.040362       UP CEBU  10.322567  123.898804   \n",
       "3          main  14.650883  121.040362  UP LOS BANOS  14.160529  121.242566   \n",
       "4          main  14.650883  121.040362     UP MANILA  14.575927  120.986437   \n",
       "..          ...        ...         ...           ...        ...         ...   \n",
       "86        cvisc   9.898906  123.585741       UP CEBU  10.322567  123.898804   \n",
       "87        cvisc   9.898906  123.585741  UP LOS BANOS  14.160529  121.242566   \n",
       "88        cvisc   9.898906  123.585741     UP MANILA  14.575927  120.986437   \n",
       "89        cvisc   9.898906  123.585741   UP MINDANAO   7.085106  125.485732   \n",
       "90        cvisc   9.898906  123.585741    UP VISAYAS  10.698313  122.555255   \n",
       "\n",
       "    distBetween quartile  \n",
       "0      2.824904       Q1  \n",
       "1    199.882197       Q1  \n",
       "2    570.762988       Q3  \n",
       "3     58.472384       Q1  \n",
       "4     10.126051       Q1  \n",
       "..          ...      ...  \n",
       "86    58.079638       Q1  \n",
       "87   536.019230       Q3  \n",
       "88   589.604402       Q3  \n",
       "89   374.971139       Q2  \n",
       "90   143.385791       Q1  \n",
       "\n",
       "[91 rows x 8 columns]"
      ]
     },
     "execution_count": 40,
     "metadata": {},
     "output_type": "execute_result"
    }
   ],
   "source": [
    "#adding column df_distBetween\n",
    "#Note: it only measures straight line distance, roads not taken into account\n",
    "df_distBetween[\"distBetween\"]=df_distBetween.apply(getDistBetween,axis=1)\n",
    "df_distBetween.to_csv(\"distBetween.csv\",index=False)\n",
    "df_distBetween"
   ]
  },
  {
   "cell_type": "markdown",
   "id": "58ea2c00-ede2-4193-a03f-cc5c4e39ea0c",
   "metadata": {},
   "source": [
    "#### 4)Create a box plot that shows df_distBetween  "
   ]
  },
  {
   "cell_type": "code",
   "execution_count": 33,
   "id": "f4fc3872-e88c-4924-acee-2f80d623ab9e",
   "metadata": {},
   "outputs": [
    {
     "data": {
      "text/plain": [
       "<AxesSubplot:>"
      ]
     },
     "execution_count": 33,
     "metadata": {},
     "output_type": "execute_result"
    },
    {
     "data": {
      "image/png": "[encoded data removed]",
      "text/plain": [
       "<Figure size 1080x720 with 1 Axes>"
      ]
     },
     "metadata": {
      "needs_background": "light"
     },
     "output_type": "display_data"
    }
   ],
   "source": [
    "df_distBetween.boxplot(column=\"distBetween\",figsize=(15,10))"
   ]
  },
  {
   "cell_type": "markdown",
   "id": "13982b45-7cf3-4877-8350-7287858be229",
   "metadata": {},
   "source": [
    "#### 5)Divide df_distBetween into quartiles and name it quartile"
   ]
  },
  {
   "cell_type": "code",
   "execution_count": 34,
   "id": "098904b2-3424-453b-b286-be563f76c0d2",
   "metadata": {},
   "outputs": [
    {
     "data": {
      "text/html": [
       "<div>\n",
       "<style scoped>\n",
       "    .dataframe tbody tr th:only-of-type {\n",
       "        vertical-align: middle;\n",
       "    }\n",
       "\n",
       "    .dataframe tbody tr th {\n",
       "        vertical-align: top;\n",
       "    }\n",
       "\n",
       "    .dataframe thead th {\n",
       "        text-align: right;\n",
       "    }\n",
       "</style>\n",
       "<table border=\"1\" class=\"dataframe\">\n",
       "  <thead>\n",
       "    <tr style=\"text-align: right;\">\n",
       "      <th></th>\n",
       "      <th>pisay_lat</th>\n",
       "      <th>pisay_long</th>\n",
       "      <th>up_lat</th>\n",
       "      <th>up_long</th>\n",
       "      <th>distBetween</th>\n",
       "    </tr>\n",
       "  </thead>\n",
       "  <tbody>\n",
       "    <tr>\n",
       "      <th>count</th>\n",
       "      <td>91.000000</td>\n",
       "      <td>91.000000</td>\n",
       "      <td>91.000000</td>\n",
       "      <td>91.000000</td>\n",
       "      <td>91.000000</td>\n",
       "    </tr>\n",
       "    <tr>\n",
       "      <th>mean</th>\n",
       "      <td>12.477980</td>\n",
       "      <td>122.715597</td>\n",
       "      <td>12.557479</td>\n",
       "      <td>122.261927</td>\n",
       "      <td>483.644177</td>\n",
       "    </tr>\n",
       "    <tr>\n",
       "      <th>std</th>\n",
       "      <td>3.549750</td>\n",
       "      <td>1.969320</td>\n",
       "      <td>3.046332</td>\n",
       "      <td>1.700575</td>\n",
       "      <td>337.711067</td>\n",
       "    </tr>\n",
       "    <tr>\n",
       "      <th>min</th>\n",
       "      <td>6.488495</td>\n",
       "      <td>120.400996</td>\n",
       "      <td>7.085106</td>\n",
       "      <td>120.598333</td>\n",
       "      <td>2.555396</td>\n",
       "    </tr>\n",
       "    <tr>\n",
       "      <th>25%</th>\n",
       "      <td>9.898906</td>\n",
       "      <td>121.040362</td>\n",
       "      <td>10.322567</td>\n",
       "      <td>120.986437</td>\n",
       "      <td>206.657268</td>\n",
       "    </tr>\n",
       "    <tr>\n",
       "      <th>50%</th>\n",
       "      <td>13.694878</td>\n",
       "      <td>122.588237</td>\n",
       "      <td>14.160529</td>\n",
       "      <td>121.242566</td>\n",
       "      <td>435.943245</td>\n",
       "    </tr>\n",
       "    <tr>\n",
       "      <th>75%</th>\n",
       "      <td>15.191814</td>\n",
       "      <td>124.817582</td>\n",
       "      <td>14.654224</td>\n",
       "      <td>123.898804</td>\n",
       "      <td>748.253277</td>\n",
       "    </tr>\n",
       "    <tr>\n",
       "      <th>max</th>\n",
       "      <td>17.624193</td>\n",
       "      <td>125.594705</td>\n",
       "      <td>16.405685</td>\n",
       "      <td>125.485732</td>\n",
       "      <td>1290.034472</td>\n",
       "    </tr>\n",
       "  </tbody>\n",
       "</table>\n",
       "</div>"
      ],
      "text/plain": [
       "       pisay_lat  pisay_long     up_lat     up_long  distBetween\n",
       "count  91.000000   91.000000  91.000000   91.000000    91.000000\n",
       "mean   12.477980  122.715597  12.557479  122.261927   483.644177\n",
       "std     3.549750    1.969320   3.046332    1.700575   337.711067\n",
       "min     6.488495  120.400996   7.085106  120.598333     2.555396\n",
       "25%     9.898906  121.040362  10.322567  120.986437   206.657268\n",
       "50%    13.694878  122.588237  14.160529  121.242566   435.943245\n",
       "75%    15.191814  124.817582  14.654224  123.898804   748.253277\n",
       "max    17.624193  125.594705  16.405685  125.485732  1290.034472"
      ]
     },
     "execution_count": 34,
     "metadata": {},
     "output_type": "execute_result"
    }
   ],
   "source": [
    "#Viewing the quartiles\n",
    "df_distBetween.describe()"
   ]
  },
  {
   "cell_type": "code",
   "execution_count": 35,
   "id": "9751d021-92d5-428a-ae58-bc14c82e07a7",
   "metadata": {},
   "outputs": [
    {
     "data": {
      "text/html": [
       "<div>\n",
       "<style scoped>\n",
       "    .dataframe tbody tr th:only-of-type {\n",
       "        vertical-align: middle;\n",
       "    }\n",
       "\n",
       "    .dataframe tbody tr th {\n",
       "        vertical-align: top;\n",
       "    }\n",
       "\n",
       "    .dataframe thead th {\n",
       "        text-align: right;\n",
       "    }\n",
       "</style>\n",
       "<table border=\"1\" class=\"dataframe\">\n",
       "  <thead>\n",
       "    <tr style=\"text-align: right;\">\n",
       "      <th></th>\n",
       "      <th>pisay_campus</th>\n",
       "      <th>pisay_lat</th>\n",
       "      <th>pisay_long</th>\n",
       "      <th>up_campus</th>\n",
       "      <th>up_lat</th>\n",
       "      <th>up_long</th>\n",
       "      <th>distBetween</th>\n",
       "      <th>quartile</th>\n",
       "    </tr>\n",
       "  </thead>\n",
       "  <tbody>\n",
       "    <tr>\n",
       "      <th>0</th>\n",
       "      <td>main</td>\n",
       "      <td>14.650883</td>\n",
       "      <td>121.040362</td>\n",
       "      <td>UP DILIMAN</td>\n",
       "      <td>14.654224</td>\n",
       "      <td>121.066361</td>\n",
       "      <td>2.824904</td>\n",
       "      <td>Q1</td>\n",
       "    </tr>\n",
       "    <tr>\n",
       "      <th>1</th>\n",
       "      <td>main</td>\n",
       "      <td>14.650883</td>\n",
       "      <td>121.040362</td>\n",
       "      <td>UP BAGUIO</td>\n",
       "      <td>16.405685</td>\n",
       "      <td>120.598333</td>\n",
       "      <td>199.882197</td>\n",
       "      <td>Q1</td>\n",
       "    </tr>\n",
       "    <tr>\n",
       "      <th>2</th>\n",
       "      <td>main</td>\n",
       "      <td>14.650883</td>\n",
       "      <td>121.040362</td>\n",
       "      <td>UP CEBU</td>\n",
       "      <td>10.322567</td>\n",
       "      <td>123.898804</td>\n",
       "      <td>570.762988</td>\n",
       "      <td>Q3</td>\n",
       "    </tr>\n",
       "    <tr>\n",
       "      <th>3</th>\n",
       "      <td>main</td>\n",
       "      <td>14.650883</td>\n",
       "      <td>121.040362</td>\n",
       "      <td>UP LOS BANOS</td>\n",
       "      <td>14.160529</td>\n",
       "      <td>121.242566</td>\n",
       "      <td>58.472384</td>\n",
       "      <td>Q1</td>\n",
       "    </tr>\n",
       "    <tr>\n",
       "      <th>4</th>\n",
       "      <td>main</td>\n",
       "      <td>14.650883</td>\n",
       "      <td>121.040362</td>\n",
       "      <td>UP MANILA</td>\n",
       "      <td>14.575927</td>\n",
       "      <td>120.986437</td>\n",
       "      <td>10.126051</td>\n",
       "      <td>Q1</td>\n",
       "    </tr>\n",
       "    <tr>\n",
       "      <th>...</th>\n",
       "      <td>...</td>\n",
       "      <td>...</td>\n",
       "      <td>...</td>\n",
       "      <td>...</td>\n",
       "      <td>...</td>\n",
       "      <td>...</td>\n",
       "      <td>...</td>\n",
       "      <td>...</td>\n",
       "    </tr>\n",
       "    <tr>\n",
       "      <th>86</th>\n",
       "      <td>cvisc</td>\n",
       "      <td>9.898906</td>\n",
       "      <td>123.585741</td>\n",
       "      <td>UP CEBU</td>\n",
       "      <td>10.322567</td>\n",
       "      <td>123.898804</td>\n",
       "      <td>58.079638</td>\n",
       "      <td>Q1</td>\n",
       "    </tr>\n",
       "    <tr>\n",
       "      <th>87</th>\n",
       "      <td>cvisc</td>\n",
       "      <td>9.898906</td>\n",
       "      <td>123.585741</td>\n",
       "      <td>UP LOS BANOS</td>\n",
       "      <td>14.160529</td>\n",
       "      <td>121.242566</td>\n",
       "      <td>536.019230</td>\n",
       "      <td>Q3</td>\n",
       "    </tr>\n",
       "    <tr>\n",
       "      <th>88</th>\n",
       "      <td>cvisc</td>\n",
       "      <td>9.898906</td>\n",
       "      <td>123.585741</td>\n",
       "      <td>UP MANILA</td>\n",
       "      <td>14.575927</td>\n",
       "      <td>120.986437</td>\n",
       "      <td>589.604402</td>\n",
       "      <td>Q3</td>\n",
       "    </tr>\n",
       "    <tr>\n",
       "      <th>89</th>\n",
       "      <td>cvisc</td>\n",
       "      <td>9.898906</td>\n",
       "      <td>123.585741</td>\n",
       "      <td>UP MINDANAO</td>\n",
       "      <td>7.085106</td>\n",
       "      <td>125.485732</td>\n",
       "      <td>374.971139</td>\n",
       "      <td>Q2</td>\n",
       "    </tr>\n",
       "    <tr>\n",
       "      <th>90</th>\n",
       "      <td>cvisc</td>\n",
       "      <td>9.898906</td>\n",
       "      <td>123.585741</td>\n",
       "      <td>UP VISAYAS</td>\n",
       "      <td>10.698313</td>\n",
       "      <td>122.555255</td>\n",
       "      <td>143.385791</td>\n",
       "      <td>Q1</td>\n",
       "    </tr>\n",
       "  </tbody>\n",
       "</table>\n",
       "<p>91 rows × 8 columns</p>\n",
       "</div>"
      ],
      "text/plain": [
       "   pisay_campus  pisay_lat  pisay_long     up_campus     up_lat     up_long  \\\n",
       "0          main  14.650883  121.040362    UP DILIMAN  14.654224  121.066361   \n",
       "1          main  14.650883  121.040362     UP BAGUIO  16.405685  120.598333   \n",
       "2          main  14.650883  121.040362       UP CEBU  10.322567  123.898804   \n",
       "3          main  14.650883  121.040362  UP LOS BANOS  14.160529  121.242566   \n",
       "4          main  14.650883  121.040362     UP MANILA  14.575927  120.986437   \n",
       "..          ...        ...         ...           ...        ...         ...   \n",
       "86        cvisc   9.898906  123.585741       UP CEBU  10.322567  123.898804   \n",
       "87        cvisc   9.898906  123.585741  UP LOS BANOS  14.160529  121.242566   \n",
       "88        cvisc   9.898906  123.585741     UP MANILA  14.575927  120.986437   \n",
       "89        cvisc   9.898906  123.585741   UP MINDANAO   7.085106  125.485732   \n",
       "90        cvisc   9.898906  123.585741    UP VISAYAS  10.698313  122.555255   \n",
       "\n",
       "    distBetween quartile  \n",
       "0      2.824904       Q1  \n",
       "1    199.882197       Q1  \n",
       "2    570.762988       Q3  \n",
       "3     58.472384       Q1  \n",
       "4     10.126051       Q1  \n",
       "..          ...      ...  \n",
       "86    58.079638       Q1  \n",
       "87   536.019230       Q3  \n",
       "88   589.604402       Q3  \n",
       "89   374.971139       Q2  \n",
       "90   143.385791       Q1  \n",
       "\n",
       "[91 rows x 8 columns]"
      ]
     },
     "execution_count": 35,
     "metadata": {},
     "output_type": "execute_result"
    }
   ],
   "source": [
    "#adding a column to df_distBetween called quartile\n",
    "df_distBetween[\"quartile\"]=pd.qcut(df_distBetween[\"distBetween\"],4,labels=[\"Q1\",\"Q2\",\"Q3\",\"Q4\"])\n",
    "df_distBetween"
   ]
  },
  {
   "cell_type": "markdown",
   "id": "a5c522cc-6cbd-434d-94a9-2cfebd2bc64a",
   "metadata": {},
   "source": [
    "### C.Analysis between distance and passers\n"
   ]
  },
  {
   "cell_type": "markdown",
   "id": "5f045da1-6f62-4e8e-b406-d98030ce3444",
   "metadata": {},
   "source": [
    "#### 1)Group df_passersUp by distance percentile name it df_passersUpVsDist  \n"
   ]
  },
  {
   "cell_type": "code",
   "execution_count": 36,
   "id": "90aefc4a-aa1b-4cfd-8a47-e9e025cbccf8",
   "metadata": {},
   "outputs": [],
   "source": [
    "#get columns from df_passers\n",
    "df_passersSub=df_passers[[\"pass_campus\",\"campus\"]]\n",
    "df_passersSub.columns=[\"up_campus\",\"pisay_campus\"]\n",
    "#join df_passersSub and df_distBetween based on pisay_campus and up_campus\n",
    "df_passersUpVsDist= pd.merge(df_passersSub,df_distBetween[[\"pisay_campus\",\"up_campus\",\"quartile\"]],on=[\"pisay_campus\",\"up_campus\"],how=\"left\")\n"
   ]
  },
  {
   "cell_type": "markdown",
   "id": "312de89c-dbdd-4917-8d88-0f1b0fb0179e",
   "metadata": {},
   "source": [
    "#### 2)Create a bar graph describing df_passersUpVsDist "
   ]
  },
  {
   "cell_type": "code",
   "execution_count": 37,
   "id": "0640ec8f-0c2c-49e2-af59-7e02d9ef9d1d",
   "metadata": {},
   "outputs": [
    {
     "data": {
      "text/plain": [
       "Q1    229\n",
       "Q2     67\n",
       "Q3     63\n",
       "Q4     29\n",
       "Name: quartile, dtype: int64"
      ]
     },
     "execution_count": 37,
     "metadata": {},
     "output_type": "execute_result"
    }
   ],
   "source": [
    "passersByQuartile=df_passersUpVsDist[\"quartile\"].value_counts()\n",
    "passersByQuartile"
   ]
  },
  {
   "cell_type": "code",
   "execution_count": 38,
   "id": "66faa711-b815-455f-97ce-f110d1596700",
   "metadata": {},
   "outputs": [
    {
     "data": {
      "text/plain": [
       "<AxesSubplot:title={'center':'Number of Accepted UP Applicants Based on Distance Percentile from PSHS Campus to UP Campus'}, xlabel='Distance Quartiles', ylabel='Number of Accepted Applicants'>"
      ]
     },
     "execution_count": 38,
     "metadata": {},
     "output_type": "execute_result"
    },
    {
     "data": {
      "image/png": "[encoded data removed]",
      "text/plain": [
       "<Figure size 1080x720 with 1 Axes>"
      ]
     },
     "metadata": {
      "needs_background": "light"
     },
     "output_type": "display_data"
    }
   ],
   "source": [
    "passersByQuartile.plot(kind=\"bar\",figsize=(15,10),title=\"Number of Accepted UP Applicants Based on Distance Percentile from PSHS Campus to UP Campus\",xlabel=\"Distance Quartiles\",ylabel=\"Number of Accepted Applicants\")"
   ]
  },
  {
   "cell_type": "code",
   "execution_count": null,
   "id": "c53f3304-b393-4991-b628-eb020d9cccf8",
   "metadata": {},
   "outputs": [],
   "source": []
  },
  {
   "cell_type": "code",
   "execution_count": null,
   "id": "4f6bef3c-8d9e-414f-8e19-440420903216",
   "metadata": {},
   "outputs": [],
   "source": []
  },
  {
   "cell_type": "code",
   "execution_count": null,
   "id": "1231d2c0-c6be-4767-956f-230e5e4e4d57",
   "metadata": {},
   "outputs": [],
   "source": []
  },
  {
   "cell_type": "code",
   "execution_count": null,
   "id": "7f3d2c68-2145-427a-b379-4f5e5fb7d056",
   "metadata": {},
   "outputs": [],
   "source": []
  },
  {
   "cell_type": "code",
   "execution_count": null,
   "id": "d75a7417-20d5-486e-bbff-a5cf7c819f0e",
   "metadata": {},
   "outputs": [],
   "source": []
  },
  {
   "cell_type": "code",
   "execution_count": null,
   "id": "87674fb3-c0e2-4ece-8310-c9fd0f23d3f6",
   "metadata": {},
   "outputs": [],
   "source": []
  },
  {
   "cell_type": "code",
   "execution_count": null,
   "id": "311a46a6-0f12-4693-9420-a0b9bc4e84cc",
   "metadata": {},
   "outputs": [],
   "source": []
  },
  {
   "cell_type": "code",
   "execution_count": null,
   "id": "46e9224c-749c-42d5-8de3-0756ba4c0f9e",
   "metadata": {},
   "outputs": [],
   "source": []
  },
  {
   "cell_type": "code",
   "execution_count": null,
   "id": "78d0c994-b02b-41c4-8f50-bca30143d42f",
   "metadata": {},
   "outputs": [],
   "source": []
  },
  {
   "cell_type": "code",
   "execution_count": null,
   "id": "f0648bee-2a45-4212-b040-f7e0152b0f5a",
   "metadata": {},
   "outputs": [],
   "source": []
  },
  {
   "cell_type": "code",
   "execution_count": null,
   "id": "336b7056-7658-40bd-94cc-ef177f95d843",
   "metadata": {},
   "outputs": [],
   "source": []
  },
  {
   "cell_type": "code",
   "execution_count": null,
   "id": "e2bf5aba-29e8-45bd-99ed-ce550b2750ec",
   "metadata": {},
   "outputs": [],
   "source": []
  }
 ],
 "metadata": {
  "kernelspec": {
   "display_name": "Python 3 (ipykernel)",
   "language": "python",
   "name": "python3"
  },
  "language_info": {
   "codemirror_mode": {
    "name": "ipython",
    "version": 3
   },
   "file_extension": ".py",
   "mimetype": "text/x-python",
   "name": "python",
   "nbconvert_exporter": "python",
   "pygments_lexer": "ipython3",
   "version": "3.7.7"
  }
 },
 "nbformat": 4,
 "nbformat_minor": 5
}
